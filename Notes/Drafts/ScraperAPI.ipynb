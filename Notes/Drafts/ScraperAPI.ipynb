{
 "cells": [
  {
   "cell_type": "markdown",
   "source": [
    "# ScraperAPI\n"
   ],
   "metadata": {
    "collapsed": false,
    "pycharm": {
     "name": "#%% md\n"
    }
   }
  },
  {
   "cell_type": "code",
   "execution_count": 18,
   "outputs": [],
   "source": [
    "import requests\n",
    "import pandas as pd"
   ],
   "metadata": {
    "collapsed": false,
    "pycharm": {
     "name": "#%%\n"
    }
   }
  },
  {
   "cell_type": "code",
   "execution_count": 19,
   "outputs": [],
   "source": [
    "payload = {\n",
    "    'api_key':'952616fbb0d99ae551c692c5666764a7',\n",
    "    'query': '#bitcoin',\n",
    "    'num': '500',\n",
    "    # 'time_period': '1D'\n",
    "    'date_range_start': '2023-01-01',\n",
    "    'date_range_end': '2023-02-01'\n",
    "}\n",
    "\n",
    "response = requests.get(\n",
    "    'https://api.scraperapi.com/structured/twitter/search', params=payload\n",
    ")\n"
   ],
   "metadata": {
    "collapsed": false,
    "pycharm": {
     "name": "#%%\n"
    }
   }
  },
  {
   "cell_type": "code",
   "execution_count": 27,
   "outputs": [
    {
     "name": "stdout",
     "output_type": "stream",
     "text": [
      "b'{\"search_information\":{\"total_results\":27900,\"time_taken_displayed\":0.3},\"organic_results\":[{\"position\":0,\"title\":\"The Bitcoin Conference\",\"tags\":\"Jan 18, 2023 \\xe2\\x80\\x94\",\"snippet\":\"Jan 18, 2023 \\xe2\\x80\\x94 Governments trying to control #Bitcoin like. Embedded video. 0:14. 6:02 PM \\xc2\\xb7 Jan 18, 2023. \\xc2\\xb7. 248.7K. Views. 684. Retweets \\xc2\\xb7 69. Quotes \\xc2\\xb7 2,696. Likes. 44.\",\"highlighs\":[\"Bitcoin\"],\"link\":\"https://twitter.com/TheBitcoinConf/status/1615771517744201733\",\"displayed_link\":\"https://twitter.com \\xe2\\x80\\xba TheBitcoinConf \\xe2\\x80\\xba status\"},{\"position\":1,\"title\":\"NOAH \\xe2\\x9a\\xa1\\xef\\xb8\\x8f (@Noah_HQ) / Twitter\",\"tags\":\"Jan 15, 2023 \\xe2\\x80\\x94\",\"snippet\":\"Jan 15, 2023 \\xe2\\x80\\x94 Buying #bitcoin just got a whole lot easier. So, what are you waiting for? Slide over, buy some Bitcoin using NOAH, Google or Apple Pay.\",\"highlighs\":[\"bitcoin\"],\"link\":\"https://twitter.com/Noah_HQ\",\"displayed_link\":\"https://twitter.com \\xe2\\x80\\xba Noah_HQ\"},{\"position\":2,\"title\":\"Binance\",\"tags\":\"Jan 3, 2023 \\xe2\\x80\\x94\",\"snippet\":\"Jan 3, 2023 \\xe2\\x80\\x94 #Bitcoin turns 14 On this day fourteen years ago, the first #Bitcoin block was mined by Satoshi Nakamoto. Thank you, Satoshi. Image. 1:25 PM \\xc2\\xb7 Jan 3,\\xc2\\xa0...\",\"highlighs\":[\"Bitcoin\",\"Bitcoin\"],\"link\":\"https://twitter.com/binance/status/1610266061638717442\",\"displayed_link\":\"https://twitter.com \\xe2\\x80\\xba binance \\xe2\\x80\\xba status\"},{\"position\":3,\"title\":\"Glassnode\",\"tags\":\"Jan 12, 2023 \\xe2\\x80\\x94\",\"snippet\":\"Jan 12, 2023 \\xe2\\x80\\x94 As #Bitcoin rallies to $18.2k, over 13% of the Circulating Supply has returned to profit. The observed sharp move upwards in this metric helps to confirm\\xc2\\xa0...\",\"highlighs\":[\"Bitcoin\"],\"link\":\"https://twitter.com/glassnode/status/1613405398551367681\",\"displayed_link\":\"https://twitter.com \\xe2\\x80\\xba glassnode \\xe2\\x80\\xba status\"},{\"position\":4,\"title\":\"Ledger\",\"tags\":\"Feb 1, 2023 \\xe2\\x80\\x94\",\"snippet\":\"Feb 1, 2023 \\xe2\\x80\\x94 When #Bitcoin was first created, it introduced the concept of \\xe2\\x80\\x9ccoins\\xe2\\x80\\x9d on the blockchain. Then #Ethereum arrived and introduced \\xe2\\x80\\x9cERC tokens.\",\"highlighs\":[\"Bitcoin\"],\"link\":\"https://twitter.com/Ledger/status/1620756033583841281\",\"displayed_link\":\"https://twitter.com \\xe2\\x80\\xba Ledger \\xe2\\x80\\xba status\"},{\"position\":5,\"title\":\"Glassnode\",\"tags\":\"Jan 24, 2023 \\xe2\\x80\\x94\",\"snippet\":\"Jan 24, 2023 \\xe2\\x80\\x94 The recent surge in #Bitcoin price action has resulted in an initial breakout above all three cost-basis for the first time since the 2018/19 bear market\\xc2\\xa0...\",\"highlighs\":[\"Bitcoin\"],\"link\":\"https://twitter.com/glassnode/status/1617865019508539392\",\"displayed_link\":\"https://twitter.com \\xe2\\x80\\xba glassnode \\xe2\\x80\\xba status\"},{\"position\":6,\"title\":\"The Bitcoin Conference\",\"tags\":\"Jan 26, 2023 \\xe2\\x80\\x94\",\"snippet\":\"Jan 26, 2023 \\xe2\\x80\\x94 #bitcoin2023 - The Future of #Bitcoin Starts Here Join us in Miami Beach May 18-20 for 3 days of education, celebration & hyperbitcoinization!\",\"highlighs\":[\"Bitcoin\"],\"link\":\"https://twitter.com/TheBitcoinConf/status/1618754494959087616\",\"displayed_link\":\"https://twitter.com \\xe2\\x80\\xba TheBitcoinConf \\xe2\\x80\\xba status\"},{\"position\":7,\"title\":\"Luke Broyles\",\"tags\":\"Jan 25, 2023 \\xe2\\x80\\x94\",\"snippet\":\"Jan 25, 2023 \\xe2\\x80\\x94 HOW MUCH #BITCOIN to get rich and fund your lifestyle? HOW LITTLE #BITCOIN to protect yourself against inevitable inflation, bank runs, and fiat demise?\",\"highlighs\":[\"BITCOIN\",\"BITCOIN\"],\"link\":\"https://twitter.com/luke_broyles/status/1618252730954567680\",\"displayed_link\":\"https://twitter.com \\xe2\\x80\\xba luke_broyles \\xe2\\x80\\xba status\"},{\"position\":8,\"title\":\"Orange Pill App\",\"tags\":\"Jan 12, 2023 \\xe2\\x80\\x94\",\"snippet\":\"Jan 12, 2023 \\xe2\\x80\\x94 #Bitcoin and the Fibonacci Spiral Exponential growth is powerful. Halving is an equally powerful principle. ; #Bitcoin embodies both exponential network effects\\xc2\\xa0...\",\"highlighs\":[\"Bitcoin\",\"Bitcoin\"],\"link\":\"https://twitter.com/orangepillapp/status/1613537406015119362\",\"displayed_link\":\"https://twitter.com \\xe2\\x80\\xba orangepillapp \\xe2\\x80\\xba status\"},{\"position\":9,\"title\":\"Documenting \\xe2\\x82\\xbfitcoin\",\"tags\":\"Jan 10, 2023 \\xe2\\x80\\x94\",\"snippet\":\"Jan 10, 2023 \\xe2\\x80\\x94 Each dot on this #bitcoin price chart is a news headline calling it \\\\\"dead\\\\\" or \\\\\"failed\\\\\". #Bitcoin has proven every critic wrong for over 14 years.\",\"highlighs\":[\"bitcoin\",\"Bitcoin\"],\"link\":\"https://twitter.com/DocumentingBTC/status/1612960905679065088\",\"displayed_link\":\"https://twitter.com \\xe2\\x80\\xba DocumentingBTC \\xe2\\x80\\xba status\"}],\"pagination\":{\"pages_count\":1}}'\n"
     ]
    }
   ],
   "source": [
    "print(response.content)"
   ],
   "metadata": {
    "collapsed": false,
    "pycharm": {
     "name": "#%%\n"
    }
   }
  },
  {
   "cell_type": "code",
   "execution_count": 28,
   "outputs": [],
   "source": [
    "data = response.json()"
   ],
   "metadata": {
    "collapsed": false,
    "pycharm": {
     "name": "#%%\n"
    }
   }
  },
  {
   "cell_type": "code",
   "execution_count": 16,
   "outputs": [
    {
     "data": {
      "text/plain": "{'search_information': {'total_results': 36000, 'time_taken_displayed': 0.48},\n 'organic_results': [{'position': 0,\n   'title': 'The Bitcoin Conference',\n   'tags': 'Jan 18, 2023 —',\n   'snippet': 'Jan 18, 2023 — Governments trying to control #Bitcoin like. Embedded video. 0:14. 6:02 PM · Jan 18, 2023. ·. 248.7K. Views. 684. Retweets · 69. Quotes · 2,696. Likes. 44.',\n   'highlighs': ['Bitcoin'],\n   'link': 'https://twitter.com/TheBitcoinConf/status/1615771517744201733',\n   'displayed_link': 'https://twitter.com › TheBitcoinConf › status'},\n  {'position': 1,\n   'title': 'NOAH ⚡️ (@Noah_HQ) / Twitter',\n   'tags': 'Jan 15, 2023 —',\n   'snippet': 'Jan 15, 2023 — Buying #bitcoin just got a whole lot easier. So, what are you waiting for? Slide over, buy some Bitcoin using NOAH, Google or Apple Pay.',\n   'highlighs': ['bitcoin'],\n   'link': 'https://twitter.com/Noah_HQ',\n   'displayed_link': 'https://twitter.com › Noah_HQ'},\n  {'position': 2,\n   'title': 'Binance',\n   'tags': 'Jan 3, 2023 —',\n   'snippet': 'Jan 3, 2023 — #Bitcoin turns 14 On this day fourteen years ago, the first #Bitcoin block was mined by Satoshi Nakamoto. Thank you, Satoshi. Image. 1:25 PM · Jan 3,\\xa0...',\n   'highlighs': ['Bitcoin', 'Bitcoin'],\n   'link': 'https://twitter.com/binance/status/1610266061638717442',\n   'displayed_link': 'https://twitter.com › binance › status'},\n  {'position': 3,\n   'title': 'Glassnode',\n   'tags': 'Jan 12, 2023 —',\n   'snippet': 'Jan 12, 2023 — As #Bitcoin rallies to $18.2k, over 13% of the Circulating Supply has returned to profit. The observed sharp move upwards in this metric helps to confirm\\xa0...',\n   'highlighs': ['Bitcoin'],\n   'link': 'https://twitter.com/glassnode/status/1613405398551367681',\n   'displayed_link': 'https://twitter.com › glassnode › status'},\n  {'position': 4,\n   'title': 'Ledger',\n   'tags': 'Feb 1, 2023 —',\n   'snippet': 'Feb 1, 2023 — When #Bitcoin was first created, it introduced the concept of “coins” on the blockchain. Then #Ethereum arrived and introduced “ERC tokens.',\n   'highlighs': ['Bitcoin'],\n   'link': 'https://twitter.com/Ledger/status/1620756033583841281',\n   'displayed_link': 'https://twitter.com › Ledger › status'},\n  {'position': 5,\n   'title': 'Glassnode',\n   'tags': 'Jan 24, 2023 —',\n   'snippet': 'Jan 24, 2023 — The recent surge in #Bitcoin price action has resulted in an initial breakout above all three cost-basis for the first time since the 2018/19 bear market\\xa0...',\n   'highlighs': ['Bitcoin'],\n   'link': 'https://twitter.com/glassnode/status/1617865019508539392',\n   'displayed_link': 'https://twitter.com › glassnode › status'},\n  {'position': 6,\n   'title': 'The Bitcoin Conference',\n   'tags': 'Jan 26, 2023 —',\n   'snippet': 'Jan 26, 2023 — #bitcoin2023 - The Future of #Bitcoin Starts Here Join us in Miami Beach May 18-20 for 3 days of education, celebration & hyperbitcoinization!',\n   'highlighs': ['Bitcoin'],\n   'link': 'https://twitter.com/TheBitcoinConf/status/1618754494959087616',\n   'displayed_link': 'https://twitter.com › TheBitcoinConf › status'},\n  {'position': 7,\n   'title': 'Orange Pill App',\n   'tags': 'Jan 12, 2023 —',\n   'snippet': 'Jan 12, 2023 — #Bitcoin and the Fibonacci Spiral Exponential growth is powerful. Halving is an equally powerful principle. ; #Bitcoin embodies both exponential network effects\\xa0...',\n   'highlighs': ['Bitcoin', 'Bitcoin'],\n   'link': 'https://twitter.com/orangepillapp/status/1613537406015119362',\n   'displayed_link': 'https://twitter.com › orangepillapp › status'},\n  {'position': 8,\n   'title': 'Luke Broyles',\n   'tags': 'Jan 25, 2023 —',\n   'snippet': 'Jan 25, 2023 — HOW MUCH #BITCOIN to get rich and fund your lifestyle? HOW LITTLE #BITCOIN to protect yourself against inevitable inflation, bank runs, and fiat demise?',\n   'highlighs': ['BITCOIN', 'BITCOIN'],\n   'link': 'https://twitter.com/luke_broyles/status/1618252730954567680',\n   'displayed_link': 'https://twitter.com › luke_broyles › status'},\n  {'position': 9,\n   'title': 'Documenting ₿itcoin',\n   'tags': 'Jan 10, 2023 —',\n   'snippet': 'Jan 10, 2023 — Each dot on this #bitcoin price chart is a news headline calling it \"dead\" or \"failed\". #Bitcoin has proven every critic wrong for over 14 years.',\n   'highlighs': ['bitcoin', 'Bitcoin'],\n   'link': 'https://twitter.com/DocumentingBTC/status/1612960905679065088',\n   'displayed_link': 'https://twitter.com › DocumentingBTC › status'}],\n 'pagination': {'pages_count': 10,\n  'current_page': 1,\n  'next_page_url': 'https://www.google.com/search?q=site:twitter.com+%22%23bitcoin%22&gl=US&tbs=cdr:1,cd_min:01/01/2023,cd_max:02/01/2023&ei=djCwZIX-Bp7R1sQPrr6c6AM&start=10&sa=N&ved=2ahUKEwiFkdn7loyAAxWeqJUCHS4fBz0Q8tMDegQIIBAE',\n  'pages': [{'page': 2,\n    'url': 'https://www.google.com/search?q=site:twitter.com+%22%23bitcoin%22&gl=US&tbs=cdr:1,cd_min:01/01/2023,cd_max:02/01/2023&ei=djCwZIX-Bp7R1sQPrr6c6AM&start=10&sa=N&ved=2ahUKEwiFkdn7loyAAxWeqJUCHS4fBz0Q8tMDegQIIBAE'},\n   {'page': 3,\n    'url': 'https://www.google.com/search?q=site:twitter.com+%22%23bitcoin%22&gl=US&tbs=cdr:1,cd_min:01/01/2023,cd_max:02/01/2023&ei=djCwZIX-Bp7R1sQPrr6c6AM&start=20&sa=N&ved=2ahUKEwiFkdn7loyAAxWeqJUCHS4fBz0Q8tMDegQIIBAG'},\n   {'page': 4,\n    'url': 'https://www.google.com/search?q=site:twitter.com+%22%23bitcoin%22&gl=US&tbs=cdr:1,cd_min:01/01/2023,cd_max:02/01/2023&ei=djCwZIX-Bp7R1sQPrr6c6AM&start=30&sa=N&ved=2ahUKEwiFkdn7loyAAxWeqJUCHS4fBz0Q8tMDegQIIBAI'},\n   {'page': 5,\n    'url': 'https://www.google.com/search?q=site:twitter.com+%22%23bitcoin%22&gl=US&tbs=cdr:1,cd_min:01/01/2023,cd_max:02/01/2023&ei=djCwZIX-Bp7R1sQPrr6c6AM&start=40&sa=N&ved=2ahUKEwiFkdn7loyAAxWeqJUCHS4fBz0Q8tMDegQIIBAK'},\n   {'page': 6,\n    'url': 'https://www.google.com/search?q=site:twitter.com+%22%23bitcoin%22&gl=US&tbs=cdr:1,cd_min:01/01/2023,cd_max:02/01/2023&ei=djCwZIX-Bp7R1sQPrr6c6AM&start=50&sa=N&ved=2ahUKEwiFkdn7loyAAxWeqJUCHS4fBz0Q8tMDegQIIBAM'},\n   {'page': 7,\n    'url': 'https://www.google.com/search?q=site:twitter.com+%22%23bitcoin%22&gl=US&tbs=cdr:1,cd_min:01/01/2023,cd_max:02/01/2023&ei=djCwZIX-Bp7R1sQPrr6c6AM&start=60&sa=N&ved=2ahUKEwiFkdn7loyAAxWeqJUCHS4fBz0Q8tMDegQIIBAO'},\n   {'page': 8,\n    'url': 'https://www.google.com/search?q=site:twitter.com+%22%23bitcoin%22&gl=US&tbs=cdr:1,cd_min:01/01/2023,cd_max:02/01/2023&ei=djCwZIX-Bp7R1sQPrr6c6AM&start=70&sa=N&ved=2ahUKEwiFkdn7loyAAxWeqJUCHS4fBz0Q8tMDegQIIBAQ'},\n   {'page': 9,\n    'url': 'https://www.google.com/search?q=site:twitter.com+%22%23bitcoin%22&gl=US&tbs=cdr:1,cd_min:01/01/2023,cd_max:02/01/2023&ei=djCwZIX-Bp7R1sQPrr6c6AM&start=80&sa=N&ved=2ahUKEwiFkdn7loyAAxWeqJUCHS4fBz0Q8tMDegQIIBAS'},\n   {'page': 10,\n    'url': 'https://www.google.com/search?q=site:twitter.com+%22%23bitcoin%22&gl=US&tbs=cdr:1,cd_min:01/01/2023,cd_max:02/01/2023&ei=djCwZIX-Bp7R1sQPrr6c6AM&start=90&sa=N&ved=2ahUKEwiFkdn7loyAAxWeqJUCHS4fBz0Q8tMDegQIIBAU'}]}}"
     },
     "execution_count": 16,
     "metadata": {},
     "output_type": "execute_result"
    }
   ],
   "source": [
    "twitter_data = []"
   ],
   "metadata": {
    "collapsed": false,
    "pycharm": {
     "name": "#%%\n"
    }
   }
  },
  {
   "cell_type": "code",
   "execution_count": 29,
   "outputs": [
    {
     "data": {
      "text/plain": "10"
     },
     "execution_count": 29,
     "metadata": {},
     "output_type": "execute_result"
    }
   ],
   "source": [
    "tweets=data['organic_results']\n",
    "len(tweets)"
   ],
   "metadata": {
    "collapsed": false,
    "pycharm": {
     "name": "#%%\n"
    }
   }
  },
  {
   "cell_type": "code",
   "execution_count": null,
   "outputs": [],
   "source": [],
   "metadata": {
    "collapsed": false,
    "pycharm": {
     "name": "#%%\n"
    }
   }
  }
 ],
 "metadata": {
  "kernelspec": {
   "display_name": "Python 3",
   "language": "python",
   "name": "python3"
  },
  "language_info": {
   "codemirror_mode": {
    "name": "ipython",
    "version": 2
   },
   "file_extension": ".py",
   "mimetype": "text/x-python",
   "name": "python",
   "nbconvert_exporter": "python",
   "pygments_lexer": "ipython2",
   "version": "2.7.6"
  }
 },
 "nbformat": 4,
 "nbformat_minor": 0
}