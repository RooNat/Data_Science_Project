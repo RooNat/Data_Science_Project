{
 "cells": [
  {
   "cell_type": "markdown",
   "source": [
    "# Reddit Scraper\n",
    "\n",
    "Pushshift: [RedditScraper](https://melaniewalsh.github.io/Intro-Cultural-Analytics/04-Data-Collection/14-Reddit-Data.html)"
   ],
   "metadata": {
    "collapsed": false,
    "pycharm": {
     "name": "#%% md\n"
    }
   }
  },
  {
   "cell_type": "code",
   "execution_count": null,
   "outputs": [],
   "source": [
    "import pandas as pd\n",
    "pd.set_option('max_colwidth',500)\n",
    "# pd.set_option('max_columns', 50)"
   ],
   "metadata": {
    "collapsed": false,
    "pycharm": {
     "name": "#%%\n"
    }
   }
  },
  {
   "cell_type": "code",
   "execution_count": 5,
   "outputs": [],
   "source": [
    "from pmaw import PushshiftAPI\n",
    "api= PushshiftAPI()"
   ],
   "metadata": {
    "collapsed": false,
    "pycharm": {
     "name": "#%%\n"
    }
   }
  },
  {
   "cell_type": "code",
   "execution_count": 6,
   "outputs": [],
   "source": [
    "# start date = 2022-01-01\n",
    "# end date = 2022-07-01\n",
    "import datetime as dt\n",
    "\n"
   ],
   "metadata": {
    "collapsed": false,
    "pycharm": {
     "name": "#%%\n"
    }
   }
  },
  {
   "cell_type": "code",
   "execution_count": 38,
   "outputs": [],
   "source": [
    "def data_prep_posts(subreddit, start_time, end_time):\n",
    "    # if(len(filters)==0):\n",
    "    #     filters = ['id', 'author','domain','created_utc','url','title','num_comments','score']\n",
    "    posts = list(api.search_submissions(\n",
    "        subreddit=subreddit,\n",
    "        since = start_time,\n",
    "        until= end_time\n",
    "    ))\n",
    "    return pd.DataFrame(posts)"
   ],
   "metadata": {
    "collapsed": false,
    "pycharm": {
     "name": "#%%\n"
    }
   }
  },
  {
   "cell_type": "code",
   "execution_count": 70,
   "outputs": [],
   "source": [
    "def data_prep_comments(term, start_time, end_time, filters):\n",
    "    if (len(filters) == 0):\n",
    "        filters = ['id', 'author', 'created_utc',\n",
    "                   'body', 'permalink', 'subreddit','score']\n",
    "                   #We set by default some usefull columns\n",
    "\n",
    "    comments = list(api.search_comments(\n",
    "        q=term,                 #Subreddit we want to audit\n",
    "        since=start_time,       #Start date\n",
    "        until=end_time,        #End date\n",
    "\n",
    "    ))\n",
    "        # limit=limit))           #Max number of comments\n",
    "    return pd.DataFrame(comments) #Return dataframe for analysis"
   ],
   "metadata": {
    "collapsed": false,
    "pycharm": {
     "name": "#%%\n"
    }
   }
  },
  {
   "cell_type": "code",
   "execution_count": 78,
   "outputs": [],
   "source": [
    "\n",
    "subreddit= \"bitcoin\"\n",
    "start = int(dt.datetime(2022,12,1).timestamp())\n",
    "end = int(dt.datetime(2022,12,5).timestamp())"
   ],
   "metadata": {
    "collapsed": false,
    "pycharm": {
     "name": "#%%\n"
    }
   }
  },
  {
   "cell_type": "code",
   "execution_count": 79,
   "outputs": [
    {
     "data": {
      "text/plain": "1669852800"
     },
     "execution_count": 79,
     "metadata": {},
     "output_type": "execute_result"
    }
   ],
   "source": [
    "start"
   ],
   "metadata": {
    "collapsed": false,
    "pycharm": {
     "name": "#%%\n"
    }
   }
  },
  {
   "cell_type": "code",
   "execution_count": 81,
   "outputs": [
    {
     "name": "stderr",
     "output_type": "stream",
     "text": [
      "Not all PushShift shards are active. Query results may be incomplete.\n"
     ]
    }
   ],
   "source": [
    "term=\"bitcoin\"\n",
    "filters=[]\n",
    "df_p = data_prep_comments(term,start,end, filters)"
   ],
   "metadata": {
    "collapsed": false,
    "pycharm": {
     "name": "#%%\n"
    }
   }
  },
  {
   "cell_type": "code",
   "execution_count": 77,
   "outputs": [
    {
     "data": {
      "text/plain": "Empty DataFrame\nColumns: []\nIndex: []",
      "text/html": "<div>\n<style scoped>\n    .dataframe tbody tr th:only-of-type {\n        vertical-align: middle;\n    }\n\n    .dataframe tbody tr th {\n        vertical-align: top;\n    }\n\n    .dataframe thead th {\n        text-align: right;\n    }\n</style>\n<table border=\"1\" class=\"dataframe\">\n  <thead>\n    <tr style=\"text-align: right;\">\n      <th></th>\n    </tr>\n  </thead>\n  <tbody>\n  </tbody>\n</table>\n</div>"
     },
     "execution_count": 77,
     "metadata": {},
     "output_type": "execute_result"
    }
   ],
   "source": [
    "df_p"
   ],
   "metadata": {
    "collapsed": false,
    "pycharm": {
     "name": "#%%\n"
    }
   }
  },
  {
   "cell_type": "code",
   "execution_count": null,
   "outputs": [],
   "source": [
    "\n",
    "df_p['datetime'] = df_p['created_utc'].map(\n",
    "        lambda t: dt.datetime.fromtimestamp(t))\n",
    "df_p = df_p.drop('created_utc', axis=1)\n",
    "df_p = df_p.sort_values(by='datetime')"
   ],
   "metadata": {
    "collapsed": false,
    "pycharm": {
     "name": "#%%\n"
    }
   }
  },
  {
   "cell_type": "code",
   "execution_count": null,
   "outputs": [],
   "source": [
    "df_p"
   ],
   "metadata": {
    "collapsed": false,
    "pycharm": {
     "name": "#%%\n"
    }
   }
  },
  {
   "cell_type": "code",
   "execution_count": 94,
   "outputs": [
    {
     "name": "stderr",
     "output_type": "stream",
     "text": [
      "Not all PushShift shards are active. Query results may be incomplete.\n"
     ]
    },
    {
     "data": {
      "text/plain": "Empty DataFrame\nColumns: []\nIndex: []",
      "text/html": "<div>\n<style scoped>\n    .dataframe tbody tr th:only-of-type {\n        vertical-align: middle;\n    }\n\n    .dataframe tbody tr th {\n        vertical-align: top;\n    }\n\n    .dataframe thead th {\n        text-align: right;\n    }\n</style>\n<table border=\"1\" class=\"dataframe\">\n  <thead>\n    <tr style=\"text-align: right;\">\n      <th></th>\n    </tr>\n  </thead>\n  <tbody>\n  </tbody>\n</table>\n</div>"
     },
     "execution_count": 94,
     "metadata": {},
     "output_type": "execute_result"
    }
   ],
   "source": [
    "import datetime as datetime\n",
    "import pandas as pd\n",
    "subreddit = \"Hannaford\"     #Subreddit we are auditing\n",
    "start_time = int(datetime.datetime(2022, 11, 5).timestamp())\n",
    "                                 #Starting date for our search\n",
    "end_time = int(datetime.datetime(2022, 11, 30).timestamp())\n",
    "                                 #Ending date for our search\n",
    "# filters = ['selftext']\n",
    "\n",
    "limit = 10000                   #Elelemts we want to recieve\n",
    "\n",
    "# Example of general use\n",
    "from pmaw import PushshiftAPI\n",
    "api = PushshiftAPI()\n",
    "\n",
    "# The `search_comments` and `search_submissions` methods return generator objects\n",
    "gen = api.search_submissions(subreddit=subreddit, since=start_time, until=end_time, size=limit)\n",
    "results = list(gen)\n",
    "results_df = pd.DataFrame(results)\n",
    "results_df.head(10)"
   ],
   "metadata": {
    "collapsed": false,
    "pycharm": {
     "name": "#%%\n"
    }
   }
  },
  {
   "cell_type": "code",
   "execution_count": null,
   "outputs": [],
   "source": [
    "\n",
    "results_df = results_df.rename(columns={'num_comments': 'comms_num'})\n",
    "results_df = results_df.rename(columns={'selftext': 'body'})\n",
    "results_df['timestamp'] = pd.to_datetime(results_df['created_utc'], unit='s')\n"
   ],
   "metadata": {
    "collapsed": false,
    "pycharm": {
     "name": "#%%\n"
    }
   }
  },
  {
   "cell_type": "code",
   "execution_count": 93,
   "outputs": [
    {
     "name": "stderr",
     "output_type": "stream",
     "text": [
      "Not all PushShift shards are active. Query results may be incomplete.\n"
     ]
    },
    {
     "name": "stdout",
     "output_type": "stream",
     "text": [
      "---------------------------------------------------------------\n",
      "pmaw df size: (0, 0)\n",
      "Empty DataFrame\n",
      "Columns: []\n",
      "Index: []\n"
     ]
    },
    {
     "ename": "KeyError",
     "evalue": "'data'",
     "output_type": "error",
     "traceback": [
      "\u001B[0;31m---------------------------------------------------------------------------\u001B[0m",
      "\u001B[0;31mKeyError\u001B[0m                                  Traceback (most recent call last)",
      "Cell \u001B[0;32mIn[93], line 36\u001B[0m\n\u001B[1;32m     34\u001B[0m r \u001B[38;5;241m=\u001B[39m requests\u001B[38;5;241m.\u001B[39mget(api_query)\n\u001B[1;32m     35\u001B[0m json \u001B[38;5;241m=\u001B[39m r\u001B[38;5;241m.\u001B[39mjson()\n\u001B[0;32m---> 36\u001B[0m df_pushshift \u001B[38;5;241m=\u001B[39m pd\u001B[38;5;241m.\u001B[39mDataFrame(\u001B[43mjson\u001B[49m\u001B[43m[\u001B[49m\u001B[38;5;124;43m'\u001B[39;49m\u001B[38;5;124;43mdata\u001B[39;49m\u001B[38;5;124;43m'\u001B[39;49m\u001B[43m]\u001B[49m)\n\u001B[1;32m     38\u001B[0m \u001B[38;5;28mprint\u001B[39m(\u001B[38;5;124m'\u001B[39m\u001B[38;5;124m---------------------------------------------------------------\u001B[39m\u001B[38;5;124m'\u001B[39m)\n\u001B[1;32m     39\u001B[0m \u001B[38;5;28mprint\u001B[39m(\u001B[38;5;124mf\u001B[39m\u001B[38;5;124m'\u001B[39m\u001B[38;5;124mPushshift direct df size: \u001B[39m\u001B[38;5;132;01m{\u001B[39;00mdf_pushshift\u001B[38;5;241m.\u001B[39mshape\u001B[38;5;132;01m}\u001B[39;00m\u001B[38;5;124m'\u001B[39m)\n",
      "\u001B[0;31mKeyError\u001B[0m: 'data'"
     ]
    }
   ],
   "source": [
    "import pandas as pd\n",
    "from pmaw import PushshiftAPI\n",
    "import datetime as dt\n",
    "import requests\n",
    "import time\n",
    "\n",
    "start_date = dt.date(2023, 1, 1)\n",
    "end_date = dt.date(2023, 2, 15)\n",
    "\n",
    "start_date = dt.datetime.fromordinal(start_date.toordinal())\n",
    "end_date = dt.datetime.fromordinal(end_date.toordinal())\n",
    "\n",
    "api = PushshiftAPI()\n",
    "\n",
    "start_epoch = int(start_date.timestamp())\n",
    "end_epoch = int(end_date.timestamp())\n",
    "\n",
    "submissions = api.search_submissions(subreddit='politics', q='biden', since=start_epoch,\n",
    "                                     until=end_epoch, num_workers=20)\n",
    "\n",
    "sub_df = pd.DataFrame(submissions)\n",
    "print('---------------------------------------------------------------')\n",
    "print(f'pmaw df size: {sub_df.shape}')\n",
    "print(sub_df.head())\n",
    "\n",
    "time.sleep(10)\n",
    "# Pushsift api directily\n",
    "api_query = 'https://api.pushshift.io/reddit/submission/search/?q=' + 'biden' \\\n",
    "            + '&since=' + str(start_epoch) \\\n",
    "            + '&until=' + str(end_epoch) \\\n",
    "            + '&subreddit=' + 'politics' \\\n",
    "            + '&limit=' + str(100)\n",
    "\n",
    "r = requests.get(api_query)\n",
    "json = r.json()\n",
    "df_pushshift = pd.DataFrame(json['data'])\n",
    "\n",
    "print('---------------------------------------------------------------')\n",
    "print(f'Pushshift direct df size: {df_pushshift.shape}')\n",
    "print(df_pushshift.head())\n",
    "print('---------------------------------------------------------------')"
   ],
   "metadata": {
    "collapsed": false,
    "pycharm": {
     "name": "#%%\n"
    }
   }
  },
  {
   "cell_type": "code",
   "execution_count": null,
   "outputs": [],
   "source": [],
   "metadata": {
    "collapsed": false,
    "pycharm": {
     "name": "#%%\n"
    }
   }
  }
 ],
 "metadata": {
  "kernelspec": {
   "display_name": "Python 3",
   "language": "python",
   "name": "python3"
  },
  "language_info": {
   "codemirror_mode": {
    "name": "ipython",
    "version": 2
   },
   "file_extension": ".py",
   "mimetype": "text/x-python",
   "name": "python",
   "nbconvert_exporter": "python",
   "pygments_lexer": "ipython2",
   "version": "2.7.6"
  }
 },
 "nbformat": 4,
 "nbformat_minor": 0
}