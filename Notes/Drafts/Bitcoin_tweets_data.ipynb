{
 "cells": [
  {
   "cell_type": "markdown",
   "source": [
    "# Bitcoin Tweets"
   ],
   "metadata": {
    "collapsed": false,
    "pycharm": {
     "name": "#%% md\n"
    }
   }
  },
  {
   "cell_type": "code",
   "execution_count": 33,
   "outputs": [
    {
     "name": "stdout",
     "output_type": "stream",
     "text": [
      "./bitcoin/Bitcoin_tweets.csv\n",
      "./bitcoin/Bitcoin_tweets_dataset_2.csv\n"
     ]
    }
   ],
   "source": [
    "import pandas as pd\n",
    "import numpy as np\n",
    "import os\n",
    "for dirname, _, filenames in os.walk('./bitcoin'):\n",
    "    for filename in filenames:\n",
    "        print(os.path.join(dirname, filename))"
   ],
   "metadata": {
    "collapsed": false,
    "pycharm": {
     "name": "#%%\n"
    }
   }
  },
  {
   "cell_type": "code",
   "execution_count": 34,
   "outputs": [
    {
     "name": "stderr",
     "output_type": "stream",
     "text": [
      "[nltk_data] Downloading package vader_lexicon to\n",
      "[nltk_data]     /Users/yujiewang/nltk_data...\n",
      "[nltk_data]   Package vader_lexicon is already up-to-date!\n"
     ]
    }
   ],
   "source": [
    "#Importing packages\n",
    "from pyspark.sql import SparkSession\n",
    "from pyspark.sql.functions import count, when, col , mean, to_date, to_timestamp, lower, regexp_replace, avg\n",
    "from pyspark.ml.feature import StringIndexer, VectorAssembler , OneHotEncoder\n",
    "from pyspark.ml import Pipeline\n",
    "import pandas as pd\n",
    "import re\n",
    "import nltk\n",
    "nltk.download('vader_lexicon')\n",
    "from nltk.sentiment.vader import SentimentIntensityAnalyzer"
   ],
   "metadata": {
    "collapsed": false,
    "pycharm": {
     "name": "#%%\n"
    }
   }
  },
  {
   "cell_type": "code",
   "execution_count": 35,
   "outputs": [
    {
     "name": "stdout",
     "output_type": "stream",
     "text": [
      "root\n",
      " |-- user_name: string (nullable = true)\n",
      " |-- user_location: string (nullable = true)\n",
      " |-- user_description: string (nullable = true)\n",
      " |-- user_created: string (nullable = true)\n",
      " |-- user_followers: string (nullable = true)\n",
      " |-- user_friends: string (nullable = true)\n",
      " |-- user_favourites: string (nullable = true)\n",
      " |-- user_verified: string (nullable = true)\n",
      " |-- date: string (nullable = true)\n",
      " |-- text: string (nullable = true)\n",
      " |-- hashtags: string (nullable = true)\n",
      " |-- source: string (nullable = true)\n",
      " |-- is_retweet: string (nullable = true)\n",
      "\n",
      "+----------------+--------------------+--------------------+-------------------+--------------+------------+---------------+-------------+-------------------+--------------------+--------------------+-------------------+----------+\n",
      "|       user_name|       user_location|    user_description|       user_created|user_followers|user_friends|user_favourites|user_verified|               date|                text|            hashtags|             source|is_retweet|\n",
      "+----------------+--------------------+--------------------+-------------------+--------------+------------+---------------+-------------+-------------------+--------------------+--------------------+-------------------+----------+\n",
      "|         ChefSam|      Sunshine State|Culinarian | Hot ...|2011-03-23 03:50:13|          4680|        2643|           6232|        False|2023-03-01 23:59:59|Which #bitcoin bo...|         ['bitcoin']| Twitter for iPhone|     False|\n",
      "|           Roy⚡️|                null|Truth-seeking ple...|2022-01-30 17:41:41|           770|        1145|           9166|        False|2023-03-01 23:59:47|@ThankGodForBTC I...|         ['Bitcoin']| Twitter for iPhone|     False|\n",
      "|   Ethereum Yoda|                null|UP or DOWN...\\n.\\...|2022-07-24 04:50:18|           576|           1|              0|        False|2023-03-01 23:59:42|#Ethereum price u...|['Ethereum', 'ETH...|    Twitter Web App|     False|\n",
      "|         Viction|       Paris, France|https://t.co/8M3r...|2010-03-26 10:15:26|           236|        1829|           2195|        False|2023-03-01 23:59:36|CoinDashboard v3....|         ['Bitcoin']|Twitter for Android|     False|\n",
      "|           Rosie|              London|The flower langua...|2013-02-16 09:57:56|         12731|          46|            134|        False|2023-03-01 23:59:32|#Bitcoin Short Te...|  ['Bitcoin', 'BTC']|    Twitter Web App|     False|\n",
      "|        AkinHack|       United States|Professional Reco...|2014-11-08 04:50:03|           197|          48|             13|        False|2023-03-01 23:59:27|Y’all Message me ...|['CYBER', 'securi...|Twitter for Android|     False|\n",
      "|CAIR (Pump/Dump)|                null|CAIR is a smart m...|2021-08-30 18:15:59|          5976|           1|            107|        False|2023-03-01 23:59:24|PUMP : 4-Hour Cha...|['FILUSDT', 'FIL'...|          BinanceTW|     False|\n",
      "|      NFTevening|👇 Join 25k+ NFT ...|The best newslett...|2021-05-10 15:24:23|         26940|        2050|          12198|        False|2023-03-01 23:59:16|📰TwelveFold by @...| ['Bitcoin', 'NFTs']|           Hypefury|     False|\n",
      "|           AbdeL|                null|           #sol #NFT|2022-01-26 19:24:49|           792|          75|            409|        False|2023-03-01 23:59:09|@BitcoinBullsNFT ...|  ['NFT', 'Bitcoin']|    Twitter Web App|     False|\n",
      "|         PUBLORD|probably down at ...|TOXIC HAPPY HOUR!...|2013-12-28 18:30:40|         22414|        3225|          63945|        False|2023-03-01 23:59:08|Your first #Bitco...|         ['Bitcoin']|Twitter for Android|     False|\n",
      "+----------------+--------------------+--------------------+-------------------+--------------+------------+---------------+-------------+-------------------+--------------------+--------------------+-------------------+----------+\n",
      "only showing top 10 rows\n",
      "\n"
     ]
    }
   ],
   "source": [
    "# Create a SparkSession\n",
    "spark = SparkSession.builder.appName(\"btc_analysis\").getOrCreate()\n",
    "# Load the data from CSV file\n",
    "data = spark.read.csv('././bitcoin/Bitcoin_tweets_dataset_2.csv', header=True, inferSchema=True,multiLine=True)\n",
    "data.printSchema()\n",
    "data.show(10)"
   ],
   "metadata": {
    "collapsed": false,
    "pycharm": {
     "name": "#%%\n"
    }
   }
  },
  {
   "cell_type": "code",
   "execution_count": 36,
   "outputs": [
    {
     "name": "stdout",
     "output_type": "stream",
     "text": [
      "Shape of dataframe: (174291, 13)\n"
     ]
    }
   ],
   "source": [
    "# assume `df` is a PySpark dataframe\n",
    "num_rows = data.count()\n",
    "num_cols = len(data.columns)\n",
    "print(\"Shape of dataframe: ({0}, {1})\".format(num_rows, num_cols))"
   ],
   "metadata": {
    "collapsed": false,
    "pycharm": {
     "name": "#%%\n"
    }
   }
  },
  {
   "cell_type": "code",
   "execution_count": 37,
   "outputs": [],
   "source": [
    "data2 = data.drop('user_name','hashtags','user_location','user_description','user_created','user_friends','user_favourites','user_verified','source','is_retweet')"
   ],
   "metadata": {
    "collapsed": false,
    "pycharm": {
     "name": "#%%\n"
    }
   }
  },
  {
   "cell_type": "code",
   "execution_count": 38,
   "outputs": [
    {
     "name": "stdout",
     "output_type": "stream",
     "text": [
      "root\n",
      " |-- user_followers: string (nullable = true)\n",
      " |-- date: string (nullable = true)\n",
      " |-- text: string (nullable = true)\n",
      "\n",
      "+--------------+-------------------+--------------------+\n",
      "|user_followers|               date|                text|\n",
      "+--------------+-------------------+--------------------+\n",
      "|          4680|2023-03-01 23:59:59|Which #bitcoin bo...|\n",
      "|           770|2023-03-01 23:59:47|@ThankGodForBTC I...|\n",
      "|           576|2023-03-01 23:59:42|#Ethereum price u...|\n",
      "|           236|2023-03-01 23:59:36|CoinDashboard v3....|\n",
      "|         12731|2023-03-01 23:59:32|#Bitcoin Short Te...|\n",
      "|           197|2023-03-01 23:59:27|Y’all Message me ...|\n",
      "|          5976|2023-03-01 23:59:24|PUMP : 4-Hour Cha...|\n",
      "|         26940|2023-03-01 23:59:16|📰TwelveFold by @...|\n",
      "|           792|2023-03-01 23:59:09|@BitcoinBullsNFT ...|\n",
      "|         22414|2023-03-01 23:59:08|Your first #Bitco...|\n",
      "+--------------+-------------------+--------------------+\n",
      "only showing top 10 rows\n",
      "\n"
     ]
    }
   ],
   "source": [
    "# Show the schema of the data\n",
    "data2.printSchema()\n",
    "\n",
    "# Show the first 10 rows of data\n",
    "data2.show(10)"
   ],
   "metadata": {
    "collapsed": false,
    "pycharm": {
     "name": "#%%\n"
    }
   }
  },
  {
   "cell_type": "code",
   "execution_count": 39,
   "outputs": [],
   "source": [
    "# Assuming `new_data` is your PySpark DataFrame\n",
    "data2 = data2.withColumn(\"datetime\", to_timestamp(col(\"date\"), \"yyyy-MM-dd HH:mm:ss\"))\n",
    "data2 = data2.withColumn(\"date\", to_date(col(\"datetime\")))"
   ],
   "metadata": {
    "collapsed": false,
    "pycharm": {
     "name": "#%%\n"
    }
   }
  },
  {
   "cell_type": "code",
   "execution_count": 40,
   "outputs": [
    {
     "name": "stdout",
     "output_type": "stream",
     "text": [
      "root\n",
      " |-- user_followers: string (nullable = true)\n",
      " |-- date: date (nullable = true)\n",
      " |-- text: string (nullable = true)\n",
      " |-- datetime: timestamp (nullable = true)\n",
      "\n",
      "+--------------+----------+--------------------+-------------------+\n",
      "|user_followers|      date|                text|           datetime|\n",
      "+--------------+----------+--------------------+-------------------+\n",
      "|          4680|2023-03-01|Which #bitcoin bo...|2023-03-01 23:59:59|\n",
      "|           770|2023-03-01|@ThankGodForBTC I...|2023-03-01 23:59:47|\n",
      "|           576|2023-03-01|#Ethereum price u...|2023-03-01 23:59:42|\n",
      "|           236|2023-03-01|CoinDashboard v3....|2023-03-01 23:59:36|\n",
      "|         12731|2023-03-01|#Bitcoin Short Te...|2023-03-01 23:59:32|\n",
      "|           197|2023-03-01|Y’all Message me ...|2023-03-01 23:59:27|\n",
      "|          5976|2023-03-01|PUMP : 4-Hour Cha...|2023-03-01 23:59:24|\n",
      "|         26940|2023-03-01|📰TwelveFold by @...|2023-03-01 23:59:16|\n",
      "|           792|2023-03-01|@BitcoinBullsNFT ...|2023-03-01 23:59:09|\n",
      "|         22414|2023-03-01|Your first #Bitco...|2023-03-01 23:59:08|\n",
      "+--------------+----------+--------------------+-------------------+\n",
      "only showing top 10 rows\n",
      "\n"
     ]
    }
   ],
   "source": [
    "# Show the schema of the data\n",
    "data2.printSchema()\n",
    "\n",
    "# Show the first 10 rows of data\n",
    "data2.show(10)"
   ],
   "metadata": {
    "collapsed": false,
    "pycharm": {
     "name": "#%%\n"
    }
   }
  },
  {
   "cell_type": "code",
   "execution_count": 25,
   "outputs": [],
   "source": [
    "# start_date = '2021-02-06'\n",
    "# end_date = '2021-12-31'\n",
    "# # Select DataFrame rows between two dates\n",
    "# df_filtered = data2.filter((col(\"date\") >= start_date) & (col(\"date\") <= end_date))"
   ],
   "metadata": {
    "collapsed": false,
    "pycharm": {
     "name": "#%%\n"
    }
   }
  },
  {
   "cell_type": "code",
   "execution_count": 26,
   "outputs": [],
   "source": [
    "# df_filtered = df_filtered.filter(~col(\"date\").isNull())"
   ],
   "metadata": {
    "collapsed": false,
    "pycharm": {
     "name": "#%%\n"
    }
   }
  },
  {
   "cell_type": "code",
   "execution_count": 27,
   "outputs": [
    {
     "name": "stdout",
     "output_type": "stream",
     "text": [
      "root\n",
      " |-- user_followers: string (nullable = true)\n",
      " |-- date: date (nullable = true)\n",
      " |-- text: string (nullable = true)\n",
      " |-- datetime: timestamp (nullable = true)\n",
      "\n",
      "+--------------+----------+--------------------+-------------------+\n",
      "|user_followers|      date|                text|           datetime|\n",
      "+--------------+----------+--------------------+-------------------+\n",
      "|        8534.0|2021-02-10|Blue Ridge Bank s...|2021-02-10 23:59:04|\n",
      "|        6769.0|2021-02-10|\"😎 Today, that's...|2021-02-10 23:58:48|\n",
      "|         128.0|2021-02-10|Guys evening, I h...|2021-02-10 23:54:48|\n",
      "|         625.0|2021-02-10|$BTC A big chance...|2021-02-10 23:54:33|\n",
      "|        1249.0|2021-02-10|This network is s...|2021-02-10 23:54:06|\n",
      "|         742.0|2021-02-10|💹 Trade #Crypto ...|2021-02-10 23:53:30|\n",
      "|         131.0|2021-02-10|&lt;'fire' &amp; ...|2021-02-10 23:53:17|\n",
      "|        4052.0|2021-02-10|🔄 Prices update ...|2021-02-10 23:52:42|\n",
      "|         104.0|2021-02-10|#BTC #Bitcoin #Et...|2021-02-10 23:52:25|\n",
      "|        8534.0|2021-02-10|.@Tesla’s #bitcoi...|2021-02-10 23:52:08|\n",
      "+--------------+----------+--------------------+-------------------+\n",
      "only showing top 10 rows\n",
      "\n"
     ]
    }
   ],
   "source": [
    "# Show the schema of the data\n",
    "# df_filtered.printSchema()\n",
    "#\n",
    "# # Show the first 10 rows of data\n",
    "# df_filtered.show(10)"
   ],
   "metadata": {
    "collapsed": false,
    "pycharm": {
     "name": "#%%\n"
    }
   }
  },
  {
   "cell_type": "code",
   "execution_count": 28,
   "outputs": [
    {
     "name": "stderr",
     "output_type": "stream",
     "text": [
      "[Stage 32:>                                                         (0 + 1) / 1]\r"
     ]
    },
    {
     "name": "stdout",
     "output_type": "stream",
     "text": [
      "Shape of dataframe: (1988291, 4)\n"
     ]
    },
    {
     "name": "stderr",
     "output_type": "stream",
     "text": [
      "                                                                                \r"
     ]
    }
   ],
   "source": [
    "# assume `df` is a PySpark dataframe\n",
    "# num_rows = df_filtered.count()\n",
    "# num_cols = len(df_filtered.columns)\n",
    "# print(\"Shape of dataframe: ({0}, {1})\".format(num_rows, num_cols))"
   ],
   "metadata": {
    "collapsed": false,
    "pycharm": {
     "name": "#%%\n"
    }
   }
  },
  {
   "cell_type": "code",
   "execution_count": 41,
   "outputs": [],
   "source": [
    "result_df = data2.groupBy(\"date\").count()"
   ],
   "metadata": {
    "collapsed": false,
    "pycharm": {
     "name": "#%%\n"
    }
   }
  },
  {
   "cell_type": "code",
   "execution_count": 42,
   "outputs": [
    {
     "name": "stdout",
     "output_type": "stream",
     "text": [
      "+----------+-----+\n",
      "|      date|count|\n",
      "+----------+-----+\n",
      "|2023-02-25| 2262|\n",
      "|2023-03-04|22502|\n",
      "|2021-12-10|    1|\n",
      "|      null| 5187|\n",
      "|2023-03-05| 8645|\n",
      "|2023-03-01|30603|\n",
      "|2023-02-27|14420|\n",
      "|2023-02-28|24489|\n",
      "|2023-03-03|22728|\n",
      "|2023-02-26|22265|\n",
      "|2023-03-02|21189|\n",
      "+----------+-----+\n",
      "\n"
     ]
    }
   ],
   "source": [
    "result_df.show(365)"
   ],
   "metadata": {
    "collapsed": false,
    "pycharm": {
     "name": "#%%\n"
    }
   }
  },
  {
   "cell_type": "code",
   "execution_count": 32,
   "outputs": [
    {
     "name": "stderr",
     "output_type": "stream",
     "text": [
      "                                                                                \r"
     ]
    },
    {
     "data": {
      "text/plain": "101"
     },
     "execution_count": 32,
     "metadata": {},
     "output_type": "execute_result"
    }
   ],
   "source": [
    "result_df.count()"
   ],
   "metadata": {
    "collapsed": false,
    "pycharm": {
     "name": "#%%\n"
    }
   }
  },
  {
   "cell_type": "code",
   "execution_count": null,
   "outputs": [],
   "source": [],
   "metadata": {
    "collapsed": false,
    "pycharm": {
     "name": "#%%\n"
    }
   }
  }
 ],
 "metadata": {
  "kernelspec": {
   "display_name": "Python 3",
   "language": "python",
   "name": "python3"
  },
  "language_info": {
   "codemirror_mode": {
    "name": "ipython",
    "version": 2
   },
   "file_extension": ".py",
   "mimetype": "text/x-python",
   "name": "python",
   "nbconvert_exporter": "python",
   "pygments_lexer": "ipython2",
   "version": "2.7.6"
  }
 },
 "nbformat": 4,
 "nbformat_minor": 0
}