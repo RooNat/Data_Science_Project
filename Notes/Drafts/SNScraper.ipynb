{
 "cells": [
  {
   "cell_type": "markdown",
   "source": [
    "# SNScrape\n",
    "\n",
    "[SNScrape](https://pub.towardsai.net/extract-tweets-without-limitations-in-a-few-lines-of-code-using-python-21578f89a00c)"
   ],
   "metadata": {
    "collapsed": false,
    "pycharm": {
     "name": "#%% md\n"
    }
   }
  },
  {
   "cell_type": "code",
   "execution_count": 1,
   "outputs": [],
   "source": [
    "import snscrape.modules.twitter as snt\n",
    "import pandas as pd"
   ],
   "metadata": {
    "collapsed": false,
    "pycharm": {
     "name": "#%%\n"
    }
   }
  },
  {
   "cell_type": "code",
   "execution_count": 2,
   "outputs": [
    {
     "ename": "ScraperException",
     "evalue": "Unable to find guest token",
     "output_type": "error",
     "traceback": [
      "\u001B[0;31m---------------------------------------------------------------------------\u001B[0m",
      "\u001B[0;31mScraperException\u001B[0m                          Traceback (most recent call last)",
      "\u001B[0;32m/var/folders/vp/8_rd4_c56g3dpqb1167z6tqr0000gn/T/ipykernel_92141/1363994920.py\u001B[0m in \u001B[0;36m<module>\u001B[0;34m\u001B[0m\n\u001B[1;32m      4\u001B[0m \u001B[0mtweets\u001B[0m\u001B[0;34m=\u001B[0m\u001B[0mscraper\u001B[0m\u001B[0;34m.\u001B[0m\u001B[0mget_items\u001B[0m\u001B[0;34m(\u001B[0m\u001B[0;34m)\u001B[0m\u001B[0;34m\u001B[0m\u001B[0;34m\u001B[0m\u001B[0m\n\u001B[1;32m      5\u001B[0m \u001B[0mtweetsf\u001B[0m\u001B[0;34m=\u001B[0m\u001B[0;34m[\u001B[0m\u001B[0;34m]\u001B[0m\u001B[0;34m\u001B[0m\u001B[0;34m\u001B[0m\u001B[0m\n\u001B[0;32m----> 6\u001B[0;31m \u001B[0;32mfor\u001B[0m \u001B[0mi\u001B[0m\u001B[0;34m,\u001B[0m\u001B[0mtweet\u001B[0m \u001B[0;32min\u001B[0m \u001B[0menumerate\u001B[0m\u001B[0;34m(\u001B[0m\u001B[0mtweets\u001B[0m\u001B[0;34m)\u001B[0m\u001B[0;34m:\u001B[0m\u001B[0;34m\u001B[0m\u001B[0;34m\u001B[0m\u001B[0m\n\u001B[0m\u001B[1;32m      7\u001B[0m     \u001B[0;32mif\u001B[0m \u001B[0mi\u001B[0m\u001B[0;34m>\u001B[0m\u001B[0;36m100\u001B[0m\u001B[0;34m:\u001B[0m\u001B[0;34m\u001B[0m\u001B[0;34m\u001B[0m\u001B[0m\n\u001B[1;32m      8\u001B[0m         \u001B[0;32mbreak\u001B[0m\u001B[0;34m\u001B[0m\u001B[0;34m\u001B[0m\u001B[0m\n",
      "\u001B[0;32m~/anaconda3/envs/py37/lib/python3.7/site-packages/snscrape/modules/twitter.py\u001B[0m in \u001B[0;36mget_items\u001B[0;34m(self)\u001B[0m\n\u001B[1;32m    129\u001B[0m                 \u001B[0;32mwhile\u001B[0m \u001B[0;32mTrue\u001B[0m\u001B[0;34m:\u001B[0m\u001B[0;34m\u001B[0m\u001B[0;34m\u001B[0m\u001B[0m\n\u001B[1;32m    130\u001B[0m                         \u001B[0;32mif\u001B[0m \u001B[0;32mnot\u001B[0m \u001B[0mguestToken\u001B[0m\u001B[0;34m:\u001B[0m\u001B[0;34m\u001B[0m\u001B[0;34m\u001B[0m\u001B[0m\n\u001B[0;32m--> 131\u001B[0;31m                                 \u001B[0mguestToken\u001B[0m \u001B[0;34m=\u001B[0m \u001B[0mself\u001B[0m\u001B[0;34m.\u001B[0m\u001B[0m_get_guest_token\u001B[0m\u001B[0;34m(\u001B[0m\u001B[0;34m)\u001B[0m\u001B[0;34m\u001B[0m\u001B[0;34m\u001B[0m\u001B[0m\n\u001B[0m\u001B[1;32m    132\u001B[0m                                 \u001B[0mself\u001B[0m\u001B[0;34m.\u001B[0m\u001B[0m_session\u001B[0m\u001B[0;34m.\u001B[0m\u001B[0mcookies\u001B[0m\u001B[0;34m.\u001B[0m\u001B[0mset\u001B[0m\u001B[0;34m(\u001B[0m\u001B[0;34m'gt'\u001B[0m\u001B[0;34m,\u001B[0m \u001B[0mguestToken\u001B[0m\u001B[0;34m,\u001B[0m \u001B[0mdomain\u001B[0m \u001B[0;34m=\u001B[0m \u001B[0;34m'.twitter.com'\u001B[0m\u001B[0;34m,\u001B[0m \u001B[0mpath\u001B[0m \u001B[0;34m=\u001B[0m \u001B[0;34m'/'\u001B[0m\u001B[0;34m,\u001B[0m \u001B[0msecure\u001B[0m \u001B[0;34m=\u001B[0m \u001B[0;32mTrue\u001B[0m\u001B[0;34m,\u001B[0m \u001B[0mexpires\u001B[0m \u001B[0;34m=\u001B[0m \u001B[0mtime\u001B[0m\u001B[0;34m.\u001B[0m\u001B[0mtime\u001B[0m\u001B[0;34m(\u001B[0m\u001B[0;34m)\u001B[0m \u001B[0;34m+\u001B[0m \u001B[0;36m10800\u001B[0m\u001B[0;34m)\u001B[0m\u001B[0;34m\u001B[0m\u001B[0;34m\u001B[0m\u001B[0m\n\u001B[1;32m    133\u001B[0m                                 \u001B[0mheaders\u001B[0m\u001B[0;34m[\u001B[0m\u001B[0;34m'x-guest-token'\u001B[0m\u001B[0;34m]\u001B[0m \u001B[0;34m=\u001B[0m \u001B[0mguestToken\u001B[0m\u001B[0;34m\u001B[0m\u001B[0;34m\u001B[0m\u001B[0m\n",
      "\u001B[0;32m~/anaconda3/envs/py37/lib/python3.7/site-packages/snscrape/modules/twitter.py\u001B[0m in \u001B[0;36m_get_guest_token\u001B[0;34m(self)\u001B[0m\n\u001B[1;32m    107\u001B[0m                         \u001B[0mlogger\u001B[0m\u001B[0;34m.\u001B[0m\u001B[0mdebug\u001B[0m\u001B[0;34m(\u001B[0m\u001B[0;34m'Found guest token in cookies'\u001B[0m\u001B[0;34m)\u001B[0m\u001B[0;34m\u001B[0m\u001B[0;34m\u001B[0m\u001B[0m\n\u001B[1;32m    108\u001B[0m                         \u001B[0;32mreturn\u001B[0m \u001B[0mr\u001B[0m\u001B[0;34m.\u001B[0m\u001B[0mcookies\u001B[0m\u001B[0;34m[\u001B[0m\u001B[0;34m'gt'\u001B[0m\u001B[0;34m]\u001B[0m\u001B[0;34m\u001B[0m\u001B[0;34m\u001B[0m\u001B[0m\n\u001B[0;32m--> 109\u001B[0;31m                 \u001B[0;32mraise\u001B[0m \u001B[0msnscrape\u001B[0m\u001B[0;34m.\u001B[0m\u001B[0mbase\u001B[0m\u001B[0;34m.\u001B[0m\u001B[0mScraperException\u001B[0m\u001B[0;34m(\u001B[0m\u001B[0;34m'Unable to find guest token'\u001B[0m\u001B[0;34m)\u001B[0m\u001B[0;34m\u001B[0m\u001B[0;34m\u001B[0m\u001B[0m\n\u001B[0m\u001B[1;32m    110\u001B[0m \u001B[0;34m\u001B[0m\u001B[0m\n\u001B[1;32m    111\u001B[0m         \u001B[0;32mdef\u001B[0m \u001B[0m_check_scroll_response\u001B[0m\u001B[0;34m(\u001B[0m\u001B[0mself\u001B[0m\u001B[0;34m,\u001B[0m \u001B[0mr\u001B[0m\u001B[0;34m)\u001B[0m\u001B[0;34m:\u001B[0m\u001B[0;34m\u001B[0m\u001B[0;34m\u001B[0m\u001B[0m\n",
      "\u001B[0;31mScraperException\u001B[0m: Unable to find guest token"
     ]
    }
   ],
   "source": [
    "import snscrape.modules.twitter as sntwitter\n",
    "\n",
    "scraper=sntwitter.TwitterHashtagScraper(\"#ViratKohli\")\n",
    "tweets=scraper.get_items()\n",
    "tweetsf=[]\n",
    "for i,tweet in enumerate(tweets):\n",
    "    if i>100:\n",
    "        break\n",
    "    tweetsf.append(tweet.content)"
   ],
   "metadata": {
    "collapsed": false,
    "pycharm": {
     "name": "#%%\n"
    }
   }
  },
  {
   "cell_type": "code",
   "execution_count": null,
   "outputs": [],
   "source": [
    "for i in range(0,len(tweetsf)):\n",
    "    tweetsf[i]=tweetsf[i].lower()"
   ],
   "metadata": {
    "collapsed": false,
    "pycharm": {
     "name": "#%%\n"
    }
   }
  },
  {
   "cell_type": "code",
   "execution_count": null,
   "outputs": [],
   "source": [
    "df=pd.DataFrame({'Tweet':tweetsf})"
   ],
   "metadata": {
    "collapsed": false,
    "pycharm": {
     "name": "#%%\n"
    }
   }
  }
 ],
 "metadata": {
  "kernelspec": {
   "display_name": "Python 3",
   "language": "python",
   "name": "python3"
  },
  "language_info": {
   "codemirror_mode": {
    "name": "ipython",
    "version": 2
   },
   "file_extension": ".py",
   "mimetype": "text/x-python",
   "name": "python",
   "nbconvert_exporter": "python",
   "pygments_lexer": "ipython2",
   "version": "2.7.6"
  }
 },
 "nbformat": 4,
 "nbformat_minor": 0
}