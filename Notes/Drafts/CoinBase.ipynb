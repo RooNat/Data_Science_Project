{
 "cells": [
  {
   "cell_type": "markdown",
   "source": [
    "## Get Cryptocurrency From CoinBase"
   ],
   "metadata": {
    "collapsed": false,
    "pycharm": {
     "name": "#%% md\n"
    }
   }
  },
  {
   "cell_type": "code",
   "execution_count": 2,
   "outputs": [],
   "source": [
    "from Historic_Crypto import HistoricalData\n",
    "from Historic_Crypto import Cryptocurrencies\n",
    "from Historic_Crypto import LiveCryptoData"
   ],
   "metadata": {
    "collapsed": false,
    "pycharm": {
     "name": "#%%\n"
    }
   }
  },
  {
   "cell_type": "code",
   "execution_count": 3,
   "outputs": [
    {
     "name": "stdout",
     "output_type": "stream",
     "text": [
      "Connected to the CoinBase Pro API.\n",
      "Extended Output is False, returning reduced dataset.\n"
     ]
    },
    {
     "data": {
      "text/plain": "            id display_name  fx_stablecoin max_slippage_percentage    status\n0      KRL-EUR      KRL/EUR          False              0.05000000    online\n1     NEST-USD     NEST/USD          False              0.03000000    online\n2      SKL-GBP      SKL/GBP          False              0.03000000    online\n3     ADA-USDC     ADA/USDC          False              0.03000000  delisted\n4      ETH-BTC      ETH/BTC          False              0.03000000    online\n..         ...          ...            ...                     ...       ...\n591   GODS-USD     GODS/USD          False              0.03000000    online\n592   DESO-USD     DESO/USD          False              0.03000000    online\n593    KNC-BTC      KNC/BTC          False              0.03000000    online\n594  QUICK-USD    QUICK/USD          False              0.03000000    online\n595   KSM-USDT     KSM/USDT          False              0.03000000    online\n\n[596 rows x 5 columns]",
      "text/html": "<div>\n<style scoped>\n    .dataframe tbody tr th:only-of-type {\n        vertical-align: middle;\n    }\n\n    .dataframe tbody tr th {\n        vertical-align: top;\n    }\n\n    .dataframe thead th {\n        text-align: right;\n    }\n</style>\n<table border=\"1\" class=\"dataframe\">\n  <thead>\n    <tr style=\"text-align: right;\">\n      <th></th>\n      <th>id</th>\n      <th>display_name</th>\n      <th>fx_stablecoin</th>\n      <th>max_slippage_percentage</th>\n      <th>status</th>\n    </tr>\n  </thead>\n  <tbody>\n    <tr>\n      <th>0</th>\n      <td>KRL-EUR</td>\n      <td>KRL/EUR</td>\n      <td>False</td>\n      <td>0.05000000</td>\n      <td>online</td>\n    </tr>\n    <tr>\n      <th>1</th>\n      <td>NEST-USD</td>\n      <td>NEST/USD</td>\n      <td>False</td>\n      <td>0.03000000</td>\n      <td>online</td>\n    </tr>\n    <tr>\n      <th>2</th>\n      <td>SKL-GBP</td>\n      <td>SKL/GBP</td>\n      <td>False</td>\n      <td>0.03000000</td>\n      <td>online</td>\n    </tr>\n    <tr>\n      <th>3</th>\n      <td>ADA-USDC</td>\n      <td>ADA/USDC</td>\n      <td>False</td>\n      <td>0.03000000</td>\n      <td>delisted</td>\n    </tr>\n    <tr>\n      <th>4</th>\n      <td>ETH-BTC</td>\n      <td>ETH/BTC</td>\n      <td>False</td>\n      <td>0.03000000</td>\n      <td>online</td>\n    </tr>\n    <tr>\n      <th>...</th>\n      <td>...</td>\n      <td>...</td>\n      <td>...</td>\n      <td>...</td>\n      <td>...</td>\n    </tr>\n    <tr>\n      <th>591</th>\n      <td>GODS-USD</td>\n      <td>GODS/USD</td>\n      <td>False</td>\n      <td>0.03000000</td>\n      <td>online</td>\n    </tr>\n    <tr>\n      <th>592</th>\n      <td>DESO-USD</td>\n      <td>DESO/USD</td>\n      <td>False</td>\n      <td>0.03000000</td>\n      <td>online</td>\n    </tr>\n    <tr>\n      <th>593</th>\n      <td>KNC-BTC</td>\n      <td>KNC/BTC</td>\n      <td>False</td>\n      <td>0.03000000</td>\n      <td>online</td>\n    </tr>\n    <tr>\n      <th>594</th>\n      <td>QUICK-USD</td>\n      <td>QUICK/USD</td>\n      <td>False</td>\n      <td>0.03000000</td>\n      <td>online</td>\n    </tr>\n    <tr>\n      <th>595</th>\n      <td>KSM-USDT</td>\n      <td>KSM/USDT</td>\n      <td>False</td>\n      <td>0.03000000</td>\n      <td>online</td>\n    </tr>\n  </tbody>\n</table>\n<p>596 rows × 5 columns</p>\n</div>"
     },
     "execution_count": 3,
     "metadata": {},
     "output_type": "execute_result"
    }
   ],
   "source": [
    "Cryptocurrencies().find_crypto_pairs()"
   ],
   "metadata": {
    "collapsed": false,
    "pycharm": {
     "name": "#%%\n"
    }
   }
  },
  {
   "cell_type": "code",
   "execution_count": 4,
   "outputs": [
    {
     "name": "stdout",
     "output_type": "stream",
     "text": [
      "Connected to the CoinBase Pro API.\n",
      "Found 73 instances containing the term BTC.\n",
      "Extended Output is False, returning reduced dataset.\n"
     ]
    }
   ],
   "source": [
    "data = Cryptocurrencies(coin_search = 'BTC', extended_output=False).find_crypto_pairs()"
   ],
   "metadata": {
    "collapsed": false,
    "pycharm": {
     "name": "#%%\n"
    }
   }
  },
  {
   "cell_type": "code",
   "execution_count": 5,
   "outputs": [
    {
     "data": {
      "text/plain": "           id display_name  fx_stablecoin max_slippage_percentage    status\n35    SNX-BTC      SNX/BTC          False              0.03000000    online\n41    XRP-BTC      XRP/BTC          False              0.10000000  delisted\n49    NKN-BTC      NKN/BTC          False              0.03000000    online\n65    AXS-BTC      AXS/BTC          False              0.03000000    online\n81    DOT-BTC      DOT/BTC          False              0.03000000    online\n..        ...          ...            ...                     ...       ...\n561   LRC-BTC      LRC/BTC          False              0.03000000    online\n563   OGN-BTC      OGN/BTC          False              0.03000000    online\n572   ORN-BTC      ORN/BTC          False              0.03000000    online\n578   MKR-BTC      MKR/BTC          False              0.03000000    online\n580  CGLD-BTC     CGLD/BTC          False              0.03000000    online\n\n[73 rows x 5 columns]",
      "text/html": "<div>\n<style scoped>\n    .dataframe tbody tr th:only-of-type {\n        vertical-align: middle;\n    }\n\n    .dataframe tbody tr th {\n        vertical-align: top;\n    }\n\n    .dataframe thead th {\n        text-align: right;\n    }\n</style>\n<table border=\"1\" class=\"dataframe\">\n  <thead>\n    <tr style=\"text-align: right;\">\n      <th></th>\n      <th>id</th>\n      <th>display_name</th>\n      <th>fx_stablecoin</th>\n      <th>max_slippage_percentage</th>\n      <th>status</th>\n    </tr>\n  </thead>\n  <tbody>\n    <tr>\n      <th>35</th>\n      <td>SNX-BTC</td>\n      <td>SNX/BTC</td>\n      <td>False</td>\n      <td>0.03000000</td>\n      <td>online</td>\n    </tr>\n    <tr>\n      <th>41</th>\n      <td>XRP-BTC</td>\n      <td>XRP/BTC</td>\n      <td>False</td>\n      <td>0.10000000</td>\n      <td>delisted</td>\n    </tr>\n    <tr>\n      <th>49</th>\n      <td>NKN-BTC</td>\n      <td>NKN/BTC</td>\n      <td>False</td>\n      <td>0.03000000</td>\n      <td>online</td>\n    </tr>\n    <tr>\n      <th>65</th>\n      <td>AXS-BTC</td>\n      <td>AXS/BTC</td>\n      <td>False</td>\n      <td>0.03000000</td>\n      <td>online</td>\n    </tr>\n    <tr>\n      <th>81</th>\n      <td>DOT-BTC</td>\n      <td>DOT/BTC</td>\n      <td>False</td>\n      <td>0.03000000</td>\n      <td>online</td>\n    </tr>\n    <tr>\n      <th>...</th>\n      <td>...</td>\n      <td>...</td>\n      <td>...</td>\n      <td>...</td>\n      <td>...</td>\n    </tr>\n    <tr>\n      <th>561</th>\n      <td>LRC-BTC</td>\n      <td>LRC/BTC</td>\n      <td>False</td>\n      <td>0.03000000</td>\n      <td>online</td>\n    </tr>\n    <tr>\n      <th>563</th>\n      <td>OGN-BTC</td>\n      <td>OGN/BTC</td>\n      <td>False</td>\n      <td>0.03000000</td>\n      <td>online</td>\n    </tr>\n    <tr>\n      <th>572</th>\n      <td>ORN-BTC</td>\n      <td>ORN/BTC</td>\n      <td>False</td>\n      <td>0.03000000</td>\n      <td>online</td>\n    </tr>\n    <tr>\n      <th>578</th>\n      <td>MKR-BTC</td>\n      <td>MKR/BTC</td>\n      <td>False</td>\n      <td>0.03000000</td>\n      <td>online</td>\n    </tr>\n    <tr>\n      <th>580</th>\n      <td>CGLD-BTC</td>\n      <td>CGLD/BTC</td>\n      <td>False</td>\n      <td>0.03000000</td>\n      <td>online</td>\n    </tr>\n  </tbody>\n</table>\n<p>73 rows × 5 columns</p>\n</div>"
     },
     "execution_count": 5,
     "metadata": {},
     "output_type": "execute_result"
    }
   ],
   "source": [
    "data"
   ],
   "metadata": {
    "collapsed": false,
    "pycharm": {
     "name": "#%%\n"
    }
   }
  },
  {
   "cell_type": "code",
   "execution_count": 12,
   "outputs": [
    {
     "name": "stdout",
     "output_type": "stream",
     "text": [
      "Checking input parameters are in the correct format.\n"
     ]
    }
   ],
   "source": [
    "new = HistoricalData('BTC-USD',900, start_date='2023-07-01-00-00',end_date='2023-07-08-00-00')"
   ],
   "metadata": {
    "collapsed": false,
    "pycharm": {
     "name": "#%%\n"
    }
   }
  },
  {
   "cell_type": "code",
   "execution_count": 15,
   "outputs": [
    {
     "name": "stdout",
     "output_type": "stream",
     "text": [
      "Formatting Dates.\n",
      "Checking if user supplied is available on the CoinBase Pro API.\n",
      "Connected to the CoinBase Pro API.\n",
      "Ticker 'BTC-USD' found at the CoinBase Pro API, continuing to extraction.\n",
      "Provisional Start: 2023-07-01T00:00:00\n",
      "Provisional End: 2023-07-04T03:00:00\n",
      "Data for chunk 1 of 3 extracted\n"
     ]
    },
    {
     "ename": "AttributeError",
     "evalue": "'DataFrame' object has no attribute 'append'",
     "output_type": "error",
     "traceback": [
      "\u001B[0;31m---------------------------------------------------------------------------\u001B[0m",
      "\u001B[0;31mAttributeError\u001B[0m                            Traceback (most recent call last)",
      "Cell \u001B[0;32mIn[15], line 1\u001B[0m\n\u001B[0;32m----> 1\u001B[0m \u001B[43mnew\u001B[49m\u001B[38;5;241;43m.\u001B[39;49m\u001B[43mretrieve_data\u001B[49m\u001B[43m(\u001B[49m\u001B[43m)\u001B[49m\n",
      "File \u001B[0;32m~/anaconda3/lib/python3.9/site-packages/Historic_Crypto/HistoricalData.py:176\u001B[0m, in \u001B[0;36mHistoricalData.retrieve_data\u001B[0;34m(self)\u001B[0m\n\u001B[1;32m    174\u001B[0m dataset \u001B[38;5;241m=\u001B[39m pd\u001B[38;5;241m.\u001B[39mDataFrame(json\u001B[38;5;241m.\u001B[39mloads(response\u001B[38;5;241m.\u001B[39mtext))\n\u001B[1;32m    175\u001B[0m \u001B[38;5;28;01mif\u001B[39;00m \u001B[38;5;129;01mnot\u001B[39;00m dataset\u001B[38;5;241m.\u001B[39mempty:\n\u001B[0;32m--> 176\u001B[0m     data \u001B[38;5;241m=\u001B[39m \u001B[43mdata\u001B[49m\u001B[38;5;241;43m.\u001B[39;49m\u001B[43mappend\u001B[49m(dataset)\n\u001B[1;32m    177\u001B[0m     time\u001B[38;5;241m.\u001B[39msleep(randint(\u001B[38;5;241m0\u001B[39m, \u001B[38;5;241m2\u001B[39m))\n\u001B[1;32m    178\u001B[0m \u001B[38;5;28;01melse\u001B[39;00m:\n",
      "File \u001B[0;32m~/anaconda3/lib/python3.9/site-packages/pandas/core/generic.py:5989\u001B[0m, in \u001B[0;36mNDFrame.__getattr__\u001B[0;34m(self, name)\u001B[0m\n\u001B[1;32m   5982\u001B[0m \u001B[38;5;28;01mif\u001B[39;00m (\n\u001B[1;32m   5983\u001B[0m     name \u001B[38;5;129;01mnot\u001B[39;00m \u001B[38;5;129;01min\u001B[39;00m \u001B[38;5;28mself\u001B[39m\u001B[38;5;241m.\u001B[39m_internal_names_set\n\u001B[1;32m   5984\u001B[0m     \u001B[38;5;129;01mand\u001B[39;00m name \u001B[38;5;129;01mnot\u001B[39;00m \u001B[38;5;129;01min\u001B[39;00m \u001B[38;5;28mself\u001B[39m\u001B[38;5;241m.\u001B[39m_metadata\n\u001B[1;32m   5985\u001B[0m     \u001B[38;5;129;01mand\u001B[39;00m name \u001B[38;5;129;01mnot\u001B[39;00m \u001B[38;5;129;01min\u001B[39;00m \u001B[38;5;28mself\u001B[39m\u001B[38;5;241m.\u001B[39m_accessors\n\u001B[1;32m   5986\u001B[0m     \u001B[38;5;129;01mand\u001B[39;00m \u001B[38;5;28mself\u001B[39m\u001B[38;5;241m.\u001B[39m_info_axis\u001B[38;5;241m.\u001B[39m_can_hold_identifiers_and_holds_name(name)\n\u001B[1;32m   5987\u001B[0m ):\n\u001B[1;32m   5988\u001B[0m     \u001B[38;5;28;01mreturn\u001B[39;00m \u001B[38;5;28mself\u001B[39m[name]\n\u001B[0;32m-> 5989\u001B[0m \u001B[38;5;28;01mreturn\u001B[39;00m \u001B[38;5;28;43mobject\u001B[39;49m\u001B[38;5;241;43m.\u001B[39;49m\u001B[38;5;21;43m__getattribute__\u001B[39;49m\u001B[43m(\u001B[49m\u001B[38;5;28;43mself\u001B[39;49m\u001B[43m,\u001B[49m\u001B[43m \u001B[49m\u001B[43mname\u001B[49m\u001B[43m)\u001B[49m\n",
      "\u001B[0;31mAttributeError\u001B[0m: 'DataFrame' object has no attribute 'append'"
     ]
    }
   ],
   "source": [
    "new.retrieve_data()"
   ],
   "metadata": {
    "collapsed": false,
    "pycharm": {
     "name": "#%%\n"
    }
   }
  },
  {
   "cell_type": "markdown",
   "source": [
    "## Binance\n",
    "\n",
    "https://medium.com/swlh/retrieving-full-historical-data-for-every-cryptocurrency-on-binance-bitmex-using-the-python-apis-27b47fd8137f\n",
    "\n",
    "https://pypi.org/project/binance-historical-data/#toc-entry-17"
   ],
   "metadata": {
    "collapsed": false,
    "pycharm": {
     "name": "#%% md\n"
    }
   }
  },
  {
   "cell_type": "code",
   "execution_count": 16,
   "outputs": [
    {
     "name": "stdout",
     "output_type": "stream",
     "text": [
      "Collecting binance-historical-data\r\n",
      "  Downloading binance_historical_data-0.1.13-py3-none-any.whl (12 kB)\r\n",
      "Requirement already satisfied: tqdm<5.0.0,>=4.62.3 in /Users/yujiewang/anaconda3/lib/python3.9/site-packages (from binance-historical-data) (4.64.1)\r\n",
      "Collecting char<0.2.0,>=0.1.2\r\n",
      "  Downloading char-0.1.2-py2.py3-none-any.whl (7.0 kB)\r\n",
      "Requirement already satisfied: ipywidgets<8.0.0,>=7.6.5 in /Users/yujiewang/anaconda3/lib/python3.9/site-packages (from binance-historical-data) (7.6.5)\r\n",
      "Collecting mpire<3.0.0,>=2.3.3\r\n",
      "  Downloading mpire-2.7.1-py3-none-any.whl (302 kB)\r\n",
      "\u001B[2K     \u001B[90m━━━━━━━━━━━━━━━━━━━━━━━━━━━━━━━━━━━━━━━\u001B[0m \u001B[32m302.0/302.0 kB\u001B[0m \u001B[31m5.9 MB/s\u001B[0m eta \u001B[36m0:00:00\u001B[0ma \u001B[36m0:00:01\u001B[0m\r\n",
      "\u001B[?25hRequirement already satisfied: ipykernel>=4.5.1 in /Users/yujiewang/anaconda3/lib/python3.9/site-packages (from ipywidgets<8.0.0,>=7.6.5->binance-historical-data) (6.19.2)\r\n",
      "Requirement already satisfied: jupyterlab-widgets>=1.0.0 in /Users/yujiewang/anaconda3/lib/python3.9/site-packages (from ipywidgets<8.0.0,>=7.6.5->binance-historical-data) (1.0.0)\r\n",
      "Requirement already satisfied: nbformat>=4.2.0 in /Users/yujiewang/anaconda3/lib/python3.9/site-packages (from ipywidgets<8.0.0,>=7.6.5->binance-historical-data) (5.7.0)\r\n",
      "Requirement already satisfied: ipython>=4.0.0 in /Users/yujiewang/anaconda3/lib/python3.9/site-packages (from ipywidgets<8.0.0,>=7.6.5->binance-historical-data) (8.10.0)\r\n",
      "Requirement already satisfied: widgetsnbextension~=3.5.0 in /Users/yujiewang/anaconda3/lib/python3.9/site-packages (from ipywidgets<8.0.0,>=7.6.5->binance-historical-data) (3.5.2)\r\n",
      "Requirement already satisfied: traitlets>=4.3.1 in /Users/yujiewang/anaconda3/lib/python3.9/site-packages (from ipywidgets<8.0.0,>=7.6.5->binance-historical-data) (5.7.1)\r\n",
      "Requirement already satisfied: ipython-genutils~=0.2.0 in /Users/yujiewang/anaconda3/lib/python3.9/site-packages (from ipywidgets<8.0.0,>=7.6.5->binance-historical-data) (0.2.0)\r\n",
      "Requirement already satisfied: pygments>=2.0 in /Users/yujiewang/anaconda3/lib/python3.9/site-packages (from mpire<3.0.0,>=2.3.3->binance-historical-data) (2.11.2)\r\n",
      "Requirement already satisfied: comm>=0.1.1 in /Users/yujiewang/anaconda3/lib/python3.9/site-packages (from ipykernel>=4.5.1->ipywidgets<8.0.0,>=7.6.5->binance-historical-data) (0.1.2)\r\n",
      "Requirement already satisfied: packaging in /Users/yujiewang/anaconda3/lib/python3.9/site-packages (from ipykernel>=4.5.1->ipywidgets<8.0.0,>=7.6.5->binance-historical-data) (22.0)\r\n",
      "Requirement already satisfied: tornado>=6.1 in /Users/yujiewang/anaconda3/lib/python3.9/site-packages (from ipykernel>=4.5.1->ipywidgets<8.0.0,>=7.6.5->binance-historical-data) (6.2)\r\n",
      "Requirement already satisfied: pyzmq>=17 in /Users/yujiewang/anaconda3/lib/python3.9/site-packages (from ipykernel>=4.5.1->ipywidgets<8.0.0,>=7.6.5->binance-historical-data) (23.2.0)\r\n",
      "Requirement already satisfied: nest-asyncio in /Users/yujiewang/anaconda3/lib/python3.9/site-packages (from ipykernel>=4.5.1->ipywidgets<8.0.0,>=7.6.5->binance-historical-data) (1.5.6)\r\n",
      "Requirement already satisfied: matplotlib-inline>=0.1 in /Users/yujiewang/anaconda3/lib/python3.9/site-packages (from ipykernel>=4.5.1->ipywidgets<8.0.0,>=7.6.5->binance-historical-data) (0.1.6)\r\n",
      "Requirement already satisfied: jupyter-client>=6.1.12 in /Users/yujiewang/anaconda3/lib/python3.9/site-packages (from ipykernel>=4.5.1->ipywidgets<8.0.0,>=7.6.5->binance-historical-data) (7.4.9)\r\n",
      "Requirement already satisfied: appnope in /Users/yujiewang/anaconda3/lib/python3.9/site-packages (from ipykernel>=4.5.1->ipywidgets<8.0.0,>=7.6.5->binance-historical-data) (0.1.2)\r\n",
      "Requirement already satisfied: psutil in /Users/yujiewang/anaconda3/lib/python3.9/site-packages (from ipykernel>=4.5.1->ipywidgets<8.0.0,>=7.6.5->binance-historical-data) (5.9.0)\r\n",
      "Requirement already satisfied: debugpy>=1.0 in /Users/yujiewang/anaconda3/lib/python3.9/site-packages (from ipykernel>=4.5.1->ipywidgets<8.0.0,>=7.6.5->binance-historical-data) (1.5.1)\r\n",
      "Requirement already satisfied: pexpect>4.3 in /Users/yujiewang/anaconda3/lib/python3.9/site-packages (from ipython>=4.0.0->ipywidgets<8.0.0,>=7.6.5->binance-historical-data) (4.8.0)\r\n",
      "Requirement already satisfied: pickleshare in /Users/yujiewang/anaconda3/lib/python3.9/site-packages (from ipython>=4.0.0->ipywidgets<8.0.0,>=7.6.5->binance-historical-data) (0.7.5)\r\n",
      "Requirement already satisfied: prompt-toolkit<3.1.0,>=3.0.30 in /Users/yujiewang/anaconda3/lib/python3.9/site-packages (from ipython>=4.0.0->ipywidgets<8.0.0,>=7.6.5->binance-historical-data) (3.0.36)\r\n",
      "Requirement already satisfied: jedi>=0.16 in /Users/yujiewang/anaconda3/lib/python3.9/site-packages (from ipython>=4.0.0->ipywidgets<8.0.0,>=7.6.5->binance-historical-data) (0.18.1)\r\n",
      "Requirement already satisfied: stack-data in /Users/yujiewang/anaconda3/lib/python3.9/site-packages (from ipython>=4.0.0->ipywidgets<8.0.0,>=7.6.5->binance-historical-data) (0.2.0)\r\n",
      "Requirement already satisfied: decorator in /Users/yujiewang/anaconda3/lib/python3.9/site-packages (from ipython>=4.0.0->ipywidgets<8.0.0,>=7.6.5->binance-historical-data) (5.1.1)\r\n",
      "Requirement already satisfied: backcall in /Users/yujiewang/anaconda3/lib/python3.9/site-packages (from ipython>=4.0.0->ipywidgets<8.0.0,>=7.6.5->binance-historical-data) (0.2.0)\r\n",
      "Requirement already satisfied: jsonschema>=2.6 in /Users/yujiewang/anaconda3/lib/python3.9/site-packages (from nbformat>=4.2.0->ipywidgets<8.0.0,>=7.6.5->binance-historical-data) (4.17.3)\r\n",
      "Requirement already satisfied: fastjsonschema in /Users/yujiewang/anaconda3/lib/python3.9/site-packages (from nbformat>=4.2.0->ipywidgets<8.0.0,>=7.6.5->binance-historical-data) (2.16.2)\r\n",
      "Requirement already satisfied: jupyter-core in /Users/yujiewang/anaconda3/lib/python3.9/site-packages (from nbformat>=4.2.0->ipywidgets<8.0.0,>=7.6.5->binance-historical-data) (5.2.0)\r\n",
      "Requirement already satisfied: notebook>=4.4.1 in /Users/yujiewang/anaconda3/lib/python3.9/site-packages (from widgetsnbextension~=3.5.0->ipywidgets<8.0.0,>=7.6.5->binance-historical-data) (6.5.2)\r\n",
      "Requirement already satisfied: parso<0.9.0,>=0.8.0 in /Users/yujiewang/anaconda3/lib/python3.9/site-packages (from jedi>=0.16->ipython>=4.0.0->ipywidgets<8.0.0,>=7.6.5->binance-historical-data) (0.8.3)\r\n",
      "Requirement already satisfied: attrs>=17.4.0 in /Users/yujiewang/anaconda3/lib/python3.9/site-packages (from jsonschema>=2.6->nbformat>=4.2.0->ipywidgets<8.0.0,>=7.6.5->binance-historical-data) (22.1.0)\r\n",
      "Requirement already satisfied: pyrsistent!=0.17.0,!=0.17.1,!=0.17.2,>=0.14.0 in /Users/yujiewang/anaconda3/lib/python3.9/site-packages (from jsonschema>=2.6->nbformat>=4.2.0->ipywidgets<8.0.0,>=7.6.5->binance-historical-data) (0.18.0)\r\n",
      "Requirement already satisfied: python-dateutil>=2.8.2 in /Users/yujiewang/anaconda3/lib/python3.9/site-packages (from jupyter-client>=6.1.12->ipykernel>=4.5.1->ipywidgets<8.0.0,>=7.6.5->binance-historical-data) (2.8.2)\r\n",
      "Requirement already satisfied: entrypoints in /Users/yujiewang/anaconda3/lib/python3.9/site-packages (from jupyter-client>=6.1.12->ipykernel>=4.5.1->ipywidgets<8.0.0,>=7.6.5->binance-historical-data) (0.4)\r\n",
      "Requirement already satisfied: platformdirs>=2.5 in /Users/yujiewang/anaconda3/lib/python3.9/site-packages (from jupyter-core->nbformat>=4.2.0->ipywidgets<8.0.0,>=7.6.5->binance-historical-data) (2.5.2)\r\n",
      "Requirement already satisfied: nbclassic>=0.4.7 in /Users/yujiewang/anaconda3/lib/python3.9/site-packages (from notebook>=4.4.1->widgetsnbextension~=3.5.0->ipywidgets<8.0.0,>=7.6.5->binance-historical-data) (0.5.2)\r\n",
      "Requirement already satisfied: prometheus-client in /Users/yujiewang/anaconda3/lib/python3.9/site-packages (from notebook>=4.4.1->widgetsnbextension~=3.5.0->ipywidgets<8.0.0,>=7.6.5->binance-historical-data) (0.14.1)\r\n",
      "Requirement already satisfied: jinja2 in /Users/yujiewang/anaconda3/lib/python3.9/site-packages (from notebook>=4.4.1->widgetsnbextension~=3.5.0->ipywidgets<8.0.0,>=7.6.5->binance-historical-data) (3.1.2)\r\n",
      "Requirement already satisfied: nbconvert>=5 in /Users/yujiewang/anaconda3/lib/python3.9/site-packages (from notebook>=4.4.1->widgetsnbextension~=3.5.0->ipywidgets<8.0.0,>=7.6.5->binance-historical-data) (6.5.4)\r\n",
      "Requirement already satisfied: terminado>=0.8.3 in /Users/yujiewang/anaconda3/lib/python3.9/site-packages (from notebook>=4.4.1->widgetsnbextension~=3.5.0->ipywidgets<8.0.0,>=7.6.5->binance-historical-data) (0.17.1)\r\n",
      "Requirement already satisfied: Send2Trash>=1.8.0 in /Users/yujiewang/anaconda3/lib/python3.9/site-packages (from notebook>=4.4.1->widgetsnbextension~=3.5.0->ipywidgets<8.0.0,>=7.6.5->binance-historical-data) (1.8.0)\r\n",
      "Requirement already satisfied: argon2-cffi in /Users/yujiewang/anaconda3/lib/python3.9/site-packages (from notebook>=4.4.1->widgetsnbextension~=3.5.0->ipywidgets<8.0.0,>=7.6.5->binance-historical-data) (21.3.0)\r\n",
      "Requirement already satisfied: ptyprocess>=0.5 in /Users/yujiewang/anaconda3/lib/python3.9/site-packages (from pexpect>4.3->ipython>=4.0.0->ipywidgets<8.0.0,>=7.6.5->binance-historical-data) (0.7.0)\r\n",
      "Requirement already satisfied: wcwidth in /Users/yujiewang/anaconda3/lib/python3.9/site-packages (from prompt-toolkit<3.1.0,>=3.0.30->ipython>=4.0.0->ipywidgets<8.0.0,>=7.6.5->binance-historical-data) (0.2.5)\r\n",
      "Requirement already satisfied: pure-eval in /Users/yujiewang/anaconda3/lib/python3.9/site-packages (from stack-data->ipython>=4.0.0->ipywidgets<8.0.0,>=7.6.5->binance-historical-data) (0.2.2)\r\n",
      "Requirement already satisfied: executing in /Users/yujiewang/anaconda3/lib/python3.9/site-packages (from stack-data->ipython>=4.0.0->ipywidgets<8.0.0,>=7.6.5->binance-historical-data) (0.8.3)\r\n",
      "Requirement already satisfied: asttokens in /Users/yujiewang/anaconda3/lib/python3.9/site-packages (from stack-data->ipython>=4.0.0->ipywidgets<8.0.0,>=7.6.5->binance-historical-data) (2.0.5)\r\n",
      "Requirement already satisfied: notebook-shim>=0.1.0 in /Users/yujiewang/anaconda3/lib/python3.9/site-packages (from nbclassic>=0.4.7->notebook>=4.4.1->widgetsnbextension~=3.5.0->ipywidgets<8.0.0,>=7.6.5->binance-historical-data) (0.2.2)\r\n",
      "Requirement already satisfied: jupyter-server>=1.8 in /Users/yujiewang/anaconda3/lib/python3.9/site-packages (from nbclassic>=0.4.7->notebook>=4.4.1->widgetsnbextension~=3.5.0->ipywidgets<8.0.0,>=7.6.5->binance-historical-data) (1.23.4)\r\n",
      "Requirement already satisfied: tinycss2 in /Users/yujiewang/anaconda3/lib/python3.9/site-packages (from nbconvert>=5->notebook>=4.4.1->widgetsnbextension~=3.5.0->ipywidgets<8.0.0,>=7.6.5->binance-historical-data) (1.2.1)\r\n",
      "Requirement already satisfied: MarkupSafe>=2.0 in /Users/yujiewang/anaconda3/lib/python3.9/site-packages (from nbconvert>=5->notebook>=4.4.1->widgetsnbextension~=3.5.0->ipywidgets<8.0.0,>=7.6.5->binance-historical-data) (2.1.1)\r\n",
      "Requirement already satisfied: bleach in /Users/yujiewang/anaconda3/lib/python3.9/site-packages (from nbconvert>=5->notebook>=4.4.1->widgetsnbextension~=3.5.0->ipywidgets<8.0.0,>=7.6.5->binance-historical-data) (4.1.0)\r\n",
      "Requirement already satisfied: mistune<2,>=0.8.1 in /Users/yujiewang/anaconda3/lib/python3.9/site-packages (from nbconvert>=5->notebook>=4.4.1->widgetsnbextension~=3.5.0->ipywidgets<8.0.0,>=7.6.5->binance-historical-data) (0.8.4)\r\n",
      "Requirement already satisfied: jupyterlab-pygments in /Users/yujiewang/anaconda3/lib/python3.9/site-packages (from nbconvert>=5->notebook>=4.4.1->widgetsnbextension~=3.5.0->ipywidgets<8.0.0,>=7.6.5->binance-historical-data) (0.1.2)\r\n",
      "Requirement already satisfied: defusedxml in /Users/yujiewang/anaconda3/lib/python3.9/site-packages (from nbconvert>=5->notebook>=4.4.1->widgetsnbextension~=3.5.0->ipywidgets<8.0.0,>=7.6.5->binance-historical-data) (0.7.1)\r\n",
      "Requirement already satisfied: nbclient>=0.5.0 in /Users/yujiewang/anaconda3/lib/python3.9/site-packages (from nbconvert>=5->notebook>=4.4.1->widgetsnbextension~=3.5.0->ipywidgets<8.0.0,>=7.6.5->binance-historical-data) (0.5.13)\r\n",
      "Requirement already satisfied: pandocfilters>=1.4.1 in /Users/yujiewang/anaconda3/lib/python3.9/site-packages (from nbconvert>=5->notebook>=4.4.1->widgetsnbextension~=3.5.0->ipywidgets<8.0.0,>=7.6.5->binance-historical-data) (1.5.0)\r\n",
      "Requirement already satisfied: beautifulsoup4 in /Users/yujiewang/anaconda3/lib/python3.9/site-packages (from nbconvert>=5->notebook>=4.4.1->widgetsnbextension~=3.5.0->ipywidgets<8.0.0,>=7.6.5->binance-historical-data) (4.11.1)\r\n",
      "Requirement already satisfied: lxml in /Users/yujiewang/anaconda3/lib/python3.9/site-packages (from nbconvert>=5->notebook>=4.4.1->widgetsnbextension~=3.5.0->ipywidgets<8.0.0,>=7.6.5->binance-historical-data) (4.9.1)\r\n",
      "Requirement already satisfied: six>=1.5 in /Users/yujiewang/anaconda3/lib/python3.9/site-packages (from python-dateutil>=2.8.2->jupyter-client>=6.1.12->ipykernel>=4.5.1->ipywidgets<8.0.0,>=7.6.5->binance-historical-data) (1.16.0)\r\n",
      "Requirement already satisfied: argon2-cffi-bindings in /Users/yujiewang/anaconda3/lib/python3.9/site-packages (from argon2-cffi->notebook>=4.4.1->widgetsnbextension~=3.5.0->ipywidgets<8.0.0,>=7.6.5->binance-historical-data) (21.2.0)\r\n",
      "Requirement already satisfied: anyio<4,>=3.1.0 in /Users/yujiewang/anaconda3/lib/python3.9/site-packages (from jupyter-server>=1.8->nbclassic>=0.4.7->notebook>=4.4.1->widgetsnbextension~=3.5.0->ipywidgets<8.0.0,>=7.6.5->binance-historical-data) (3.5.0)\r\n",
      "Requirement already satisfied: websocket-client in /Users/yujiewang/anaconda3/lib/python3.9/site-packages (from jupyter-server>=1.8->nbclassic>=0.4.7->notebook>=4.4.1->widgetsnbextension~=3.5.0->ipywidgets<8.0.0,>=7.6.5->binance-historical-data) (1.6.1)\r\n",
      "Requirement already satisfied: cffi>=1.0.1 in /Users/yujiewang/anaconda3/lib/python3.9/site-packages (from argon2-cffi-bindings->argon2-cffi->notebook>=4.4.1->widgetsnbextension~=3.5.0->ipywidgets<8.0.0,>=7.6.5->binance-historical-data) (1.15.1)\r\n",
      "Requirement already satisfied: soupsieve>1.2 in /Users/yujiewang/anaconda3/lib/python3.9/site-packages (from beautifulsoup4->nbconvert>=5->notebook>=4.4.1->widgetsnbextension~=3.5.0->ipywidgets<8.0.0,>=7.6.5->binance-historical-data) (2.3.2.post1)\r\n",
      "Requirement already satisfied: webencodings in /Users/yujiewang/anaconda3/lib/python3.9/site-packages (from bleach->nbconvert>=5->notebook>=4.4.1->widgetsnbextension~=3.5.0->ipywidgets<8.0.0,>=7.6.5->binance-historical-data) (0.5.1)\r\n",
      "Requirement already satisfied: sniffio>=1.1 in /Users/yujiewang/anaconda3/lib/python3.9/site-packages (from anyio<4,>=3.1.0->jupyter-server>=1.8->nbclassic>=0.4.7->notebook>=4.4.1->widgetsnbextension~=3.5.0->ipywidgets<8.0.0,>=7.6.5->binance-historical-data) (1.2.0)\r\n",
      "Requirement already satisfied: idna>=2.8 in /Users/yujiewang/anaconda3/lib/python3.9/site-packages (from anyio<4,>=3.1.0->jupyter-server>=1.8->nbclassic>=0.4.7->notebook>=4.4.1->widgetsnbextension~=3.5.0->ipywidgets<8.0.0,>=7.6.5->binance-historical-data) (3.4)\r\n",
      "Requirement already satisfied: pycparser in /Users/yujiewang/anaconda3/lib/python3.9/site-packages (from cffi>=1.0.1->argon2-cffi-bindings->argon2-cffi->notebook>=4.4.1->widgetsnbextension~=3.5.0->ipywidgets<8.0.0,>=7.6.5->binance-historical-data) (2.21)\r\n",
      "Installing collected packages: char, mpire, binance-historical-data\r\n",
      "Successfully installed binance-historical-data-0.1.13 char-0.1.2 mpire-2.7.1\r\n"
     ]
    }
   ],
   "source": [
    "!pip install binance-historical-data"
   ],
   "metadata": {
    "collapsed": false,
    "pycharm": {
     "name": "#%%\n"
    }
   }
  },
  {
   "cell_type": "code",
   "execution_count": 19,
   "outputs": [],
   "source": [
    "from binance_historical_data import BinanceDataDumper\n",
    "import datetime\n",
    "data_dumper = BinanceDataDumper(\n",
    "    path_dir_where_to_dump=\".\",\n",
    "    asset_class=\"um\",  # spot, um, cm\n",
    "    data_type=\"klines\",  # aggTrades, klines, trades\n",
    "    data_frequency=\"30m\",\n",
    ")"
   ],
   "metadata": {
    "collapsed": false,
    "pycharm": {
     "name": "#%%\n"
    }
   }
  },
  {
   "cell_type": "code",
   "execution_count": 20,
   "outputs": [
    {
     "name": "stdout",
     "output_type": "stream",
     "text": [
      "---> Found overall tickers: 239\n",
      "---> Filter to USDT tickers\n",
      "------> Tickers left: 198\n",
      "---> Exclude the asked tickers: 1\n",
      "------> Tickers left: 198\n",
      "Download full data for 198 tickers: \n",
      "---> Data will be saved here: /Users/yujiewang/MyProjects/Data Science/Data Science Project/Notes/um\n",
      "---> Data Frequency: 30m\n",
      "---> Start Date: 20230108\n",
      "---> End Date: 20230708\n"
     ]
    },
    {
     "data": {
      "text/plain": "Tickers:   0%|          | 0/198 [00:00<?, ?it/s]",
      "application/vnd.jupyter.widget-view+json": {
       "version_major": 2,
       "version_minor": 0,
       "model_id": "36bfc1d6fac94c74b1d9d4f72d583bf7"
      }
     },
     "metadata": {},
     "output_type": "display_data"
    },
    {
     "data": {
      "text/plain": "monthly files to download:   0%|          | 0/6 [00:00<?, ?files/s]",
      "application/vnd.jupyter.widget-view+json": {
       "version_major": 2,
       "version_minor": 0,
       "model_id": "5ecff29df4de446c89507bbdd11ad3bd"
      }
     },
     "metadata": {},
     "output_type": "display_data"
    },
    {
     "data": {
      "text/plain": "daily files to download:   0%|          | 0/7 [00:00<?, ?files/s]",
      "application/vnd.jupyter.widget-view+json": {
       "version_major": 2,
       "version_minor": 0,
       "model_id": "ef3af35dc8894fbebedeca040d6e3a7a"
      }
     },
     "metadata": {},
     "output_type": "display_data"
    },
    {
     "data": {
      "text/plain": "monthly files to download:   0%|          | 0/6 [00:00<?, ?files/s]",
      "application/vnd.jupyter.widget-view+json": {
       "version_major": 2,
       "version_minor": 0,
       "model_id": "718d67d3ce0943ac980676dd6e90918c"
      }
     },
     "metadata": {},
     "output_type": "display_data"
    },
    {
     "data": {
      "text/plain": "daily files to download:   0%|          | 0/7 [00:00<?, ?files/s]",
      "application/vnd.jupyter.widget-view+json": {
       "version_major": 2,
       "version_minor": 0,
       "model_id": "658c6462372b47adb5e294befa60fd89"
      }
     },
     "metadata": {},
     "output_type": "display_data"
    },
    {
     "data": {
      "text/plain": "monthly files to download:   0%|          | 0/6 [00:00<?, ?files/s]",
      "application/vnd.jupyter.widget-view+json": {
       "version_major": 2,
       "version_minor": 0,
       "model_id": "6251b82c15ab42d8838d9a64ef1d0021"
      }
     },
     "metadata": {},
     "output_type": "display_data"
    },
    {
     "data": {
      "text/plain": "daily files to download:   0%|          | 0/7 [00:00<?, ?files/s]",
      "application/vnd.jupyter.widget-view+json": {
       "version_major": 2,
       "version_minor": 0,
       "model_id": "67d0ebd9465840fe97cdfb64c827b376"
      }
     },
     "metadata": {},
     "output_type": "display_data"
    },
    {
     "data": {
      "text/plain": "monthly files to download:   0%|          | 0/6 [00:00<?, ?files/s]",
      "application/vnd.jupyter.widget-view+json": {
       "version_major": 2,
       "version_minor": 0,
       "model_id": "122a331105a34e6bb993d2060411238a"
      }
     },
     "metadata": {},
     "output_type": "display_data"
    },
    {
     "data": {
      "text/plain": "daily files to download:   0%|          | 0/7 [00:00<?, ?files/s]",
      "application/vnd.jupyter.widget-view+json": {
       "version_major": 2,
       "version_minor": 0,
       "model_id": "49993e3af8c14818bb83b9f6c4c84b59"
      }
     },
     "metadata": {},
     "output_type": "display_data"
    },
    {
     "data": {
      "text/plain": "monthly files to download:   0%|          | 0/6 [00:00<?, ?files/s]",
      "application/vnd.jupyter.widget-view+json": {
       "version_major": 2,
       "version_minor": 0,
       "model_id": "ed8ebc4fd1cd48619767d29334778daa"
      }
     },
     "metadata": {},
     "output_type": "display_data"
    },
    {
     "data": {
      "text/plain": "daily files to download:   0%|          | 0/7 [00:00<?, ?files/s]",
      "application/vnd.jupyter.widget-view+json": {
       "version_major": 2,
       "version_minor": 0,
       "model_id": "afbec9caa46e41e1b78a8cffb8505cb0"
      }
     },
     "metadata": {},
     "output_type": "display_data"
    },
    {
     "data": {
      "text/plain": "monthly files to download:   0%|          | 0/6 [00:00<?, ?files/s]",
      "application/vnd.jupyter.widget-view+json": {
       "version_major": 2,
       "version_minor": 0,
       "model_id": "32d35d4aed2d4ea7bcc2a5a6b8187b39"
      }
     },
     "metadata": {},
     "output_type": "display_data"
    },
    {
     "data": {
      "text/plain": "daily files to download:   0%|          | 0/7 [00:00<?, ?files/s]",
      "application/vnd.jupyter.widget-view+json": {
       "version_major": 2,
       "version_minor": 0,
       "model_id": "fd813433255f4ff189ad83eb8d401d91"
      }
     },
     "metadata": {},
     "output_type": "display_data"
    },
    {
     "data": {
      "text/plain": "monthly files to download:   0%|          | 0/6 [00:00<?, ?files/s]",
      "application/vnd.jupyter.widget-view+json": {
       "version_major": 2,
       "version_minor": 0,
       "model_id": "c963a0e48e0d48a5b2405bf52dbf5177"
      }
     },
     "metadata": {},
     "output_type": "display_data"
    },
    {
     "data": {
      "text/plain": "daily files to download:   0%|          | 0/7 [00:00<?, ?files/s]",
      "application/vnd.jupyter.widget-view+json": {
       "version_major": 2,
       "version_minor": 0,
       "model_id": "8c861984f39f4d20aad7a6d2c30cdea7"
      }
     },
     "metadata": {},
     "output_type": "display_data"
    },
    {
     "data": {
      "text/plain": "monthly files to download:   0%|          | 0/6 [00:00<?, ?files/s]",
      "application/vnd.jupyter.widget-view+json": {
       "version_major": 2,
       "version_minor": 0,
       "model_id": "53dea54172554eafbfbb8b276ab15a40"
      }
     },
     "metadata": {},
     "output_type": "display_data"
    },
    {
     "data": {
      "text/plain": "daily files to download:   0%|          | 0/7 [00:00<?, ?files/s]",
      "application/vnd.jupyter.widget-view+json": {
       "version_major": 2,
       "version_minor": 0,
       "model_id": "8419a4437f7549e5bf5baf75ecc180bd"
      }
     },
     "metadata": {},
     "output_type": "display_data"
    },
    {
     "data": {
      "text/plain": "monthly files to download:   0%|          | 0/6 [00:00<?, ?files/s]",
      "application/vnd.jupyter.widget-view+json": {
       "version_major": 2,
       "version_minor": 0,
       "model_id": "dd49518aca004beeb00e086e058aa05c"
      }
     },
     "metadata": {},
     "output_type": "display_data"
    },
    {
     "data": {
      "text/plain": "daily files to download:   0%|          | 0/7 [00:00<?, ?files/s]",
      "application/vnd.jupyter.widget-view+json": {
       "version_major": 2,
       "version_minor": 0,
       "model_id": "b3b0cf0d14e9498e8b6959536f077f7c"
      }
     },
     "metadata": {},
     "output_type": "display_data"
    },
    {
     "data": {
      "text/plain": "monthly files to download:   0%|          | 0/6 [00:00<?, ?files/s]",
      "application/vnd.jupyter.widget-view+json": {
       "version_major": 2,
       "version_minor": 0,
       "model_id": "a3292b2fb4e241c8963fbacd802ce15e"
      }
     },
     "metadata": {},
     "output_type": "display_data"
    },
    {
     "data": {
      "text/plain": "daily files to download:   0%|          | 0/7 [00:00<?, ?files/s]",
      "application/vnd.jupyter.widget-view+json": {
       "version_major": 2,
       "version_minor": 0,
       "model_id": "98067a1c60634546a26c92a2967c519a"
      }
     },
     "metadata": {},
     "output_type": "display_data"
    },
    {
     "data": {
      "text/plain": "monthly files to download:   0%|          | 0/6 [00:00<?, ?files/s]",
      "application/vnd.jupyter.widget-view+json": {
       "version_major": 2,
       "version_minor": 0,
       "model_id": "8fba512d2bfd4f5a9921e53da4761f55"
      }
     },
     "metadata": {},
     "output_type": "display_data"
    },
    {
     "data": {
      "text/plain": "daily files to download:   0%|          | 0/7 [00:00<?, ?files/s]",
      "application/vnd.jupyter.widget-view+json": {
       "version_major": 2,
       "version_minor": 0,
       "model_id": "c6537369413741739d4b71dc21b945c3"
      }
     },
     "metadata": {},
     "output_type": "display_data"
    },
    {
     "data": {
      "text/plain": "monthly files to download:   0%|          | 0/6 [00:00<?, ?files/s]",
      "application/vnd.jupyter.widget-view+json": {
       "version_major": 2,
       "version_minor": 0,
       "model_id": "2e456247ee9446398d8195563fe4bd28"
      }
     },
     "metadata": {},
     "output_type": "display_data"
    },
    {
     "data": {
      "text/plain": "daily files to download:   0%|          | 0/7 [00:00<?, ?files/s]",
      "application/vnd.jupyter.widget-view+json": {
       "version_major": 2,
       "version_minor": 0,
       "model_id": "97ba692768484c4f89853f472b75c12d"
      }
     },
     "metadata": {},
     "output_type": "display_data"
    },
    {
     "data": {
      "text/plain": "monthly files to download:   0%|          | 0/6 [00:00<?, ?files/s]",
      "application/vnd.jupyter.widget-view+json": {
       "version_major": 2,
       "version_minor": 0,
       "model_id": "218d4268d10b4ee69d9b22c3f4e4aea7"
      }
     },
     "metadata": {},
     "output_type": "display_data"
    },
    {
     "data": {
      "text/plain": "daily files to download:   0%|          | 0/7 [00:00<?, ?files/s]",
      "application/vnd.jupyter.widget-view+json": {
       "version_major": 2,
       "version_minor": 0,
       "model_id": "985e6d408bfa4328823a3eb75ec726f4"
      }
     },
     "metadata": {},
     "output_type": "display_data"
    },
    {
     "data": {
      "text/plain": "monthly files to download:   0%|          | 0/6 [00:00<?, ?files/s]",
      "application/vnd.jupyter.widget-view+json": {
       "version_major": 2,
       "version_minor": 0,
       "model_id": "580944d2e2154050b3c621b4ca17453a"
      }
     },
     "metadata": {},
     "output_type": "display_data"
    },
    {
     "data": {
      "text/plain": "daily files to download:   0%|          | 0/7 [00:00<?, ?files/s]",
      "application/vnd.jupyter.widget-view+json": {
       "version_major": 2,
       "version_minor": 0,
       "model_id": "3ff333bc7b9f45c9bad0992bacad76bd"
      }
     },
     "metadata": {},
     "output_type": "display_data"
    },
    {
     "data": {
      "text/plain": "monthly files to download:   0%|          | 0/6 [00:00<?, ?files/s]",
      "application/vnd.jupyter.widget-view+json": {
       "version_major": 2,
       "version_minor": 0,
       "model_id": "9f9952f8fb4a4b6a98aa1c5d1d2319c4"
      }
     },
     "metadata": {},
     "output_type": "display_data"
    },
    {
     "data": {
      "text/plain": "daily files to download:   0%|          | 0/7 [00:00<?, ?files/s]",
      "application/vnd.jupyter.widget-view+json": {
       "version_major": 2,
       "version_minor": 0,
       "model_id": "7b5ab43af16d4ab3832347b0cf693f4f"
      }
     },
     "metadata": {},
     "output_type": "display_data"
    },
    {
     "data": {
      "text/plain": "monthly files to download:   0%|          | 0/6 [00:00<?, ?files/s]",
      "application/vnd.jupyter.widget-view+json": {
       "version_major": 2,
       "version_minor": 0,
       "model_id": "60d4dc6a46c44915af51df9188348d45"
      }
     },
     "metadata": {},
     "output_type": "display_data"
    },
    {
     "data": {
      "text/plain": "daily files to download:   0%|          | 0/7 [00:00<?, ?files/s]",
      "application/vnd.jupyter.widget-view+json": {
       "version_major": 2,
       "version_minor": 0,
       "model_id": "1e460cab6feb4be78aea85b055af7346"
      }
     },
     "metadata": {},
     "output_type": "display_data"
    },
    {
     "data": {
      "text/plain": "monthly files to download:   0%|          | 0/6 [00:00<?, ?files/s]",
      "application/vnd.jupyter.widget-view+json": {
       "version_major": 2,
       "version_minor": 0,
       "model_id": "ee4dc1e14b5d46f4864ba444adfba022"
      }
     },
     "metadata": {},
     "output_type": "display_data"
    },
    {
     "data": {
      "text/plain": "daily files to download:   0%|          | 0/7 [00:00<?, ?files/s]",
      "application/vnd.jupyter.widget-view+json": {
       "version_major": 2,
       "version_minor": 0,
       "model_id": "98a5d0e97fc74121b1772436b2d35ca6"
      }
     },
     "metadata": {},
     "output_type": "display_data"
    },
    {
     "data": {
      "text/plain": "monthly files to download:   0%|          | 0/6 [00:00<?, ?files/s]",
      "application/vnd.jupyter.widget-view+json": {
       "version_major": 2,
       "version_minor": 0,
       "model_id": "c850f22fd1de49e1a3f20938b5848018"
      }
     },
     "metadata": {},
     "output_type": "display_data"
    },
    {
     "data": {
      "text/plain": "daily files to download:   0%|          | 0/7 [00:00<?, ?files/s]",
      "application/vnd.jupyter.widget-view+json": {
       "version_major": 2,
       "version_minor": 0,
       "model_id": "3d059b43638b4b5c8e3dbcddc6f15a17"
      }
     },
     "metadata": {},
     "output_type": "display_data"
    },
    {
     "data": {
      "text/plain": "monthly files to download:   0%|          | 0/6 [00:00<?, ?files/s]",
      "application/vnd.jupyter.widget-view+json": {
       "version_major": 2,
       "version_minor": 0,
       "model_id": "4d6b7c2a0d1a4db8bfac3e78b296d175"
      }
     },
     "metadata": {},
     "output_type": "display_data"
    },
    {
     "data": {
      "text/plain": "daily files to download:   0%|          | 0/7 [00:00<?, ?files/s]",
      "application/vnd.jupyter.widget-view+json": {
       "version_major": 2,
       "version_minor": 0,
       "model_id": "e137b056af114ce69fc0fbe2a74c1a8b"
      }
     },
     "metadata": {},
     "output_type": "display_data"
    },
    {
     "data": {
      "text/plain": "monthly files to download:   0%|          | 0/6 [00:00<?, ?files/s]",
      "application/vnd.jupyter.widget-view+json": {
       "version_major": 2,
       "version_minor": 0,
       "model_id": "8e8fa94cd9a84a6ea28503690f45ac58"
      }
     },
     "metadata": {},
     "output_type": "display_data"
    },
    {
     "data": {
      "text/plain": "daily files to download:   0%|          | 0/7 [00:00<?, ?files/s]",
      "application/vnd.jupyter.widget-view+json": {
       "version_major": 2,
       "version_minor": 0,
       "model_id": "31a221c574da4fde912948b3b90dcfde"
      }
     },
     "metadata": {},
     "output_type": "display_data"
    },
    {
     "data": {
      "text/plain": "monthly files to download:   0%|          | 0/6 [00:00<?, ?files/s]",
      "application/vnd.jupyter.widget-view+json": {
       "version_major": 2,
       "version_minor": 0,
       "model_id": "7d9513e06eaf4f4ba58386c1fd4c7263"
      }
     },
     "metadata": {},
     "output_type": "display_data"
    },
    {
     "data": {
      "text/plain": "daily files to download:   0%|          | 0/7 [00:00<?, ?files/s]",
      "application/vnd.jupyter.widget-view+json": {
       "version_major": 2,
       "version_minor": 0,
       "model_id": "65f4aa854b0547ce970b7fd1b7187efd"
      }
     },
     "metadata": {},
     "output_type": "display_data"
    },
    {
     "data": {
      "text/plain": "monthly files to download:   0%|          | 0/6 [00:00<?, ?files/s]",
      "application/vnd.jupyter.widget-view+json": {
       "version_major": 2,
       "version_minor": 0,
       "model_id": "8c126f42d9e84f749335d8a7ff475e7a"
      }
     },
     "metadata": {},
     "output_type": "display_data"
    },
    {
     "data": {
      "text/plain": "daily files to download:   0%|          | 0/7 [00:00<?, ?files/s]",
      "application/vnd.jupyter.widget-view+json": {
       "version_major": 2,
       "version_minor": 0,
       "model_id": "c05c8f72795a435f979354343e5f6e70"
      }
     },
     "metadata": {},
     "output_type": "display_data"
    },
    {
     "data": {
      "text/plain": "monthly files to download:   0%|          | 0/6 [00:00<?, ?files/s]",
      "application/vnd.jupyter.widget-view+json": {
       "version_major": 2,
       "version_minor": 0,
       "model_id": "6b597164f4ce4efbb7fcdc4b51c196d0"
      }
     },
     "metadata": {},
     "output_type": "display_data"
    },
    {
     "data": {
      "text/plain": "daily files to download:   0%|          | 0/7 [00:00<?, ?files/s]",
      "application/vnd.jupyter.widget-view+json": {
       "version_major": 2,
       "version_minor": 0,
       "model_id": "7f337977d54247249e871506fff418f0"
      }
     },
     "metadata": {},
     "output_type": "display_data"
    },
    {
     "data": {
      "text/plain": "monthly files to download:   0%|          | 0/6 [00:00<?, ?files/s]",
      "application/vnd.jupyter.widget-view+json": {
       "version_major": 2,
       "version_minor": 0,
       "model_id": "ffa837c6fdac4fda98c5e9629f3da266"
      }
     },
     "metadata": {},
     "output_type": "display_data"
    },
    {
     "data": {
      "text/plain": "daily files to download:   0%|          | 0/7 [00:00<?, ?files/s]",
      "application/vnd.jupyter.widget-view+json": {
       "version_major": 2,
       "version_minor": 0,
       "model_id": "1913ebfc57714aaa94d7d73fb80dedd6"
      }
     },
     "metadata": {},
     "output_type": "display_data"
    },
    {
     "data": {
      "text/plain": "monthly files to download:   0%|          | 0/6 [00:00<?, ?files/s]",
      "application/vnd.jupyter.widget-view+json": {
       "version_major": 2,
       "version_minor": 0,
       "model_id": "13cb941a295f488d91d17f366a2a9ea1"
      }
     },
     "metadata": {},
     "output_type": "display_data"
    },
    {
     "data": {
      "text/plain": "daily files to download:   0%|          | 0/7 [00:00<?, ?files/s]",
      "application/vnd.jupyter.widget-view+json": {
       "version_major": 2,
       "version_minor": 0,
       "model_id": "0d08a16f59564def94849fd9392a7e69"
      }
     },
     "metadata": {},
     "output_type": "display_data"
    },
    {
     "data": {
      "text/plain": "monthly files to download:   0%|          | 0/6 [00:00<?, ?files/s]",
      "application/vnd.jupyter.widget-view+json": {
       "version_major": 2,
       "version_minor": 0,
       "model_id": "89d7812c72224103933859a8caf65155"
      }
     },
     "metadata": {},
     "output_type": "display_data"
    },
    {
     "data": {
      "text/plain": "daily files to download:   0%|          | 0/7 [00:00<?, ?files/s]",
      "application/vnd.jupyter.widget-view+json": {
       "version_major": 2,
       "version_minor": 0,
       "model_id": "3094671157004fb2b1795dae6b8211cd"
      }
     },
     "metadata": {},
     "output_type": "display_data"
    },
    {
     "data": {
      "text/plain": "monthly files to download:   0%|          | 0/6 [00:00<?, ?files/s]",
      "application/vnd.jupyter.widget-view+json": {
       "version_major": 2,
       "version_minor": 0,
       "model_id": "7ab301020e7a4e70abedb867385fe49f"
      }
     },
     "metadata": {},
     "output_type": "display_data"
    },
    {
     "data": {
      "text/plain": "daily files to download:   0%|          | 0/7 [00:00<?, ?files/s]",
      "application/vnd.jupyter.widget-view+json": {
       "version_major": 2,
       "version_minor": 0,
       "model_id": "d8edccbb79f54b5da434013fab8119f9"
      }
     },
     "metadata": {},
     "output_type": "display_data"
    },
    {
     "data": {
      "text/plain": "monthly files to download:   0%|          | 0/6 [00:00<?, ?files/s]",
      "application/vnd.jupyter.widget-view+json": {
       "version_major": 2,
       "version_minor": 0,
       "model_id": "bde9a7d30e9840d393426a00532d057a"
      }
     },
     "metadata": {},
     "output_type": "display_data"
    },
    {
     "data": {
      "text/plain": "daily files to download:   0%|          | 0/7 [00:00<?, ?files/s]",
      "application/vnd.jupyter.widget-view+json": {
       "version_major": 2,
       "version_minor": 0,
       "model_id": "d6c3655112464e67994363761ac9a388"
      }
     },
     "metadata": {},
     "output_type": "display_data"
    },
    {
     "data": {
      "text/plain": "monthly files to download:   0%|          | 0/6 [00:00<?, ?files/s]",
      "application/vnd.jupyter.widget-view+json": {
       "version_major": 2,
       "version_minor": 0,
       "model_id": "ede9964c490649c1b4e979233d409353"
      }
     },
     "metadata": {},
     "output_type": "display_data"
    },
    {
     "data": {
      "text/plain": "daily files to download:   0%|          | 0/7 [00:00<?, ?files/s]",
      "application/vnd.jupyter.widget-view+json": {
       "version_major": 2,
       "version_minor": 0,
       "model_id": "b681f3e2ca6e4260a0757ff12bf9fea1"
      }
     },
     "metadata": {},
     "output_type": "display_data"
    },
    {
     "data": {
      "text/plain": "monthly files to download:   0%|          | 0/6 [00:00<?, ?files/s]",
      "application/vnd.jupyter.widget-view+json": {
       "version_major": 2,
       "version_minor": 0,
       "model_id": "8c21af1c2ad84ccab7e3fba2bcc31106"
      }
     },
     "metadata": {},
     "output_type": "display_data"
    },
    {
     "data": {
      "text/plain": "daily files to download:   0%|          | 0/7 [00:00<?, ?files/s]",
      "application/vnd.jupyter.widget-view+json": {
       "version_major": 2,
       "version_minor": 0,
       "model_id": "171fb2b21d234644857849f7aea780db"
      }
     },
     "metadata": {},
     "output_type": "display_data"
    },
    {
     "data": {
      "text/plain": "monthly files to download:   0%|          | 0/6 [00:00<?, ?files/s]",
      "application/vnd.jupyter.widget-view+json": {
       "version_major": 2,
       "version_minor": 0,
       "model_id": "9f2871140b2c49e19850ca09460e192a"
      }
     },
     "metadata": {},
     "output_type": "display_data"
    },
    {
     "data": {
      "text/plain": "daily files to download:   0%|          | 0/7 [00:00<?, ?files/s]",
      "application/vnd.jupyter.widget-view+json": {
       "version_major": 2,
       "version_minor": 0,
       "model_id": "05ccfb00721b4b788fa39a9377237419"
      }
     },
     "metadata": {},
     "output_type": "display_data"
    },
    {
     "data": {
      "text/plain": "monthly files to download:   0%|          | 0/6 [00:00<?, ?files/s]",
      "application/vnd.jupyter.widget-view+json": {
       "version_major": 2,
       "version_minor": 0,
       "model_id": "65896497fbe04230bb18e2ca9a7c7c65"
      }
     },
     "metadata": {},
     "output_type": "display_data"
    },
    {
     "data": {
      "text/plain": "daily files to download:   0%|          | 0/7 [00:00<?, ?files/s]",
      "application/vnd.jupyter.widget-view+json": {
       "version_major": 2,
       "version_minor": 0,
       "model_id": "1d5643c828d34798961a8c91287be34a"
      }
     },
     "metadata": {},
     "output_type": "display_data"
    },
    {
     "data": {
      "text/plain": "monthly files to download:   0%|          | 0/6 [00:00<?, ?files/s]",
      "application/vnd.jupyter.widget-view+json": {
       "version_major": 2,
       "version_minor": 0,
       "model_id": "3002048863544123ae61e2c5c150ed59"
      }
     },
     "metadata": {},
     "output_type": "display_data"
    },
    {
     "data": {
      "text/plain": "daily files to download:   0%|          | 0/7 [00:00<?, ?files/s]",
      "application/vnd.jupyter.widget-view+json": {
       "version_major": 2,
       "version_minor": 0,
       "model_id": "31eb2a21990147ed88dc9197718a9705"
      }
     },
     "metadata": {},
     "output_type": "display_data"
    },
    {
     "data": {
      "text/plain": "monthly files to download:   0%|          | 0/6 [00:00<?, ?files/s]",
      "application/vnd.jupyter.widget-view+json": {
       "version_major": 2,
       "version_minor": 0,
       "model_id": "a11ef74525024baa81ab542adb340c1e"
      }
     },
     "metadata": {},
     "output_type": "display_data"
    },
    {
     "data": {
      "text/plain": "daily files to download:   0%|          | 0/7 [00:00<?, ?files/s]",
      "application/vnd.jupyter.widget-view+json": {
       "version_major": 2,
       "version_minor": 0,
       "model_id": "ff1fab428ec14c50a475d842dba72c8f"
      }
     },
     "metadata": {},
     "output_type": "display_data"
    },
    {
     "data": {
      "text/plain": "monthly files to download:   0%|          | 0/6 [00:00<?, ?files/s]",
      "application/vnd.jupyter.widget-view+json": {
       "version_major": 2,
       "version_minor": 0,
       "model_id": "4293a38b24d541fbad755588b8f8b7dc"
      }
     },
     "metadata": {},
     "output_type": "display_data"
    },
    {
     "data": {
      "text/plain": "daily files to download:   0%|          | 0/7 [00:00<?, ?files/s]",
      "application/vnd.jupyter.widget-view+json": {
       "version_major": 2,
       "version_minor": 0,
       "model_id": "412296d7497748679f49332036cbd13f"
      }
     },
     "metadata": {},
     "output_type": "display_data"
    },
    {
     "data": {
      "text/plain": "monthly files to download:   0%|          | 0/6 [00:00<?, ?files/s]",
      "application/vnd.jupyter.widget-view+json": {
       "version_major": 2,
       "version_minor": 0,
       "model_id": "ed3465e5453844ef9269c9257fc1fe0b"
      }
     },
     "metadata": {},
     "output_type": "display_data"
    },
    {
     "data": {
      "text/plain": "daily files to download:   0%|          | 0/7 [00:00<?, ?files/s]",
      "application/vnd.jupyter.widget-view+json": {
       "version_major": 2,
       "version_minor": 0,
       "model_id": "f225775dbff7408381ddf07ca2194ccc"
      }
     },
     "metadata": {},
     "output_type": "display_data"
    },
    {
     "data": {
      "text/plain": "monthly files to download:   0%|          | 0/6 [00:00<?, ?files/s]",
      "application/vnd.jupyter.widget-view+json": {
       "version_major": 2,
       "version_minor": 0,
       "model_id": "5e110d5faec845519682bbb120f8bebe"
      }
     },
     "metadata": {},
     "output_type": "display_data"
    },
    {
     "data": {
      "text/plain": "daily files to download:   0%|          | 0/7 [00:00<?, ?files/s]",
      "application/vnd.jupyter.widget-view+json": {
       "version_major": 2,
       "version_minor": 0,
       "model_id": "6fb070e338484023bf098443115a7d60"
      }
     },
     "metadata": {},
     "output_type": "display_data"
    },
    {
     "data": {
      "text/plain": "monthly files to download:   0%|          | 0/6 [00:00<?, ?files/s]",
      "application/vnd.jupyter.widget-view+json": {
       "version_major": 2,
       "version_minor": 0,
       "model_id": "b1077241698441e5a5a21ec38376c46f"
      }
     },
     "metadata": {},
     "output_type": "display_data"
    },
    {
     "data": {
      "text/plain": "daily files to download:   0%|          | 0/7 [00:00<?, ?files/s]",
      "application/vnd.jupyter.widget-view+json": {
       "version_major": 2,
       "version_minor": 0,
       "model_id": "a77fffd1a0fb49e78241f20b72bc0200"
      }
     },
     "metadata": {},
     "output_type": "display_data"
    },
    {
     "data": {
      "text/plain": "monthly files to download:   0%|          | 0/6 [00:00<?, ?files/s]",
      "application/vnd.jupyter.widget-view+json": {
       "version_major": 2,
       "version_minor": 0,
       "model_id": "16f5d24987794f3184ddde2a2f1e561e"
      }
     },
     "metadata": {},
     "output_type": "display_data"
    },
    {
     "data": {
      "text/plain": "daily files to download:   0%|          | 0/7 [00:00<?, ?files/s]",
      "application/vnd.jupyter.widget-view+json": {
       "version_major": 2,
       "version_minor": 0,
       "model_id": "3403bfb958714b8292a7a7784d8f4ea4"
      }
     },
     "metadata": {},
     "output_type": "display_data"
    },
    {
     "data": {
      "text/plain": "monthly files to download:   0%|          | 0/6 [00:00<?, ?files/s]",
      "application/vnd.jupyter.widget-view+json": {
       "version_major": 2,
       "version_minor": 0,
       "model_id": "ecd5e9b3099f46b393bacf817db11782"
      }
     },
     "metadata": {},
     "output_type": "display_data"
    },
    {
     "data": {
      "text/plain": "daily files to download:   0%|          | 0/7 [00:00<?, ?files/s]",
      "application/vnd.jupyter.widget-view+json": {
       "version_major": 2,
       "version_minor": 0,
       "model_id": "7cedea582e3f445b811060cf06396aad"
      }
     },
     "metadata": {},
     "output_type": "display_data"
    },
    {
     "data": {
      "text/plain": "monthly files to download:   0%|          | 0/6 [00:00<?, ?files/s]",
      "application/vnd.jupyter.widget-view+json": {
       "version_major": 2,
       "version_minor": 0,
       "model_id": "20dd1ff67a22429eab43da689e121dc1"
      }
     },
     "metadata": {},
     "output_type": "display_data"
    },
    {
     "data": {
      "text/plain": "daily files to download:   0%|          | 0/7 [00:00<?, ?files/s]",
      "application/vnd.jupyter.widget-view+json": {
       "version_major": 2,
       "version_minor": 0,
       "model_id": "28cc2d6e36e2454594fe3950bba32886"
      }
     },
     "metadata": {},
     "output_type": "display_data"
    },
    {
     "data": {
      "text/plain": "monthly files to download:   0%|          | 0/6 [00:00<?, ?files/s]",
      "application/vnd.jupyter.widget-view+json": {
       "version_major": 2,
       "version_minor": 0,
       "model_id": "1437da308c5843bfba7e39f508a9cd37"
      }
     },
     "metadata": {},
     "output_type": "display_data"
    },
    {
     "data": {
      "text/plain": "daily files to download:   0%|          | 0/7 [00:00<?, ?files/s]",
      "application/vnd.jupyter.widget-view+json": {
       "version_major": 2,
       "version_minor": 0,
       "model_id": "81dc102e27a24524b5b8a6dd332af367"
      }
     },
     "metadata": {},
     "output_type": "display_data"
    },
    {
     "data": {
      "text/plain": "monthly files to download:   0%|          | 0/6 [00:00<?, ?files/s]",
      "application/vnd.jupyter.widget-view+json": {
       "version_major": 2,
       "version_minor": 0,
       "model_id": "b72993065d9c471a92a4d654cbf83ad6"
      }
     },
     "metadata": {},
     "output_type": "display_data"
    },
    {
     "data": {
      "text/plain": "daily files to download:   0%|          | 0/7 [00:00<?, ?files/s]",
      "application/vnd.jupyter.widget-view+json": {
       "version_major": 2,
       "version_minor": 0,
       "model_id": "869fe89b39864c92b44fd9067672ac56"
      }
     },
     "metadata": {},
     "output_type": "display_data"
    },
    {
     "data": {
      "text/plain": "monthly files to download:   0%|          | 0/6 [00:00<?, ?files/s]",
      "application/vnd.jupyter.widget-view+json": {
       "version_major": 2,
       "version_minor": 0,
       "model_id": "4dbe4ff2509d46d4a95ea4e6f856969e"
      }
     },
     "metadata": {},
     "output_type": "display_data"
    },
    {
     "data": {
      "text/plain": "daily files to download:   0%|          | 0/7 [00:00<?, ?files/s]",
      "application/vnd.jupyter.widget-view+json": {
       "version_major": 2,
       "version_minor": 0,
       "model_id": "a09c52c93ef448b0b3da0222fb7dbe7b"
      }
     },
     "metadata": {},
     "output_type": "display_data"
    },
    {
     "data": {
      "text/plain": "monthly files to download:   0%|          | 0/6 [00:00<?, ?files/s]",
      "application/vnd.jupyter.widget-view+json": {
       "version_major": 2,
       "version_minor": 0,
       "model_id": "ec1d224716fa458095232438dc7adc90"
      }
     },
     "metadata": {},
     "output_type": "display_data"
    },
    {
     "data": {
      "text/plain": "daily files to download:   0%|          | 0/7 [00:00<?, ?files/s]",
      "application/vnd.jupyter.widget-view+json": {
       "version_major": 2,
       "version_minor": 0,
       "model_id": "cea24950b0dc4d49b4a1ebeb9dfa525e"
      }
     },
     "metadata": {},
     "output_type": "display_data"
    },
    {
     "data": {
      "text/plain": "monthly files to download:   0%|          | 0/6 [00:00<?, ?files/s]",
      "application/vnd.jupyter.widget-view+json": {
       "version_major": 2,
       "version_minor": 0,
       "model_id": "35212c67930649239b098b630ef1f1ea"
      }
     },
     "metadata": {},
     "output_type": "display_data"
    },
    {
     "data": {
      "text/plain": "daily files to download:   0%|          | 0/7 [00:00<?, ?files/s]",
      "application/vnd.jupyter.widget-view+json": {
       "version_major": 2,
       "version_minor": 0,
       "model_id": "1636a337793840a7b9017e342fd4020b"
      }
     },
     "metadata": {},
     "output_type": "display_data"
    },
    {
     "data": {
      "text/plain": "monthly files to download:   0%|          | 0/6 [00:00<?, ?files/s]",
      "application/vnd.jupyter.widget-view+json": {
       "version_major": 2,
       "version_minor": 0,
       "model_id": "cac90111eb9849bfbb88785ab3dc2ef8"
      }
     },
     "metadata": {},
     "output_type": "display_data"
    },
    {
     "data": {
      "text/plain": "daily files to download:   0%|          | 0/7 [00:00<?, ?files/s]",
      "application/vnd.jupyter.widget-view+json": {
       "version_major": 2,
       "version_minor": 0,
       "model_id": "bed4d6f751104fc38c433b63154e1e7e"
      }
     },
     "metadata": {},
     "output_type": "display_data"
    },
    {
     "data": {
      "text/plain": "monthly files to download:   0%|          | 0/6 [00:00<?, ?files/s]",
      "application/vnd.jupyter.widget-view+json": {
       "version_major": 2,
       "version_minor": 0,
       "model_id": "e8cba82c72144f0abcabd37941743f1c"
      }
     },
     "metadata": {},
     "output_type": "display_data"
    },
    {
     "data": {
      "text/plain": "daily files to download:   0%|          | 0/7 [00:00<?, ?files/s]",
      "application/vnd.jupyter.widget-view+json": {
       "version_major": 2,
       "version_minor": 0,
       "model_id": "6a1113e82a054670ad58931a370f5f54"
      }
     },
     "metadata": {},
     "output_type": "display_data"
    },
    {
     "data": {
      "text/plain": "monthly files to download:   0%|          | 0/6 [00:00<?, ?files/s]",
      "application/vnd.jupyter.widget-view+json": {
       "version_major": 2,
       "version_minor": 0,
       "model_id": "be07235eac9f449b887315efdf590023"
      }
     },
     "metadata": {},
     "output_type": "display_data"
    },
    {
     "data": {
      "text/plain": "daily files to download:   0%|          | 0/7 [00:00<?, ?files/s]",
      "application/vnd.jupyter.widget-view+json": {
       "version_major": 2,
       "version_minor": 0,
       "model_id": "6279228c8bf04f968eab24fdbfc05912"
      }
     },
     "metadata": {},
     "output_type": "display_data"
    },
    {
     "data": {
      "text/plain": "monthly files to download:   0%|          | 0/6 [00:00<?, ?files/s]",
      "application/vnd.jupyter.widget-view+json": {
       "version_major": 2,
       "version_minor": 0,
       "model_id": "e4c2cf7ae89448ecb4a3ed42511c57d2"
      }
     },
     "metadata": {},
     "output_type": "display_data"
    },
    {
     "data": {
      "text/plain": "daily files to download:   0%|          | 0/7 [00:00<?, ?files/s]",
      "application/vnd.jupyter.widget-view+json": {
       "version_major": 2,
       "version_minor": 0,
       "model_id": "ccc31e09bda94d0690793aefa74bb201"
      }
     },
     "metadata": {},
     "output_type": "display_data"
    },
    {
     "data": {
      "text/plain": "monthly files to download:   0%|          | 0/6 [00:00<?, ?files/s]",
      "application/vnd.jupyter.widget-view+json": {
       "version_major": 2,
       "version_minor": 0,
       "model_id": "9e024c97937a44d28020408a9103c20e"
      }
     },
     "metadata": {},
     "output_type": "display_data"
    },
    {
     "data": {
      "text/plain": "daily files to download:   0%|          | 0/7 [00:00<?, ?files/s]",
      "application/vnd.jupyter.widget-view+json": {
       "version_major": 2,
       "version_minor": 0,
       "model_id": "84a24bb17fb04227a3db827b199bdd86"
      }
     },
     "metadata": {},
     "output_type": "display_data"
    },
    {
     "data": {
      "text/plain": "monthly files to download:   0%|          | 0/6 [00:00<?, ?files/s]",
      "application/vnd.jupyter.widget-view+json": {
       "version_major": 2,
       "version_minor": 0,
       "model_id": "85b5d4e35c4a4830b25ab374640b2ada"
      }
     },
     "metadata": {},
     "output_type": "display_data"
    },
    {
     "data": {
      "text/plain": "daily files to download:   0%|          | 0/7 [00:00<?, ?files/s]",
      "application/vnd.jupyter.widget-view+json": {
       "version_major": 2,
       "version_minor": 0,
       "model_id": "5a1e4393bcec4cafbf4001a8b61b80b5"
      }
     },
     "metadata": {},
     "output_type": "display_data"
    },
    {
     "data": {
      "text/plain": "monthly files to download:   0%|          | 0/6 [00:00<?, ?files/s]",
      "application/vnd.jupyter.widget-view+json": {
       "version_major": 2,
       "version_minor": 0,
       "model_id": "a89bfd8cd4224f18a05d8d8c8f9a4dde"
      }
     },
     "metadata": {},
     "output_type": "display_data"
    },
    {
     "data": {
      "text/plain": "daily files to download:   0%|          | 0/7 [00:00<?, ?files/s]",
      "application/vnd.jupyter.widget-view+json": {
       "version_major": 2,
       "version_minor": 0,
       "model_id": "9e1ad325c4dd430289a1f10b252fb789"
      }
     },
     "metadata": {},
     "output_type": "display_data"
    },
    {
     "data": {
      "text/plain": "monthly files to download:   0%|          | 0/6 [00:00<?, ?files/s]",
      "application/vnd.jupyter.widget-view+json": {
       "version_major": 2,
       "version_minor": 0,
       "model_id": "8aff1958ae374c2cacb22d83d050462e"
      }
     },
     "metadata": {},
     "output_type": "display_data"
    },
    {
     "data": {
      "text/plain": "daily files to download:   0%|          | 0/7 [00:00<?, ?files/s]",
      "application/vnd.jupyter.widget-view+json": {
       "version_major": 2,
       "version_minor": 0,
       "model_id": "cc3920c74a444028896d412cb53d8c18"
      }
     },
     "metadata": {},
     "output_type": "display_data"
    },
    {
     "data": {
      "text/plain": "monthly files to download:   0%|          | 0/6 [00:00<?, ?files/s]",
      "application/vnd.jupyter.widget-view+json": {
       "version_major": 2,
       "version_minor": 0,
       "model_id": "ab6caf723a3441ebafef94396dd6485a"
      }
     },
     "metadata": {},
     "output_type": "display_data"
    },
    {
     "data": {
      "text/plain": "daily files to download:   0%|          | 0/7 [00:00<?, ?files/s]",
      "application/vnd.jupyter.widget-view+json": {
       "version_major": 2,
       "version_minor": 0,
       "model_id": "4a631dd6f5314001a8cb6fd756103232"
      }
     },
     "metadata": {},
     "output_type": "display_data"
    },
    {
     "data": {
      "text/plain": "monthly files to download:   0%|          | 0/6 [00:00<?, ?files/s]",
      "application/vnd.jupyter.widget-view+json": {
       "version_major": 2,
       "version_minor": 0,
       "model_id": "1f66dbe0d2a64fd7a2a9fec9d4d95faa"
      }
     },
     "metadata": {},
     "output_type": "display_data"
    },
    {
     "data": {
      "text/plain": "daily files to download:   0%|          | 0/7 [00:00<?, ?files/s]",
      "application/vnd.jupyter.widget-view+json": {
       "version_major": 2,
       "version_minor": 0,
       "model_id": "5006615f315241858027db8bd2e48e9d"
      }
     },
     "metadata": {},
     "output_type": "display_data"
    },
    {
     "data": {
      "text/plain": "monthly files to download:   0%|          | 0/6 [00:00<?, ?files/s]",
      "application/vnd.jupyter.widget-view+json": {
       "version_major": 2,
       "version_minor": 0,
       "model_id": "17c5ac708bb946b69d4cee1be6001417"
      }
     },
     "metadata": {},
     "output_type": "display_data"
    },
    {
     "data": {
      "text/plain": "daily files to download:   0%|          | 0/7 [00:00<?, ?files/s]",
      "application/vnd.jupyter.widget-view+json": {
       "version_major": 2,
       "version_minor": 0,
       "model_id": "f0fd618dc8824a52bfa445c4673b0784"
      }
     },
     "metadata": {},
     "output_type": "display_data"
    },
    {
     "data": {
      "text/plain": "monthly files to download:   0%|          | 0/6 [00:00<?, ?files/s]",
      "application/vnd.jupyter.widget-view+json": {
       "version_major": 2,
       "version_minor": 0,
       "model_id": "d2f107c4f5584936ab1a61e0d70cb4ff"
      }
     },
     "metadata": {},
     "output_type": "display_data"
    },
    {
     "data": {
      "text/plain": "daily files to download:   0%|          | 0/7 [00:00<?, ?files/s]",
      "application/vnd.jupyter.widget-view+json": {
       "version_major": 2,
       "version_minor": 0,
       "model_id": "dc81c989b6d44e3b905acda9d03f9997"
      }
     },
     "metadata": {},
     "output_type": "display_data"
    },
    {
     "data": {
      "text/plain": "monthly files to download:   0%|          | 0/6 [00:00<?, ?files/s]",
      "application/vnd.jupyter.widget-view+json": {
       "version_major": 2,
       "version_minor": 0,
       "model_id": "dd24f8a90b0442be995770194c6afb20"
      }
     },
     "metadata": {},
     "output_type": "display_data"
    },
    {
     "data": {
      "text/plain": "daily files to download:   0%|          | 0/7 [00:00<?, ?files/s]",
      "application/vnd.jupyter.widget-view+json": {
       "version_major": 2,
       "version_minor": 0,
       "model_id": "e50474c4293246bfa1b921c051bf17f6"
      }
     },
     "metadata": {},
     "output_type": "display_data"
    },
    {
     "data": {
      "text/plain": "monthly files to download:   0%|          | 0/6 [00:00<?, ?files/s]",
      "application/vnd.jupyter.widget-view+json": {
       "version_major": 2,
       "version_minor": 0,
       "model_id": "99cd6e0b2b5e4153ac92e0ff9365682a"
      }
     },
     "metadata": {},
     "output_type": "display_data"
    },
    {
     "data": {
      "text/plain": "daily files to download:   0%|          | 0/7 [00:00<?, ?files/s]",
      "application/vnd.jupyter.widget-view+json": {
       "version_major": 2,
       "version_minor": 0,
       "model_id": "a89f27ae33034b6caee3fd2dee7074c3"
      }
     },
     "metadata": {},
     "output_type": "display_data"
    },
    {
     "data": {
      "text/plain": "monthly files to download:   0%|          | 0/6 [00:00<?, ?files/s]",
      "application/vnd.jupyter.widget-view+json": {
       "version_major": 2,
       "version_minor": 0,
       "model_id": "293c6c217a9e4d938a6db86ded3227fc"
      }
     },
     "metadata": {},
     "output_type": "display_data"
    },
    {
     "data": {
      "text/plain": "daily files to download:   0%|          | 0/7 [00:00<?, ?files/s]",
      "application/vnd.jupyter.widget-view+json": {
       "version_major": 2,
       "version_minor": 0,
       "model_id": "a54f2a88bada44588792f0c6fb43bca6"
      }
     },
     "metadata": {},
     "output_type": "display_data"
    },
    {
     "data": {
      "text/plain": "monthly files to download:   0%|          | 0/6 [00:00<?, ?files/s]",
      "application/vnd.jupyter.widget-view+json": {
       "version_major": 2,
       "version_minor": 0,
       "model_id": "3c78cec82c414b33bbd88c44a16a5199"
      }
     },
     "metadata": {},
     "output_type": "display_data"
    },
    {
     "data": {
      "text/plain": "daily files to download:   0%|          | 0/7 [00:00<?, ?files/s]",
      "application/vnd.jupyter.widget-view+json": {
       "version_major": 2,
       "version_minor": 0,
       "model_id": "5fe32ff8502446cd83614a851c087db8"
      }
     },
     "metadata": {},
     "output_type": "display_data"
    },
    {
     "data": {
      "text/plain": "monthly files to download:   0%|          | 0/6 [00:00<?, ?files/s]",
      "application/vnd.jupyter.widget-view+json": {
       "version_major": 2,
       "version_minor": 0,
       "model_id": "72bb8e7f32e6486882f890d683759e71"
      }
     },
     "metadata": {},
     "output_type": "display_data"
    },
    {
     "data": {
      "text/plain": "daily files to download:   0%|          | 0/7 [00:00<?, ?files/s]",
      "application/vnd.jupyter.widget-view+json": {
       "version_major": 2,
       "version_minor": 0,
       "model_id": "4dfe8530a1b047efb988779d48a9f2b2"
      }
     },
     "metadata": {},
     "output_type": "display_data"
    },
    {
     "data": {
      "text/plain": "monthly files to download:   0%|          | 0/6 [00:00<?, ?files/s]",
      "application/vnd.jupyter.widget-view+json": {
       "version_major": 2,
       "version_minor": 0,
       "model_id": "292ffe235b2b4b4eafa4ebed7536bd42"
      }
     },
     "metadata": {},
     "output_type": "display_data"
    },
    {
     "data": {
      "text/plain": "daily files to download:   0%|          | 0/7 [00:00<?, ?files/s]",
      "application/vnd.jupyter.widget-view+json": {
       "version_major": 2,
       "version_minor": 0,
       "model_id": "7d013111a71c4bab9b8672a93d7ffb23"
      }
     },
     "metadata": {},
     "output_type": "display_data"
    },
    {
     "data": {
      "text/plain": "monthly files to download:   0%|          | 0/6 [00:00<?, ?files/s]",
      "application/vnd.jupyter.widget-view+json": {
       "version_major": 2,
       "version_minor": 0,
       "model_id": "48f979e2f5c242fbae44635d1e87276f"
      }
     },
     "metadata": {},
     "output_type": "display_data"
    },
    {
     "data": {
      "text/plain": "daily files to download:   0%|          | 0/7 [00:00<?, ?files/s]",
      "application/vnd.jupyter.widget-view+json": {
       "version_major": 2,
       "version_minor": 0,
       "model_id": "5b063afca5a44daca0c4c12d87d1d522"
      }
     },
     "metadata": {},
     "output_type": "display_data"
    },
    {
     "data": {
      "text/plain": "monthly files to download:   0%|          | 0/6 [00:00<?, ?files/s]",
      "application/vnd.jupyter.widget-view+json": {
       "version_major": 2,
       "version_minor": 0,
       "model_id": "41645bc21fb04ff395f4f97f3701f9c5"
      }
     },
     "metadata": {},
     "output_type": "display_data"
    },
    {
     "data": {
      "text/plain": "daily files to download:   0%|          | 0/7 [00:00<?, ?files/s]",
      "application/vnd.jupyter.widget-view+json": {
       "version_major": 2,
       "version_minor": 0,
       "model_id": "922c9ebc7ddf44668c2e22173ad48c4c"
      }
     },
     "metadata": {},
     "output_type": "display_data"
    },
    {
     "data": {
      "text/plain": "monthly files to download:   0%|          | 0/6 [00:00<?, ?files/s]",
      "application/vnd.jupyter.widget-view+json": {
       "version_major": 2,
       "version_minor": 0,
       "model_id": "2ea7d18fc67647bca8fb90c2411b583a"
      }
     },
     "metadata": {},
     "output_type": "display_data"
    },
    {
     "data": {
      "text/plain": "daily files to download:   0%|          | 0/7 [00:00<?, ?files/s]",
      "application/vnd.jupyter.widget-view+json": {
       "version_major": 2,
       "version_minor": 0,
       "model_id": "78b295b13adc47e894921c52d970ba40"
      }
     },
     "metadata": {},
     "output_type": "display_data"
    },
    {
     "data": {
      "text/plain": "monthly files to download:   0%|          | 0/6 [00:00<?, ?files/s]",
      "application/vnd.jupyter.widget-view+json": {
       "version_major": 2,
       "version_minor": 0,
       "model_id": "236a86873f244a49b5a8f70231b4db26"
      }
     },
     "metadata": {},
     "output_type": "display_data"
    },
    {
     "data": {
      "text/plain": "daily files to download:   0%|          | 0/7 [00:00<?, ?files/s]",
      "application/vnd.jupyter.widget-view+json": {
       "version_major": 2,
       "version_minor": 0,
       "model_id": "8f82eb626c224cad87dad38c46f806f5"
      }
     },
     "metadata": {},
     "output_type": "display_data"
    },
    {
     "data": {
      "text/plain": "monthly files to download:   0%|          | 0/6 [00:00<?, ?files/s]",
      "application/vnd.jupyter.widget-view+json": {
       "version_major": 2,
       "version_minor": 0,
       "model_id": "814e583fa2c3440589b214116dbc7f50"
      }
     },
     "metadata": {},
     "output_type": "display_data"
    },
    {
     "data": {
      "text/plain": "daily files to download:   0%|          | 0/7 [00:00<?, ?files/s]",
      "application/vnd.jupyter.widget-view+json": {
       "version_major": 2,
       "version_minor": 0,
       "model_id": "4678c5a91d084b61b29599bb2cef1386"
      }
     },
     "metadata": {},
     "output_type": "display_data"
    },
    {
     "data": {
      "text/plain": "monthly files to download:   0%|          | 0/6 [00:00<?, ?files/s]",
      "application/vnd.jupyter.widget-view+json": {
       "version_major": 2,
       "version_minor": 0,
       "model_id": "39c44da2567441a68e8725490aa08b49"
      }
     },
     "metadata": {},
     "output_type": "display_data"
    },
    {
     "data": {
      "text/plain": "daily files to download:   0%|          | 0/7 [00:00<?, ?files/s]",
      "application/vnd.jupyter.widget-view+json": {
       "version_major": 2,
       "version_minor": 0,
       "model_id": "8429293882c648ba9607769032916704"
      }
     },
     "metadata": {},
     "output_type": "display_data"
    },
    {
     "data": {
      "text/plain": "monthly files to download:   0%|          | 0/6 [00:00<?, ?files/s]",
      "application/vnd.jupyter.widget-view+json": {
       "version_major": 2,
       "version_minor": 0,
       "model_id": "b0c428e90389489a926fbca021861888"
      }
     },
     "metadata": {},
     "output_type": "display_data"
    },
    {
     "data": {
      "text/plain": "daily files to download:   0%|          | 0/7 [00:00<?, ?files/s]",
      "application/vnd.jupyter.widget-view+json": {
       "version_major": 2,
       "version_minor": 0,
       "model_id": "bea10b56bc254fc6bfb75bfa7e043d15"
      }
     },
     "metadata": {},
     "output_type": "display_data"
    },
    {
     "data": {
      "text/plain": "monthly files to download:   0%|          | 0/6 [00:00<?, ?files/s]",
      "application/vnd.jupyter.widget-view+json": {
       "version_major": 2,
       "version_minor": 0,
       "model_id": "16c16f0b7b8e44618e3f5f55f8f33b9e"
      }
     },
     "metadata": {},
     "output_type": "display_data"
    },
    {
     "data": {
      "text/plain": "daily files to download:   0%|          | 0/7 [00:00<?, ?files/s]",
      "application/vnd.jupyter.widget-view+json": {
       "version_major": 2,
       "version_minor": 0,
       "model_id": "fb320d950f364ca39e90a3c36b82454f"
      }
     },
     "metadata": {},
     "output_type": "display_data"
    },
    {
     "data": {
      "text/plain": "monthly files to download:   0%|          | 0/6 [00:00<?, ?files/s]",
      "application/vnd.jupyter.widget-view+json": {
       "version_major": 2,
       "version_minor": 0,
       "model_id": "619bc5733e43445a84693098a9d77926"
      }
     },
     "metadata": {},
     "output_type": "display_data"
    },
    {
     "data": {
      "text/plain": "daily files to download:   0%|          | 0/7 [00:00<?, ?files/s]",
      "application/vnd.jupyter.widget-view+json": {
       "version_major": 2,
       "version_minor": 0,
       "model_id": "8edf4eef12fb44a6a8aca7685cb54bd8"
      }
     },
     "metadata": {},
     "output_type": "display_data"
    },
    {
     "data": {
      "text/plain": "monthly files to download:   0%|          | 0/6 [00:00<?, ?files/s]",
      "application/vnd.jupyter.widget-view+json": {
       "version_major": 2,
       "version_minor": 0,
       "model_id": "f5dc2cebb84f4e02aadde41f4b02cf49"
      }
     },
     "metadata": {},
     "output_type": "display_data"
    },
    {
     "data": {
      "text/plain": "daily files to download:   0%|          | 0/7 [00:00<?, ?files/s]",
      "application/vnd.jupyter.widget-view+json": {
       "version_major": 2,
       "version_minor": 0,
       "model_id": "b2b14f1addf14c5e9ec9d410f7005ee2"
      }
     },
     "metadata": {},
     "output_type": "display_data"
    },
    {
     "data": {
      "text/plain": "monthly files to download:   0%|          | 0/6 [00:00<?, ?files/s]",
      "application/vnd.jupyter.widget-view+json": {
       "version_major": 2,
       "version_minor": 0,
       "model_id": "917d647281064f9ba83651db184ee231"
      }
     },
     "metadata": {},
     "output_type": "display_data"
    },
    {
     "data": {
      "text/plain": "daily files to download:   0%|          | 0/7 [00:00<?, ?files/s]",
      "application/vnd.jupyter.widget-view+json": {
       "version_major": 2,
       "version_minor": 0,
       "model_id": "14de1247f666469a9906c343c4a6c47b"
      }
     },
     "metadata": {},
     "output_type": "display_data"
    },
    {
     "data": {
      "text/plain": "monthly files to download:   0%|          | 0/6 [00:00<?, ?files/s]",
      "application/vnd.jupyter.widget-view+json": {
       "version_major": 2,
       "version_minor": 0,
       "model_id": "944046a1e0734e8f855a8fadc0e1f153"
      }
     },
     "metadata": {},
     "output_type": "display_data"
    },
    {
     "data": {
      "text/plain": "daily files to download:   0%|          | 0/7 [00:00<?, ?files/s]",
      "application/vnd.jupyter.widget-view+json": {
       "version_major": 2,
       "version_minor": 0,
       "model_id": "a9773a4af8bb46529780acb14d67c4c1"
      }
     },
     "metadata": {},
     "output_type": "display_data"
    },
    {
     "data": {
      "text/plain": "monthly files to download:   0%|          | 0/6 [00:00<?, ?files/s]",
      "application/vnd.jupyter.widget-view+json": {
       "version_major": 2,
       "version_minor": 0,
       "model_id": "951871ef2b1a4eac881c73e0091a7ce1"
      }
     },
     "metadata": {},
     "output_type": "display_data"
    },
    {
     "data": {
      "text/plain": "daily files to download:   0%|          | 0/7 [00:00<?, ?files/s]",
      "application/vnd.jupyter.widget-view+json": {
       "version_major": 2,
       "version_minor": 0,
       "model_id": "2fbcefa6d2cd44d38d6a09cf2cf16014"
      }
     },
     "metadata": {},
     "output_type": "display_data"
    },
    {
     "data": {
      "text/plain": "monthly files to download:   0%|          | 0/6 [00:00<?, ?files/s]",
      "application/vnd.jupyter.widget-view+json": {
       "version_major": 2,
       "version_minor": 0,
       "model_id": "12c81054cff94aa0809623d5aee621c5"
      }
     },
     "metadata": {},
     "output_type": "display_data"
    },
    {
     "data": {
      "text/plain": "daily files to download:   0%|          | 0/7 [00:00<?, ?files/s]",
      "application/vnd.jupyter.widget-view+json": {
       "version_major": 2,
       "version_minor": 0,
       "model_id": "4f530c9eed68404ab0609b8b9a46b4f5"
      }
     },
     "metadata": {},
     "output_type": "display_data"
    },
    {
     "data": {
      "text/plain": "monthly files to download:   0%|          | 0/6 [00:00<?, ?files/s]",
      "application/vnd.jupyter.widget-view+json": {
       "version_major": 2,
       "version_minor": 0,
       "model_id": "75bee57e162345ae96eeab728415d0d0"
      }
     },
     "metadata": {},
     "output_type": "display_data"
    },
    {
     "data": {
      "text/plain": "daily files to download:   0%|          | 0/7 [00:00<?, ?files/s]",
      "application/vnd.jupyter.widget-view+json": {
       "version_major": 2,
       "version_minor": 0,
       "model_id": "ffe8d41d74cf4e8fbcc2f0f53c37937c"
      }
     },
     "metadata": {},
     "output_type": "display_data"
    },
    {
     "data": {
      "text/plain": "monthly files to download:   0%|          | 0/6 [00:00<?, ?files/s]",
      "application/vnd.jupyter.widget-view+json": {
       "version_major": 2,
       "version_minor": 0,
       "model_id": "f8adb69940c74dfdaf23934e2e445a1e"
      }
     },
     "metadata": {},
     "output_type": "display_data"
    },
    {
     "data": {
      "text/plain": "daily files to download:   0%|          | 0/7 [00:00<?, ?files/s]",
      "application/vnd.jupyter.widget-view+json": {
       "version_major": 2,
       "version_minor": 0,
       "model_id": "b854142b67524db5b97a976d9534b50d"
      }
     },
     "metadata": {},
     "output_type": "display_data"
    },
    {
     "data": {
      "text/plain": "monthly files to download:   0%|          | 0/6 [00:00<?, ?files/s]",
      "application/vnd.jupyter.widget-view+json": {
       "version_major": 2,
       "version_minor": 0,
       "model_id": "ae6daeb8aca14f589a8660eb7b0a28e3"
      }
     },
     "metadata": {},
     "output_type": "display_data"
    },
    {
     "data": {
      "text/plain": "daily files to download:   0%|          | 0/7 [00:00<?, ?files/s]",
      "application/vnd.jupyter.widget-view+json": {
       "version_major": 2,
       "version_minor": 0,
       "model_id": "e2794ae0b9524f698ad3d90df40fd466"
      }
     },
     "metadata": {},
     "output_type": "display_data"
    },
    {
     "data": {
      "text/plain": "monthly files to download:   0%|          | 0/6 [00:00<?, ?files/s]",
      "application/vnd.jupyter.widget-view+json": {
       "version_major": 2,
       "version_minor": 0,
       "model_id": "685288c09ccc4165823725bf368202d4"
      }
     },
     "metadata": {},
     "output_type": "display_data"
    },
    {
     "data": {
      "text/plain": "daily files to download:   0%|          | 0/7 [00:00<?, ?files/s]",
      "application/vnd.jupyter.widget-view+json": {
       "version_major": 2,
       "version_minor": 0,
       "model_id": "836bd30df9b544b092a5cad31beca04c"
      }
     },
     "metadata": {},
     "output_type": "display_data"
    },
    {
     "data": {
      "text/plain": "monthly files to download:   0%|          | 0/6 [00:00<?, ?files/s]",
      "application/vnd.jupyter.widget-view+json": {
       "version_major": 2,
       "version_minor": 0,
       "model_id": "bbdd41c6094c48a4bdea266346633833"
      }
     },
     "metadata": {},
     "output_type": "display_data"
    },
    {
     "data": {
      "text/plain": "daily files to download:   0%|          | 0/7 [00:00<?, ?files/s]",
      "application/vnd.jupyter.widget-view+json": {
       "version_major": 2,
       "version_minor": 0,
       "model_id": "fd68e2362cd246e5879b23af97fef43b"
      }
     },
     "metadata": {},
     "output_type": "display_data"
    },
    {
     "data": {
      "text/plain": "monthly files to download:   0%|          | 0/6 [00:00<?, ?files/s]",
      "application/vnd.jupyter.widget-view+json": {
       "version_major": 2,
       "version_minor": 0,
       "model_id": "96853b4928a248b680197698c76d28fd"
      }
     },
     "metadata": {},
     "output_type": "display_data"
    },
    {
     "data": {
      "text/plain": "daily files to download:   0%|          | 0/7 [00:00<?, ?files/s]",
      "application/vnd.jupyter.widget-view+json": {
       "version_major": 2,
       "version_minor": 0,
       "model_id": "7bc055861fc547a2a6a4e229d8063466"
      }
     },
     "metadata": {},
     "output_type": "display_data"
    },
    {
     "data": {
      "text/plain": "monthly files to download:   0%|          | 0/6 [00:00<?, ?files/s]",
      "application/vnd.jupyter.widget-view+json": {
       "version_major": 2,
       "version_minor": 0,
       "model_id": "86507d951c464be9a92e926a06311ed1"
      }
     },
     "metadata": {},
     "output_type": "display_data"
    },
    {
     "data": {
      "text/plain": "daily files to download:   0%|          | 0/7 [00:00<?, ?files/s]",
      "application/vnd.jupyter.widget-view+json": {
       "version_major": 2,
       "version_minor": 0,
       "model_id": "24b247864b24499eb3037c741ce0a8c4"
      }
     },
     "metadata": {},
     "output_type": "display_data"
    },
    {
     "data": {
      "text/plain": "monthly files to download:   0%|          | 0/6 [00:00<?, ?files/s]",
      "application/vnd.jupyter.widget-view+json": {
       "version_major": 2,
       "version_minor": 0,
       "model_id": "7202555fe6a2482a8fdc78a83f7a345c"
      }
     },
     "metadata": {},
     "output_type": "display_data"
    },
    {
     "data": {
      "text/plain": "daily files to download:   0%|          | 0/7 [00:00<?, ?files/s]",
      "application/vnd.jupyter.widget-view+json": {
       "version_major": 2,
       "version_minor": 0,
       "model_id": "fa4b9df8513141fb87a2b1b221bb040b"
      }
     },
     "metadata": {},
     "output_type": "display_data"
    },
    {
     "data": {
      "text/plain": "monthly files to download:   0%|          | 0/6 [00:00<?, ?files/s]",
      "application/vnd.jupyter.widget-view+json": {
       "version_major": 2,
       "version_minor": 0,
       "model_id": "9f51d06bebd24846919c999f6fd20d78"
      }
     },
     "metadata": {},
     "output_type": "display_data"
    },
    {
     "data": {
      "text/plain": "daily files to download:   0%|          | 0/7 [00:00<?, ?files/s]",
      "application/vnd.jupyter.widget-view+json": {
       "version_major": 2,
       "version_minor": 0,
       "model_id": "9af5f7c995ab4eafa0f78758a6d60925"
      }
     },
     "metadata": {},
     "output_type": "display_data"
    },
    {
     "data": {
      "text/plain": "monthly files to download:   0%|          | 0/6 [00:00<?, ?files/s]",
      "application/vnd.jupyter.widget-view+json": {
       "version_major": 2,
       "version_minor": 0,
       "model_id": "70ff3231458c4d72a59e476dd3cf450b"
      }
     },
     "metadata": {},
     "output_type": "display_data"
    },
    {
     "data": {
      "text/plain": "daily files to download:   0%|          | 0/7 [00:00<?, ?files/s]",
      "application/vnd.jupyter.widget-view+json": {
       "version_major": 2,
       "version_minor": 0,
       "model_id": "4d2e1621d32647869e6ded466090fb9f"
      }
     },
     "metadata": {},
     "output_type": "display_data"
    },
    {
     "data": {
      "text/plain": "monthly files to download:   0%|          | 0/6 [00:00<?, ?files/s]",
      "application/vnd.jupyter.widget-view+json": {
       "version_major": 2,
       "version_minor": 0,
       "model_id": "c56c4f3a34e440ee911a40a40a9d82a0"
      }
     },
     "metadata": {},
     "output_type": "display_data"
    },
    {
     "data": {
      "text/plain": "daily files to download:   0%|          | 0/7 [00:00<?, ?files/s]",
      "application/vnd.jupyter.widget-view+json": {
       "version_major": 2,
       "version_minor": 0,
       "model_id": "7e7e9804ecf84586b0b970c5f8b3b1bf"
      }
     },
     "metadata": {},
     "output_type": "display_data"
    },
    {
     "data": {
      "text/plain": "monthly files to download:   0%|          | 0/6 [00:00<?, ?files/s]",
      "application/vnd.jupyter.widget-view+json": {
       "version_major": 2,
       "version_minor": 0,
       "model_id": "81480b6f12b74d9f857c16749f9ab489"
      }
     },
     "metadata": {},
     "output_type": "display_data"
    },
    {
     "data": {
      "text/plain": "daily files to download:   0%|          | 0/7 [00:00<?, ?files/s]",
      "application/vnd.jupyter.widget-view+json": {
       "version_major": 2,
       "version_minor": 0,
       "model_id": "c774e81a85ca4ad599e1fddfa96184b9"
      }
     },
     "metadata": {},
     "output_type": "display_data"
    },
    {
     "data": {
      "text/plain": "monthly files to download:   0%|          | 0/6 [00:00<?, ?files/s]",
      "application/vnd.jupyter.widget-view+json": {
       "version_major": 2,
       "version_minor": 0,
       "model_id": "3e18bb10a2ca4a9cb5f2ecd718a4e22e"
      }
     },
     "metadata": {},
     "output_type": "display_data"
    },
    {
     "data": {
      "text/plain": "daily files to download:   0%|          | 0/7 [00:00<?, ?files/s]",
      "application/vnd.jupyter.widget-view+json": {
       "version_major": 2,
       "version_minor": 0,
       "model_id": "f031bac939164fe08486a82801491e93"
      }
     },
     "metadata": {},
     "output_type": "display_data"
    },
    {
     "data": {
      "text/plain": "monthly files to download:   0%|          | 0/6 [00:00<?, ?files/s]",
      "application/vnd.jupyter.widget-view+json": {
       "version_major": 2,
       "version_minor": 0,
       "model_id": "545f9dbe94d346dea2ed8e82f486c49b"
      }
     },
     "metadata": {},
     "output_type": "display_data"
    },
    {
     "data": {
      "text/plain": "daily files to download:   0%|          | 0/7 [00:00<?, ?files/s]",
      "application/vnd.jupyter.widget-view+json": {
       "version_major": 2,
       "version_minor": 0,
       "model_id": "eed9f01a0d1948a08b93694729522075"
      }
     },
     "metadata": {},
     "output_type": "display_data"
    },
    {
     "data": {
      "text/plain": "monthly files to download:   0%|          | 0/6 [00:00<?, ?files/s]",
      "application/vnd.jupyter.widget-view+json": {
       "version_major": 2,
       "version_minor": 0,
       "model_id": "7ca4faf19f4d49aca4a8132972eeaa59"
      }
     },
     "metadata": {},
     "output_type": "display_data"
    },
    {
     "data": {
      "text/plain": "daily files to download:   0%|          | 0/7 [00:00<?, ?files/s]",
      "application/vnd.jupyter.widget-view+json": {
       "version_major": 2,
       "version_minor": 0,
       "model_id": "34d33215e2cd4e368ff727254568bf7b"
      }
     },
     "metadata": {},
     "output_type": "display_data"
    },
    {
     "data": {
      "text/plain": "monthly files to download:   0%|          | 0/6 [00:00<?, ?files/s]",
      "application/vnd.jupyter.widget-view+json": {
       "version_major": 2,
       "version_minor": 0,
       "model_id": "74561fe1e9ec42249ad5816cc6064585"
      }
     },
     "metadata": {},
     "output_type": "display_data"
    },
    {
     "data": {
      "text/plain": "daily files to download:   0%|          | 0/7 [00:00<?, ?files/s]",
      "application/vnd.jupyter.widget-view+json": {
       "version_major": 2,
       "version_minor": 0,
       "model_id": "609f4fe469944ceba5e1c3a7a86e2cbf"
      }
     },
     "metadata": {},
     "output_type": "display_data"
    },
    {
     "data": {
      "text/plain": "monthly files to download:   0%|          | 0/6 [00:00<?, ?files/s]",
      "application/vnd.jupyter.widget-view+json": {
       "version_major": 2,
       "version_minor": 0,
       "model_id": "f0af5b6d2c744cdb90d2698aed9b9fcc"
      }
     },
     "metadata": {},
     "output_type": "display_data"
    },
    {
     "data": {
      "text/plain": "daily files to download:   0%|          | 0/7 [00:00<?, ?files/s]",
      "application/vnd.jupyter.widget-view+json": {
       "version_major": 2,
       "version_minor": 0,
       "model_id": "e85972024b6e4be395eaaca79976f806"
      }
     },
     "metadata": {},
     "output_type": "display_data"
    },
    {
     "data": {
      "text/plain": "monthly files to download:   0%|          | 0/6 [00:00<?, ?files/s]",
      "application/vnd.jupyter.widget-view+json": {
       "version_major": 2,
       "version_minor": 0,
       "model_id": "dbb37378cc294ec08a0925814e950935"
      }
     },
     "metadata": {},
     "output_type": "display_data"
    },
    {
     "data": {
      "text/plain": "daily files to download:   0%|          | 0/7 [00:00<?, ?files/s]",
      "application/vnd.jupyter.widget-view+json": {
       "version_major": 2,
       "version_minor": 0,
       "model_id": "9a89d28cb6ae44e0a363393aab82ff16"
      }
     },
     "metadata": {},
     "output_type": "display_data"
    },
    {
     "data": {
      "text/plain": "monthly files to download:   0%|          | 0/6 [00:00<?, ?files/s]",
      "application/vnd.jupyter.widget-view+json": {
       "version_major": 2,
       "version_minor": 0,
       "model_id": "9d9463937f1749dd999754584598a0af"
      }
     },
     "metadata": {},
     "output_type": "display_data"
    },
    {
     "data": {
      "text/plain": "daily files to download:   0%|          | 0/7 [00:00<?, ?files/s]",
      "application/vnd.jupyter.widget-view+json": {
       "version_major": 2,
       "version_minor": 0,
       "model_id": "9f5b75cec1da43bda95ddf706c5f291c"
      }
     },
     "metadata": {},
     "output_type": "display_data"
    },
    {
     "data": {
      "text/plain": "monthly files to download:   0%|          | 0/6 [00:00<?, ?files/s]",
      "application/vnd.jupyter.widget-view+json": {
       "version_major": 2,
       "version_minor": 0,
       "model_id": "d7418eea2d854caca77f74e794c3a35f"
      }
     },
     "metadata": {},
     "output_type": "display_data"
    },
    {
     "data": {
      "text/plain": "daily files to download:   0%|          | 0/7 [00:00<?, ?files/s]",
      "application/vnd.jupyter.widget-view+json": {
       "version_major": 2,
       "version_minor": 0,
       "model_id": "b8c9d1fef4fa4e2a8479806cfea42eae"
      }
     },
     "metadata": {},
     "output_type": "display_data"
    },
    {
     "data": {
      "text/plain": "monthly files to download:   0%|          | 0/6 [00:00<?, ?files/s]",
      "application/vnd.jupyter.widget-view+json": {
       "version_major": 2,
       "version_minor": 0,
       "model_id": "518f342f27c94087ba02c676795eaeb3"
      }
     },
     "metadata": {},
     "output_type": "display_data"
    },
    {
     "data": {
      "text/plain": "daily files to download:   0%|          | 0/7 [00:00<?, ?files/s]",
      "application/vnd.jupyter.widget-view+json": {
       "version_major": 2,
       "version_minor": 0,
       "model_id": "b44be917a73a4c3a9d6d0f18edaf08e7"
      }
     },
     "metadata": {},
     "output_type": "display_data"
    },
    {
     "data": {
      "text/plain": "monthly files to download:   0%|          | 0/6 [00:00<?, ?files/s]",
      "application/vnd.jupyter.widget-view+json": {
       "version_major": 2,
       "version_minor": 0,
       "model_id": "c1fe08242385403dbc9d2b1c05d227dc"
      }
     },
     "metadata": {},
     "output_type": "display_data"
    },
    {
     "data": {
      "text/plain": "daily files to download:   0%|          | 0/7 [00:00<?, ?files/s]",
      "application/vnd.jupyter.widget-view+json": {
       "version_major": 2,
       "version_minor": 0,
       "model_id": "b3adfb2978894ffdb2c99812f8eb9962"
      }
     },
     "metadata": {},
     "output_type": "display_data"
    },
    {
     "data": {
      "text/plain": "monthly files to download:   0%|          | 0/6 [00:00<?, ?files/s]",
      "application/vnd.jupyter.widget-view+json": {
       "version_major": 2,
       "version_minor": 0,
       "model_id": "497f9e161f4b4b9f8e754669266d3f24"
      }
     },
     "metadata": {},
     "output_type": "display_data"
    },
    {
     "data": {
      "text/plain": "daily files to download:   0%|          | 0/7 [00:00<?, ?files/s]",
      "application/vnd.jupyter.widget-view+json": {
       "version_major": 2,
       "version_minor": 0,
       "model_id": "27530813803b4c89b8e5517fc98b7106"
      }
     },
     "metadata": {},
     "output_type": "display_data"
    },
    {
     "data": {
      "text/plain": "monthly files to download:   0%|          | 0/6 [00:00<?, ?files/s]",
      "application/vnd.jupyter.widget-view+json": {
       "version_major": 2,
       "version_minor": 0,
       "model_id": "85aff3f2db1b465e9cf66bf8fb099155"
      }
     },
     "metadata": {},
     "output_type": "display_data"
    },
    {
     "data": {
      "text/plain": "daily files to download:   0%|          | 0/7 [00:00<?, ?files/s]",
      "application/vnd.jupyter.widget-view+json": {
       "version_major": 2,
       "version_minor": 0,
       "model_id": "5f03356959b4466495e03170d718290f"
      }
     },
     "metadata": {},
     "output_type": "display_data"
    },
    {
     "data": {
      "text/plain": "monthly files to download:   0%|          | 0/6 [00:00<?, ?files/s]",
      "application/vnd.jupyter.widget-view+json": {
       "version_major": 2,
       "version_minor": 0,
       "model_id": "c3ff48a4747c46feb020581db35ebc95"
      }
     },
     "metadata": {},
     "output_type": "display_data"
    },
    {
     "data": {
      "text/plain": "daily files to download:   0%|          | 0/7 [00:00<?, ?files/s]",
      "application/vnd.jupyter.widget-view+json": {
       "version_major": 2,
       "version_minor": 0,
       "model_id": "b35e337489a54249849382c2d84e5dec"
      }
     },
     "metadata": {},
     "output_type": "display_data"
    },
    {
     "data": {
      "text/plain": "monthly files to download:   0%|          | 0/6 [00:00<?, ?files/s]",
      "application/vnd.jupyter.widget-view+json": {
       "version_major": 2,
       "version_minor": 0,
       "model_id": "cd40bc77af1746e9b50bbd6433511247"
      }
     },
     "metadata": {},
     "output_type": "display_data"
    },
    {
     "data": {
      "text/plain": "daily files to download:   0%|          | 0/7 [00:00<?, ?files/s]",
      "application/vnd.jupyter.widget-view+json": {
       "version_major": 2,
       "version_minor": 0,
       "model_id": "2e58f1a0319d485cbb7193f1950bcc8c"
      }
     },
     "metadata": {},
     "output_type": "display_data"
    },
    {
     "data": {
      "text/plain": "monthly files to download:   0%|          | 0/6 [00:00<?, ?files/s]",
      "application/vnd.jupyter.widget-view+json": {
       "version_major": 2,
       "version_minor": 0,
       "model_id": "bc5a2a3dce244f36950c1e5dd03774c0"
      }
     },
     "metadata": {},
     "output_type": "display_data"
    },
    {
     "data": {
      "text/plain": "daily files to download:   0%|          | 0/7 [00:00<?, ?files/s]",
      "application/vnd.jupyter.widget-view+json": {
       "version_major": 2,
       "version_minor": 0,
       "model_id": "626541dd18e940d19e63c2e19055e53e"
      }
     },
     "metadata": {},
     "output_type": "display_data"
    },
    {
     "data": {
      "text/plain": "monthly files to download:   0%|          | 0/6 [00:00<?, ?files/s]",
      "application/vnd.jupyter.widget-view+json": {
       "version_major": 2,
       "version_minor": 0,
       "model_id": "f7383d72c0a1419981394196dc3ddbcb"
      }
     },
     "metadata": {},
     "output_type": "display_data"
    },
    {
     "data": {
      "text/plain": "daily files to download:   0%|          | 0/7 [00:00<?, ?files/s]",
      "application/vnd.jupyter.widget-view+json": {
       "version_major": 2,
       "version_minor": 0,
       "model_id": "0ce71fc2eee843889f8cef933aed6b55"
      }
     },
     "metadata": {},
     "output_type": "display_data"
    },
    {
     "data": {
      "text/plain": "monthly files to download:   0%|          | 0/6 [00:00<?, ?files/s]",
      "application/vnd.jupyter.widget-view+json": {
       "version_major": 2,
       "version_minor": 0,
       "model_id": "d91835d66837448dadf0b8d4e6258553"
      }
     },
     "metadata": {},
     "output_type": "display_data"
    },
    {
     "data": {
      "text/plain": "daily files to download:   0%|          | 0/7 [00:00<?, ?files/s]",
      "application/vnd.jupyter.widget-view+json": {
       "version_major": 2,
       "version_minor": 0,
       "model_id": "36e5258a569745f28149ceccfae6b0be"
      }
     },
     "metadata": {},
     "output_type": "display_data"
    },
    {
     "data": {
      "text/plain": "monthly files to download:   0%|          | 0/6 [00:00<?, ?files/s]",
      "application/vnd.jupyter.widget-view+json": {
       "version_major": 2,
       "version_minor": 0,
       "model_id": "ee3694bf9f0040d99c6a0104cb2c34cb"
      }
     },
     "metadata": {},
     "output_type": "display_data"
    },
    {
     "data": {
      "text/plain": "daily files to download:   0%|          | 0/7 [00:00<?, ?files/s]",
      "application/vnd.jupyter.widget-view+json": {
       "version_major": 2,
       "version_minor": 0,
       "model_id": "e332a8eb053c4e75a880123f7a75549f"
      }
     },
     "metadata": {},
     "output_type": "display_data"
    },
    {
     "data": {
      "text/plain": "monthly files to download:   0%|          | 0/6 [00:00<?, ?files/s]",
      "application/vnd.jupyter.widget-view+json": {
       "version_major": 2,
       "version_minor": 0,
       "model_id": "e9e3514017a34a959ad831639209a263"
      }
     },
     "metadata": {},
     "output_type": "display_data"
    },
    {
     "data": {
      "text/plain": "daily files to download:   0%|          | 0/7 [00:00<?, ?files/s]",
      "application/vnd.jupyter.widget-view+json": {
       "version_major": 2,
       "version_minor": 0,
       "model_id": "1966fe7f9fe44363a8a89cb9f6146371"
      }
     },
     "metadata": {},
     "output_type": "display_data"
    },
    {
     "data": {
      "text/plain": "monthly files to download:   0%|          | 0/6 [00:00<?, ?files/s]",
      "application/vnd.jupyter.widget-view+json": {
       "version_major": 2,
       "version_minor": 0,
       "model_id": "bcb6ae45024741fb80cfda5d725f88c6"
      }
     },
     "metadata": {},
     "output_type": "display_data"
    },
    {
     "data": {
      "text/plain": "daily files to download:   0%|          | 0/7 [00:00<?, ?files/s]",
      "application/vnd.jupyter.widget-view+json": {
       "version_major": 2,
       "version_minor": 0,
       "model_id": "57dc669258cd4a4291af17dfecb16aaa"
      }
     },
     "metadata": {},
     "output_type": "display_data"
    },
    {
     "data": {
      "text/plain": "monthly files to download:   0%|          | 0/6 [00:00<?, ?files/s]",
      "application/vnd.jupyter.widget-view+json": {
       "version_major": 2,
       "version_minor": 0,
       "model_id": "e5557523ada842ceb5e79a9e13cb7fe1"
      }
     },
     "metadata": {},
     "output_type": "display_data"
    },
    {
     "data": {
      "text/plain": "daily files to download:   0%|          | 0/7 [00:00<?, ?files/s]",
      "application/vnd.jupyter.widget-view+json": {
       "version_major": 2,
       "version_minor": 0,
       "model_id": "5498407dd47a463e8f24dfe9952e1e0b"
      }
     },
     "metadata": {},
     "output_type": "display_data"
    },
    {
     "data": {
      "text/plain": "monthly files to download:   0%|          | 0/6 [00:00<?, ?files/s]",
      "application/vnd.jupyter.widget-view+json": {
       "version_major": 2,
       "version_minor": 0,
       "model_id": "90f4c3216a50426da058e1d876b60d21"
      }
     },
     "metadata": {},
     "output_type": "display_data"
    },
    {
     "data": {
      "text/plain": "daily files to download:   0%|          | 0/7 [00:00<?, ?files/s]",
      "application/vnd.jupyter.widget-view+json": {
       "version_major": 2,
       "version_minor": 0,
       "model_id": "bb3af5c9722c4889bd1ea13f64025e00"
      }
     },
     "metadata": {},
     "output_type": "display_data"
    },
    {
     "data": {
      "text/plain": "monthly files to download:   0%|          | 0/6 [00:00<?, ?files/s]",
      "application/vnd.jupyter.widget-view+json": {
       "version_major": 2,
       "version_minor": 0,
       "model_id": "453a0bfded2049fdb8491976f4a2a29d"
      }
     },
     "metadata": {},
     "output_type": "display_data"
    },
    {
     "data": {
      "text/plain": "daily files to download:   0%|          | 0/7 [00:00<?, ?files/s]",
      "application/vnd.jupyter.widget-view+json": {
       "version_major": 2,
       "version_minor": 0,
       "model_id": "e7fe7447d77e4962a704fe6c5d22f4df"
      }
     },
     "metadata": {},
     "output_type": "display_data"
    },
    {
     "data": {
      "text/plain": "monthly files to download:   0%|          | 0/6 [00:00<?, ?files/s]",
      "application/vnd.jupyter.widget-view+json": {
       "version_major": 2,
       "version_minor": 0,
       "model_id": "2343173f64a049168792bd94bae5dbdb"
      }
     },
     "metadata": {},
     "output_type": "display_data"
    },
    {
     "data": {
      "text/plain": "daily files to download:   0%|          | 0/7 [00:00<?, ?files/s]",
      "application/vnd.jupyter.widget-view+json": {
       "version_major": 2,
       "version_minor": 0,
       "model_id": "e9e46eaa23fb42158c9d885482eeb25b"
      }
     },
     "metadata": {},
     "output_type": "display_data"
    },
    {
     "data": {
      "text/plain": "monthly files to download:   0%|          | 0/6 [00:00<?, ?files/s]",
      "application/vnd.jupyter.widget-view+json": {
       "version_major": 2,
       "version_minor": 0,
       "model_id": "d20f0f2020164d198dbb42bcbbd38858"
      }
     },
     "metadata": {},
     "output_type": "display_data"
    },
    {
     "data": {
      "text/plain": "daily files to download:   0%|          | 0/7 [00:00<?, ?files/s]",
      "application/vnd.jupyter.widget-view+json": {
       "version_major": 2,
       "version_minor": 0,
       "model_id": "ef5c58ddfc684300bab5cf6cdb5df52c"
      }
     },
     "metadata": {},
     "output_type": "display_data"
    },
    {
     "data": {
      "text/plain": "monthly files to download:   0%|          | 0/6 [00:00<?, ?files/s]",
      "application/vnd.jupyter.widget-view+json": {
       "version_major": 2,
       "version_minor": 0,
       "model_id": "c739bd5d5c8249488aec57baba13ded3"
      }
     },
     "metadata": {},
     "output_type": "display_data"
    },
    {
     "data": {
      "text/plain": "daily files to download:   0%|          | 0/7 [00:00<?, ?files/s]",
      "application/vnd.jupyter.widget-view+json": {
       "version_major": 2,
       "version_minor": 0,
       "model_id": "ac074f45dfdc45aab90fa43e352cb049"
      }
     },
     "metadata": {},
     "output_type": "display_data"
    },
    {
     "data": {
      "text/plain": "monthly files to download:   0%|          | 0/6 [00:00<?, ?files/s]",
      "application/vnd.jupyter.widget-view+json": {
       "version_major": 2,
       "version_minor": 0,
       "model_id": "eb5493bb258e476b924c06ffcb9699ec"
      }
     },
     "metadata": {},
     "output_type": "display_data"
    },
    {
     "data": {
      "text/plain": "daily files to download:   0%|          | 0/7 [00:00<?, ?files/s]",
      "application/vnd.jupyter.widget-view+json": {
       "version_major": 2,
       "version_minor": 0,
       "model_id": "e6052574fdb745469dc706a063488525"
      }
     },
     "metadata": {},
     "output_type": "display_data"
    },
    {
     "data": {
      "text/plain": "monthly files to download:   0%|          | 0/6 [00:00<?, ?files/s]",
      "application/vnd.jupyter.widget-view+json": {
       "version_major": 2,
       "version_minor": 0,
       "model_id": "648fda816b884f10b69ee8ebe5ba93d4"
      }
     },
     "metadata": {},
     "output_type": "display_data"
    },
    {
     "data": {
      "text/plain": "daily files to download:   0%|          | 0/7 [00:00<?, ?files/s]",
      "application/vnd.jupyter.widget-view+json": {
       "version_major": 2,
       "version_minor": 0,
       "model_id": "5847c85f0f47444ea49325725a10fc19"
      }
     },
     "metadata": {},
     "output_type": "display_data"
    },
    {
     "data": {
      "text/plain": "monthly files to download:   0%|          | 0/6 [00:00<?, ?files/s]",
      "application/vnd.jupyter.widget-view+json": {
       "version_major": 2,
       "version_minor": 0,
       "model_id": "b4e9b4eb3ca84f7fa6fb28320fcaff40"
      }
     },
     "metadata": {},
     "output_type": "display_data"
    },
    {
     "data": {
      "text/plain": "daily files to download:   0%|          | 0/7 [00:00<?, ?files/s]",
      "application/vnd.jupyter.widget-view+json": {
       "version_major": 2,
       "version_minor": 0,
       "model_id": "df4b47160a2e4c9586be3b32e2eb351d"
      }
     },
     "metadata": {},
     "output_type": "display_data"
    },
    {
     "data": {
      "text/plain": "monthly files to download:   0%|          | 0/6 [00:00<?, ?files/s]",
      "application/vnd.jupyter.widget-view+json": {
       "version_major": 2,
       "version_minor": 0,
       "model_id": "e05b66c0e0a740edb8bfa96d8eb83e55"
      }
     },
     "metadata": {},
     "output_type": "display_data"
    },
    {
     "data": {
      "text/plain": "daily files to download:   0%|          | 0/7 [00:00<?, ?files/s]",
      "application/vnd.jupyter.widget-view+json": {
       "version_major": 2,
       "version_minor": 0,
       "model_id": "0d90b30402d744d3901a8bfa17084e50"
      }
     },
     "metadata": {},
     "output_type": "display_data"
    },
    {
     "data": {
      "text/plain": "monthly files to download:   0%|          | 0/6 [00:00<?, ?files/s]",
      "application/vnd.jupyter.widget-view+json": {
       "version_major": 2,
       "version_minor": 0,
       "model_id": "2b343bbbd6954ce79d9ef79b0a40701f"
      }
     },
     "metadata": {},
     "output_type": "display_data"
    },
    {
     "data": {
      "text/plain": "daily files to download:   0%|          | 0/7 [00:00<?, ?files/s]",
      "application/vnd.jupyter.widget-view+json": {
       "version_major": 2,
       "version_minor": 0,
       "model_id": "71927a6798264c3bb7ad7c9055700b6b"
      }
     },
     "metadata": {},
     "output_type": "display_data"
    },
    {
     "data": {
      "text/plain": "monthly files to download:   0%|          | 0/6 [00:00<?, ?files/s]",
      "application/vnd.jupyter.widget-view+json": {
       "version_major": 2,
       "version_minor": 0,
       "model_id": "e413d72b8aed4d16b43f4ca62befbb0c"
      }
     },
     "metadata": {},
     "output_type": "display_data"
    },
    {
     "data": {
      "text/plain": "daily files to download:   0%|          | 0/7 [00:00<?, ?files/s]",
      "application/vnd.jupyter.widget-view+json": {
       "version_major": 2,
       "version_minor": 0,
       "model_id": "9cbebfb18d6e4fd7875b42198f7f1d14"
      }
     },
     "metadata": {},
     "output_type": "display_data"
    },
    {
     "data": {
      "text/plain": "monthly files to download:   0%|          | 0/6 [00:00<?, ?files/s]",
      "application/vnd.jupyter.widget-view+json": {
       "version_major": 2,
       "version_minor": 0,
       "model_id": "f32490589c4949119008eff7dde9df2b"
      }
     },
     "metadata": {},
     "output_type": "display_data"
    },
    {
     "data": {
      "text/plain": "daily files to download:   0%|          | 0/7 [00:00<?, ?files/s]",
      "application/vnd.jupyter.widget-view+json": {
       "version_major": 2,
       "version_minor": 0,
       "model_id": "3e8e672e2c2e44a18134e0be66d30848"
      }
     },
     "metadata": {},
     "output_type": "display_data"
    },
    {
     "data": {
      "text/plain": "monthly files to download:   0%|          | 0/6 [00:00<?, ?files/s]",
      "application/vnd.jupyter.widget-view+json": {
       "version_major": 2,
       "version_minor": 0,
       "model_id": "e5e1d9ef42004c5da151d1f40536fb73"
      }
     },
     "metadata": {},
     "output_type": "display_data"
    },
    {
     "data": {
      "text/plain": "daily files to download:   0%|          | 0/7 [00:00<?, ?files/s]",
      "application/vnd.jupyter.widget-view+json": {
       "version_major": 2,
       "version_minor": 0,
       "model_id": "fcb501e6f6a34a37b0230bce824399a1"
      }
     },
     "metadata": {},
     "output_type": "display_data"
    },
    {
     "data": {
      "text/plain": "monthly files to download:   0%|          | 0/6 [00:00<?, ?files/s]",
      "application/vnd.jupyter.widget-view+json": {
       "version_major": 2,
       "version_minor": 0,
       "model_id": "3bbf20525bae433b9558be22811dce07"
      }
     },
     "metadata": {},
     "output_type": "display_data"
    },
    {
     "data": {
      "text/plain": "daily files to download:   0%|          | 0/7 [00:00<?, ?files/s]",
      "application/vnd.jupyter.widget-view+json": {
       "version_major": 2,
       "version_minor": 0,
       "model_id": "c142100230d6459a83ef50a34e049e5e"
      }
     },
     "metadata": {},
     "output_type": "display_data"
    },
    {
     "data": {
      "text/plain": "monthly files to download:   0%|          | 0/6 [00:00<?, ?files/s]",
      "application/vnd.jupyter.widget-view+json": {
       "version_major": 2,
       "version_minor": 0,
       "model_id": "5711c3d30386423a89135a50fca541bc"
      }
     },
     "metadata": {},
     "output_type": "display_data"
    },
    {
     "data": {
      "text/plain": "daily files to download:   0%|          | 0/7 [00:00<?, ?files/s]",
      "application/vnd.jupyter.widget-view+json": {
       "version_major": 2,
       "version_minor": 0,
       "model_id": "aac003776cc04e7ea65ae6f2ae2446ab"
      }
     },
     "metadata": {},
     "output_type": "display_data"
    },
    {
     "data": {
      "text/plain": "monthly files to download:   0%|          | 0/6 [00:00<?, ?files/s]",
      "application/vnd.jupyter.widget-view+json": {
       "version_major": 2,
       "version_minor": 0,
       "model_id": "e349f7f6624140e98e7ee2d671063f1f"
      }
     },
     "metadata": {},
     "output_type": "display_data"
    },
    {
     "data": {
      "text/plain": "daily files to download:   0%|          | 0/7 [00:00<?, ?files/s]",
      "application/vnd.jupyter.widget-view+json": {
       "version_major": 2,
       "version_minor": 0,
       "model_id": "97c61808cfc0451b9f7263da22c15926"
      }
     },
     "metadata": {},
     "output_type": "display_data"
    },
    {
     "data": {
      "text/plain": "monthly files to download:   0%|          | 0/6 [00:00<?, ?files/s]",
      "application/vnd.jupyter.widget-view+json": {
       "version_major": 2,
       "version_minor": 0,
       "model_id": "48adb9b45daf47a8b98670fc9f1edb3a"
      }
     },
     "metadata": {},
     "output_type": "display_data"
    },
    {
     "data": {
      "text/plain": "daily files to download:   0%|          | 0/7 [00:00<?, ?files/s]",
      "application/vnd.jupyter.widget-view+json": {
       "version_major": 2,
       "version_minor": 0,
       "model_id": "319341c6e62d4cdda25c23d6fd7139e2"
      }
     },
     "metadata": {},
     "output_type": "display_data"
    },
    {
     "data": {
      "text/plain": "monthly files to download:   0%|          | 0/6 [00:00<?, ?files/s]",
      "application/vnd.jupyter.widget-view+json": {
       "version_major": 2,
       "version_minor": 0,
       "model_id": "3e10e71fc9c343a69084fb60d2109b4a"
      }
     },
     "metadata": {},
     "output_type": "display_data"
    },
    {
     "data": {
      "text/plain": "daily files to download:   0%|          | 0/7 [00:00<?, ?files/s]",
      "application/vnd.jupyter.widget-view+json": {
       "version_major": 2,
       "version_minor": 0,
       "model_id": "3f85dec39da34606bed3848536d9496d"
      }
     },
     "metadata": {},
     "output_type": "display_data"
    },
    {
     "data": {
      "text/plain": "monthly files to download:   0%|          | 0/6 [00:00<?, ?files/s]",
      "application/vnd.jupyter.widget-view+json": {
       "version_major": 2,
       "version_minor": 0,
       "model_id": "8379a11762e94693854b3730109f74e7"
      }
     },
     "metadata": {},
     "output_type": "display_data"
    },
    {
     "data": {
      "text/plain": "daily files to download:   0%|          | 0/7 [00:00<?, ?files/s]",
      "application/vnd.jupyter.widget-view+json": {
       "version_major": 2,
       "version_minor": 0,
       "model_id": "c22b9ac946b042c7a0480ae70a9e13ce"
      }
     },
     "metadata": {},
     "output_type": "display_data"
    },
    {
     "data": {
      "text/plain": "monthly files to download:   0%|          | 0/6 [00:00<?, ?files/s]",
      "application/vnd.jupyter.widget-view+json": {
       "version_major": 2,
       "version_minor": 0,
       "model_id": "2a40e6356d634ee7be6467ae6a8d982a"
      }
     },
     "metadata": {},
     "output_type": "display_data"
    },
    {
     "data": {
      "text/plain": "daily files to download:   0%|          | 0/7 [00:00<?, ?files/s]",
      "application/vnd.jupyter.widget-view+json": {
       "version_major": 2,
       "version_minor": 0,
       "model_id": "c662faae637b40ff9a992389ebf7f1ef"
      }
     },
     "metadata": {},
     "output_type": "display_data"
    },
    {
     "data": {
      "text/plain": "monthly files to download:   0%|          | 0/6 [00:00<?, ?files/s]",
      "application/vnd.jupyter.widget-view+json": {
       "version_major": 2,
       "version_minor": 0,
       "model_id": "973562a14a0248a9bf0be72e2cece7cd"
      }
     },
     "metadata": {},
     "output_type": "display_data"
    },
    {
     "data": {
      "text/plain": "daily files to download:   0%|          | 0/7 [00:00<?, ?files/s]",
      "application/vnd.jupyter.widget-view+json": {
       "version_major": 2,
       "version_minor": 0,
       "model_id": "d808a94076d049469074d793018cc606"
      }
     },
     "metadata": {},
     "output_type": "display_data"
    },
    {
     "data": {
      "text/plain": "monthly files to download:   0%|          | 0/6 [00:00<?, ?files/s]",
      "application/vnd.jupyter.widget-view+json": {
       "version_major": 2,
       "version_minor": 0,
       "model_id": "59f8de650ac94f30ae317c824cf59fdb"
      }
     },
     "metadata": {},
     "output_type": "display_data"
    },
    {
     "data": {
      "text/plain": "daily files to download:   0%|          | 0/7 [00:00<?, ?files/s]",
      "application/vnd.jupyter.widget-view+json": {
       "version_major": 2,
       "version_minor": 0,
       "model_id": "06b53fb7e13047c6a32f8145fd5e25dc"
      }
     },
     "metadata": {},
     "output_type": "display_data"
    },
    {
     "data": {
      "text/plain": "monthly files to download:   0%|          | 0/6 [00:00<?, ?files/s]",
      "application/vnd.jupyter.widget-view+json": {
       "version_major": 2,
       "version_minor": 0,
       "model_id": "9965d12fe53e4ea1bada2e9701cdc1a2"
      }
     },
     "metadata": {},
     "output_type": "display_data"
    },
    {
     "data": {
      "text/plain": "daily files to download:   0%|          | 0/7 [00:00<?, ?files/s]",
      "application/vnd.jupyter.widget-view+json": {
       "version_major": 2,
       "version_minor": 0,
       "model_id": "0b8c1e7fe09548948493315da3ac95a8"
      }
     },
     "metadata": {},
     "output_type": "display_data"
    },
    {
     "data": {
      "text/plain": "monthly files to download:   0%|          | 0/6 [00:00<?, ?files/s]",
      "application/vnd.jupyter.widget-view+json": {
       "version_major": 2,
       "version_minor": 0,
       "model_id": "72f353a125ae47c5b29c278282cd5422"
      }
     },
     "metadata": {},
     "output_type": "display_data"
    },
    {
     "data": {
      "text/plain": "daily files to download:   0%|          | 0/7 [00:00<?, ?files/s]",
      "application/vnd.jupyter.widget-view+json": {
       "version_major": 2,
       "version_minor": 0,
       "model_id": "3107cd1b249c4fa799ffb3992897925a"
      }
     },
     "metadata": {},
     "output_type": "display_data"
    },
    {
     "data": {
      "text/plain": "monthly files to download:   0%|          | 0/6 [00:00<?, ?files/s]",
      "application/vnd.jupyter.widget-view+json": {
       "version_major": 2,
       "version_minor": 0,
       "model_id": "b1029c02ac7d4704a3dd936eb2a77b47"
      }
     },
     "metadata": {},
     "output_type": "display_data"
    },
    {
     "data": {
      "text/plain": "daily files to download:   0%|          | 0/7 [00:00<?, ?files/s]",
      "application/vnd.jupyter.widget-view+json": {
       "version_major": 2,
       "version_minor": 0,
       "model_id": "f4c89ea2730f442aa56798c5c584ba1f"
      }
     },
     "metadata": {},
     "output_type": "display_data"
    },
    {
     "data": {
      "text/plain": "monthly files to download:   0%|          | 0/6 [00:00<?, ?files/s]",
      "application/vnd.jupyter.widget-view+json": {
       "version_major": 2,
       "version_minor": 0,
       "model_id": "e640f9eb55eb4973886308cbcfec801b"
      }
     },
     "metadata": {},
     "output_type": "display_data"
    },
    {
     "data": {
      "text/plain": "daily files to download:   0%|          | 0/7 [00:00<?, ?files/s]",
      "application/vnd.jupyter.widget-view+json": {
       "version_major": 2,
       "version_minor": 0,
       "model_id": "9661bb4e69ee4c239e9fe435fe9e12d3"
      }
     },
     "metadata": {},
     "output_type": "display_data"
    },
    {
     "data": {
      "text/plain": "monthly files to download:   0%|          | 0/6 [00:00<?, ?files/s]",
      "application/vnd.jupyter.widget-view+json": {
       "version_major": 2,
       "version_minor": 0,
       "model_id": "6b04a05236d3409f84fb1576544db742"
      }
     },
     "metadata": {},
     "output_type": "display_data"
    },
    {
     "data": {
      "text/plain": "daily files to download:   0%|          | 0/7 [00:00<?, ?files/s]",
      "application/vnd.jupyter.widget-view+json": {
       "version_major": 2,
       "version_minor": 0,
       "model_id": "d4f9af47e9bc47bf98800652e557c867"
      }
     },
     "metadata": {},
     "output_type": "display_data"
    },
    {
     "data": {
      "text/plain": "monthly files to download:   0%|          | 0/6 [00:00<?, ?files/s]",
      "application/vnd.jupyter.widget-view+json": {
       "version_major": 2,
       "version_minor": 0,
       "model_id": "8c4678f3e6154dc79e5c6ee101d79516"
      }
     },
     "metadata": {},
     "output_type": "display_data"
    },
    {
     "data": {
      "text/plain": "daily files to download:   0%|          | 0/7 [00:00<?, ?files/s]",
      "application/vnd.jupyter.widget-view+json": {
       "version_major": 2,
       "version_minor": 0,
       "model_id": "59a73ad40e4742fbabdf356a6ee246bc"
      }
     },
     "metadata": {},
     "output_type": "display_data"
    },
    {
     "data": {
      "text/plain": "monthly files to download:   0%|          | 0/6 [00:00<?, ?files/s]",
      "application/vnd.jupyter.widget-view+json": {
       "version_major": 2,
       "version_minor": 0,
       "model_id": "6e8ceb9764774c14a503809ef0c84f1a"
      }
     },
     "metadata": {},
     "output_type": "display_data"
    },
    {
     "data": {
      "text/plain": "daily files to download:   0%|          | 0/7 [00:00<?, ?files/s]",
      "application/vnd.jupyter.widget-view+json": {
       "version_major": 2,
       "version_minor": 0,
       "model_id": "d6c8bf0138e5493e878d79c2158fd37f"
      }
     },
     "metadata": {},
     "output_type": "display_data"
    },
    {
     "data": {
      "text/plain": "monthly files to download:   0%|          | 0/6 [00:00<?, ?files/s]",
      "application/vnd.jupyter.widget-view+json": {
       "version_major": 2,
       "version_minor": 0,
       "model_id": "99eec69d5a064318bb979e0fe8f80776"
      }
     },
     "metadata": {},
     "output_type": "display_data"
    },
    {
     "data": {
      "text/plain": "daily files to download:   0%|          | 0/7 [00:00<?, ?files/s]",
      "application/vnd.jupyter.widget-view+json": {
       "version_major": 2,
       "version_minor": 0,
       "model_id": "f807c1a05db94507a5a856524ade8611"
      }
     },
     "metadata": {},
     "output_type": "display_data"
    },
    {
     "data": {
      "text/plain": "monthly files to download:   0%|          | 0/6 [00:00<?, ?files/s]",
      "application/vnd.jupyter.widget-view+json": {
       "version_major": 2,
       "version_minor": 0,
       "model_id": "4724057526504bf6a9cf06c316397e2a"
      }
     },
     "metadata": {},
     "output_type": "display_data"
    },
    {
     "data": {
      "text/plain": "daily files to download:   0%|          | 0/7 [00:00<?, ?files/s]",
      "application/vnd.jupyter.widget-view+json": {
       "version_major": 2,
       "version_minor": 0,
       "model_id": "a1985c1af67c4812b3d999876b431cbf"
      }
     },
     "metadata": {},
     "output_type": "display_data"
    },
    {
     "data": {
      "text/plain": "monthly files to download:   0%|          | 0/6 [00:00<?, ?files/s]",
      "application/vnd.jupyter.widget-view+json": {
       "version_major": 2,
       "version_minor": 0,
       "model_id": "7ca92aff7e8c4c43a84fa755666e07ab"
      }
     },
     "metadata": {},
     "output_type": "display_data"
    },
    {
     "data": {
      "text/plain": "daily files to download:   0%|          | 0/7 [00:00<?, ?files/s]",
      "application/vnd.jupyter.widget-view+json": {
       "version_major": 2,
       "version_minor": 0,
       "model_id": "2defde9fc6594474a3ce53da823c7037"
      }
     },
     "metadata": {},
     "output_type": "display_data"
    },
    {
     "data": {
      "text/plain": "monthly files to download:   0%|          | 0/6 [00:00<?, ?files/s]",
      "application/vnd.jupyter.widget-view+json": {
       "version_major": 2,
       "version_minor": 0,
       "model_id": "b8de9bc7c07042b9935e069d62bc8692"
      }
     },
     "metadata": {},
     "output_type": "display_data"
    },
    {
     "data": {
      "text/plain": "daily files to download:   0%|          | 0/7 [00:00<?, ?files/s]",
      "application/vnd.jupyter.widget-view+json": {
       "version_major": 2,
       "version_minor": 0,
       "model_id": "46747162ade541288ec9ab0001aa15a4"
      }
     },
     "metadata": {},
     "output_type": "display_data"
    },
    {
     "data": {
      "text/plain": "monthly files to download:   0%|          | 0/6 [00:00<?, ?files/s]",
      "application/vnd.jupyter.widget-view+json": {
       "version_major": 2,
       "version_minor": 0,
       "model_id": "9d4785f8687f4e889abc4742a01103a8"
      }
     },
     "metadata": {},
     "output_type": "display_data"
    },
    {
     "data": {
      "text/plain": "daily files to download:   0%|          | 0/7 [00:00<?, ?files/s]",
      "application/vnd.jupyter.widget-view+json": {
       "version_major": 2,
       "version_minor": 0,
       "model_id": "d28180deb37c4c569dc06dc24412de94"
      }
     },
     "metadata": {},
     "output_type": "display_data"
    },
    {
     "data": {
      "text/plain": "monthly files to download:   0%|          | 0/6 [00:00<?, ?files/s]",
      "application/vnd.jupyter.widget-view+json": {
       "version_major": 2,
       "version_minor": 0,
       "model_id": "ffff00f3912641eab4a4f3c937ede8fa"
      }
     },
     "metadata": {},
     "output_type": "display_data"
    },
    {
     "data": {
      "text/plain": "daily files to download:   0%|          | 0/7 [00:00<?, ?files/s]",
      "application/vnd.jupyter.widget-view+json": {
       "version_major": 2,
       "version_minor": 0,
       "model_id": "8ad3c06cec3f45349f53d0f83081341e"
      }
     },
     "metadata": {},
     "output_type": "display_data"
    },
    {
     "data": {
      "text/plain": "monthly files to download:   0%|          | 0/6 [00:00<?, ?files/s]",
      "application/vnd.jupyter.widget-view+json": {
       "version_major": 2,
       "version_minor": 0,
       "model_id": "5616f33e9f0e45229127fcbaf1aa2af8"
      }
     },
     "metadata": {},
     "output_type": "display_data"
    },
    {
     "data": {
      "text/plain": "daily files to download:   0%|          | 0/7 [00:00<?, ?files/s]",
      "application/vnd.jupyter.widget-view+json": {
       "version_major": 2,
       "version_minor": 0,
       "model_id": "f27ce41d53294e0ba25c11e381388c65"
      }
     },
     "metadata": {},
     "output_type": "display_data"
    },
    {
     "data": {
      "text/plain": "monthly files to download:   0%|          | 0/6 [00:00<?, ?files/s]",
      "application/vnd.jupyter.widget-view+json": {
       "version_major": 2,
       "version_minor": 0,
       "model_id": "79429b982b0a43d4a84e769396bde49d"
      }
     },
     "metadata": {},
     "output_type": "display_data"
    },
    {
     "data": {
      "text/plain": "daily files to download:   0%|          | 0/7 [00:00<?, ?files/s]",
      "application/vnd.jupyter.widget-view+json": {
       "version_major": 2,
       "version_minor": 0,
       "model_id": "c2fc85cd758243a38145d6bec7031476"
      }
     },
     "metadata": {},
     "output_type": "display_data"
    },
    {
     "data": {
      "text/plain": "monthly files to download:   0%|          | 0/6 [00:00<?, ?files/s]",
      "application/vnd.jupyter.widget-view+json": {
       "version_major": 2,
       "version_minor": 0,
       "model_id": "f13283896cba431ba677bdf5dd38022f"
      }
     },
     "metadata": {},
     "output_type": "display_data"
    },
    {
     "data": {
      "text/plain": "daily files to download:   0%|          | 0/7 [00:00<?, ?files/s]",
      "application/vnd.jupyter.widget-view+json": {
       "version_major": 2,
       "version_minor": 0,
       "model_id": "33290d7010e5457c995b56590b170421"
      }
     },
     "metadata": {},
     "output_type": "display_data"
    },
    {
     "data": {
      "text/plain": "monthly files to download:   0%|          | 0/6 [00:00<?, ?files/s]",
      "application/vnd.jupyter.widget-view+json": {
       "version_major": 2,
       "version_minor": 0,
       "model_id": "cf8323f1ca494c8ba62a4f284f057075"
      }
     },
     "metadata": {},
     "output_type": "display_data"
    },
    {
     "data": {
      "text/plain": "daily files to download:   0%|          | 0/7 [00:00<?, ?files/s]",
      "application/vnd.jupyter.widget-view+json": {
       "version_major": 2,
       "version_minor": 0,
       "model_id": "aa8466d7ccf24445bf4765b0e158e4a0"
      }
     },
     "metadata": {},
     "output_type": "display_data"
    },
    {
     "data": {
      "text/plain": "monthly files to download:   0%|          | 0/6 [00:00<?, ?files/s]",
      "application/vnd.jupyter.widget-view+json": {
       "version_major": 2,
       "version_minor": 0,
       "model_id": "c9176782f78440e7b7a046baff94b8da"
      }
     },
     "metadata": {},
     "output_type": "display_data"
    },
    {
     "data": {
      "text/plain": "daily files to download:   0%|          | 0/7 [00:00<?, ?files/s]",
      "application/vnd.jupyter.widget-view+json": {
       "version_major": 2,
       "version_minor": 0,
       "model_id": "5e05eb6727864468845d3e2a8621da46"
      }
     },
     "metadata": {},
     "output_type": "display_data"
    },
    {
     "data": {
      "text/plain": "monthly files to download:   0%|          | 0/6 [00:00<?, ?files/s]",
      "application/vnd.jupyter.widget-view+json": {
       "version_major": 2,
       "version_minor": 0,
       "model_id": "d18d09f0369b41538ae3a2e081fcbfe1"
      }
     },
     "metadata": {},
     "output_type": "display_data"
    },
    {
     "data": {
      "text/plain": "daily files to download:   0%|          | 0/7 [00:00<?, ?files/s]",
      "application/vnd.jupyter.widget-view+json": {
       "version_major": 2,
       "version_minor": 0,
       "model_id": "0d66b16c5002499d82e81894d5c84c75"
      }
     },
     "metadata": {},
     "output_type": "display_data"
    },
    {
     "data": {
      "text/plain": "monthly files to download:   0%|          | 0/6 [00:00<?, ?files/s]",
      "application/vnd.jupyter.widget-view+json": {
       "version_major": 2,
       "version_minor": 0,
       "model_id": "ec29176944e7477fa7287ab3d72c485b"
      }
     },
     "metadata": {},
     "output_type": "display_data"
    },
    {
     "data": {
      "text/plain": "daily files to download:   0%|          | 0/7 [00:00<?, ?files/s]",
      "application/vnd.jupyter.widget-view+json": {
       "version_major": 2,
       "version_minor": 0,
       "model_id": "f54d6f243647478b82a9c03f824cf06a"
      }
     },
     "metadata": {},
     "output_type": "display_data"
    },
    {
     "data": {
      "text/plain": "monthly files to download:   0%|          | 0/6 [00:00<?, ?files/s]",
      "application/vnd.jupyter.widget-view+json": {
       "version_major": 2,
       "version_minor": 0,
       "model_id": "fd03c64e9235451d85cd20379d113e52"
      }
     },
     "metadata": {},
     "output_type": "display_data"
    },
    {
     "data": {
      "text/plain": "daily files to download:   0%|          | 0/7 [00:00<?, ?files/s]",
      "application/vnd.jupyter.widget-view+json": {
       "version_major": 2,
       "version_minor": 0,
       "model_id": "308f013df375482699808126797f044b"
      }
     },
     "metadata": {},
     "output_type": "display_data"
    },
    {
     "data": {
      "text/plain": "monthly files to download:   0%|          | 0/6 [00:00<?, ?files/s]",
      "application/vnd.jupyter.widget-view+json": {
       "version_major": 2,
       "version_minor": 0,
       "model_id": "a10340c2d3e34c8bba98d4658e6bebbc"
      }
     },
     "metadata": {},
     "output_type": "display_data"
    },
    {
     "data": {
      "text/plain": "daily files to download:   0%|          | 0/7 [00:00<?, ?files/s]",
      "application/vnd.jupyter.widget-view+json": {
       "version_major": 2,
       "version_minor": 0,
       "model_id": "ed7bbdfac2ad4576960dcbac4d04f6ca"
      }
     },
     "metadata": {},
     "output_type": "display_data"
    },
    {
     "data": {
      "text/plain": "monthly files to download:   0%|          | 0/6 [00:00<?, ?files/s]",
      "application/vnd.jupyter.widget-view+json": {
       "version_major": 2,
       "version_minor": 0,
       "model_id": "783a2fa339b449b6ab42c986aec0cc3f"
      }
     },
     "metadata": {},
     "output_type": "display_data"
    },
    {
     "data": {
      "text/plain": "daily files to download:   0%|          | 0/7 [00:00<?, ?files/s]",
      "application/vnd.jupyter.widget-view+json": {
       "version_major": 2,
       "version_minor": 0,
       "model_id": "602b01f7e2534d3fa0eefee4fbff17f6"
      }
     },
     "metadata": {},
     "output_type": "display_data"
    },
    {
     "data": {
      "text/plain": "monthly files to download:   0%|          | 0/5 [00:00<?, ?files/s]",
      "application/vnd.jupyter.widget-view+json": {
       "version_major": 2,
       "version_minor": 0,
       "model_id": "5f940d4659364c298bee365e53a2695f"
      }
     },
     "metadata": {},
     "output_type": "display_data"
    },
    {
     "data": {
      "text/plain": "daily files to download:   0%|          | 0/7 [00:00<?, ?files/s]",
      "application/vnd.jupyter.widget-view+json": {
       "version_major": 2,
       "version_minor": 0,
       "model_id": "41ea689dca2c404d905768c226bdcfb2"
      }
     },
     "metadata": {},
     "output_type": "display_data"
    },
    {
     "data": {
      "text/plain": "monthly files to download:   0%|          | 0/5 [00:00<?, ?files/s]",
      "application/vnd.jupyter.widget-view+json": {
       "version_major": 2,
       "version_minor": 0,
       "model_id": "6d2bbe7f49134711aed0b22b2142517b"
      }
     },
     "metadata": {},
     "output_type": "display_data"
    },
    {
     "data": {
      "text/plain": "daily files to download:   0%|          | 0/7 [00:00<?, ?files/s]",
      "application/vnd.jupyter.widget-view+json": {
       "version_major": 2,
       "version_minor": 0,
       "model_id": "e28e92ee21814606af3960690ef040cd"
      }
     },
     "metadata": {},
     "output_type": "display_data"
    },
    {
     "data": {
      "text/plain": "monthly files to download:   0%|          | 0/5 [00:00<?, ?files/s]",
      "application/vnd.jupyter.widget-view+json": {
       "version_major": 2,
       "version_minor": 0,
       "model_id": "61b27189d32f4cb891cc37dd6530e249"
      }
     },
     "metadata": {},
     "output_type": "display_data"
    },
    {
     "data": {
      "text/plain": "daily files to download:   0%|          | 0/7 [00:00<?, ?files/s]",
      "application/vnd.jupyter.widget-view+json": {
       "version_major": 2,
       "version_minor": 0,
       "model_id": "baaaf15f35c54e2284f84fa287dd2527"
      }
     },
     "metadata": {},
     "output_type": "display_data"
    },
    {
     "data": {
      "text/plain": "monthly files to download:   0%|          | 0/5 [00:00<?, ?files/s]",
      "application/vnd.jupyter.widget-view+json": {
       "version_major": 2,
       "version_minor": 0,
       "model_id": "8270b5323c8843e2980b4b2d778a177c"
      }
     },
     "metadata": {},
     "output_type": "display_data"
    },
    {
     "data": {
      "text/plain": "daily files to download:   0%|          | 0/7 [00:00<?, ?files/s]",
      "application/vnd.jupyter.widget-view+json": {
       "version_major": 2,
       "version_minor": 0,
       "model_id": "97651557c3a640bfa2671c4bdf464d12"
      }
     },
     "metadata": {},
     "output_type": "display_data"
    },
    {
     "data": {
      "text/plain": "monthly files to download:   0%|          | 0/5 [00:00<?, ?files/s]",
      "application/vnd.jupyter.widget-view+json": {
       "version_major": 2,
       "version_minor": 0,
       "model_id": "37243302daaf4cbd88fc7dedbead0e78"
      }
     },
     "metadata": {},
     "output_type": "display_data"
    },
    {
     "data": {
      "text/plain": "daily files to download:   0%|          | 0/7 [00:00<?, ?files/s]",
      "application/vnd.jupyter.widget-view+json": {
       "version_major": 2,
       "version_minor": 0,
       "model_id": "2bc74561b3e740c5a9a1820065cd5cc2"
      }
     },
     "metadata": {},
     "output_type": "display_data"
    },
    {
     "data": {
      "text/plain": "monthly files to download:   0%|          | 0/5 [00:00<?, ?files/s]",
      "application/vnd.jupyter.widget-view+json": {
       "version_major": 2,
       "version_minor": 0,
       "model_id": "fb88171bd0ef45aaa6f3f023f1556de7"
      }
     },
     "metadata": {},
     "output_type": "display_data"
    },
    {
     "data": {
      "text/plain": "daily files to download:   0%|          | 0/7 [00:00<?, ?files/s]",
      "application/vnd.jupyter.widget-view+json": {
       "version_major": 2,
       "version_minor": 0,
       "model_id": "6555a6b323f74f75ba33aa4a88fddab1"
      }
     },
     "metadata": {},
     "output_type": "display_data"
    },
    {
     "data": {
      "text/plain": "monthly files to download:   0%|          | 0/5 [00:00<?, ?files/s]",
      "application/vnd.jupyter.widget-view+json": {
       "version_major": 2,
       "version_minor": 0,
       "model_id": "5405e79745594756b89f18491f5ad6d5"
      }
     },
     "metadata": {},
     "output_type": "display_data"
    },
    {
     "data": {
      "text/plain": "daily files to download:   0%|          | 0/7 [00:00<?, ?files/s]",
      "application/vnd.jupyter.widget-view+json": {
       "version_major": 2,
       "version_minor": 0,
       "model_id": "9c33b9bdb9d54db18f3b29501979e608"
      }
     },
     "metadata": {},
     "output_type": "display_data"
    },
    {
     "data": {
      "text/plain": "monthly files to download:   0%|          | 0/5 [00:00<?, ?files/s]",
      "application/vnd.jupyter.widget-view+json": {
       "version_major": 2,
       "version_minor": 0,
       "model_id": "82ea1323323b470381f86b0ee2920f31"
      }
     },
     "metadata": {},
     "output_type": "display_data"
    },
    {
     "data": {
      "text/plain": "daily files to download:   0%|          | 0/7 [00:00<?, ?files/s]",
      "application/vnd.jupyter.widget-view+json": {
       "version_major": 2,
       "version_minor": 0,
       "model_id": "9bae1ba7311d4090a4657b4fc36be77b"
      }
     },
     "metadata": {},
     "output_type": "display_data"
    },
    {
     "data": {
      "text/plain": "monthly files to download:   0%|          | 0/5 [00:00<?, ?files/s]",
      "application/vnd.jupyter.widget-view+json": {
       "version_major": 2,
       "version_minor": 0,
       "model_id": "8d0f8f69f0e44605bf3ed7c71012425b"
      }
     },
     "metadata": {},
     "output_type": "display_data"
    },
    {
     "data": {
      "text/plain": "daily files to download:   0%|          | 0/7 [00:00<?, ?files/s]",
      "application/vnd.jupyter.widget-view+json": {
       "version_major": 2,
       "version_minor": 0,
       "model_id": "b747ddc46d9347648ad80fc4004efdc2"
      }
     },
     "metadata": {},
     "output_type": "display_data"
    },
    {
     "data": {
      "text/plain": "monthly files to download:   0%|          | 0/5 [00:00<?, ?files/s]",
      "application/vnd.jupyter.widget-view+json": {
       "version_major": 2,
       "version_minor": 0,
       "model_id": "da86aea96bb8454b86ba1c31dba73e38"
      }
     },
     "metadata": {},
     "output_type": "display_data"
    },
    {
     "data": {
      "text/plain": "daily files to download:   0%|          | 0/7 [00:00<?, ?files/s]",
      "application/vnd.jupyter.widget-view+json": {
       "version_major": 2,
       "version_minor": 0,
       "model_id": "c9c876d8e85f4a5d85a4c7a1411b390d"
      }
     },
     "metadata": {},
     "output_type": "display_data"
    },
    {
     "data": {
      "text/plain": "monthly files to download:   0%|          | 0/5 [00:00<?, ?files/s]",
      "application/vnd.jupyter.widget-view+json": {
       "version_major": 2,
       "version_minor": 0,
       "model_id": "894dcb30e3fc44d0ba610d6aa0484095"
      }
     },
     "metadata": {},
     "output_type": "display_data"
    },
    {
     "data": {
      "text/plain": "daily files to download:   0%|          | 0/7 [00:00<?, ?files/s]",
      "application/vnd.jupyter.widget-view+json": {
       "version_major": 2,
       "version_minor": 0,
       "model_id": "2a9be5e1482346a2a16cd8969d48364d"
      }
     },
     "metadata": {},
     "output_type": "display_data"
    },
    {
     "data": {
      "text/plain": "monthly files to download:   0%|          | 0/6 [00:00<?, ?files/s]",
      "application/vnd.jupyter.widget-view+json": {
       "version_major": 2,
       "version_minor": 0,
       "model_id": "2d18a402fcf947809769d5649662e80d"
      }
     },
     "metadata": {},
     "output_type": "display_data"
    },
    {
     "data": {
      "text/plain": "daily files to download:   0%|          | 0/7 [00:00<?, ?files/s]",
      "application/vnd.jupyter.widget-view+json": {
       "version_major": 2,
       "version_minor": 0,
       "model_id": "f373ec7deae14a74bb7e4ba3690e92a8"
      }
     },
     "metadata": {},
     "output_type": "display_data"
    },
    {
     "data": {
      "text/plain": "monthly files to download:   0%|          | 0/5 [00:00<?, ?files/s]",
      "application/vnd.jupyter.widget-view+json": {
       "version_major": 2,
       "version_minor": 0,
       "model_id": "b147ea881f7d4e668d1b005c536247ed"
      }
     },
     "metadata": {},
     "output_type": "display_data"
    },
    {
     "data": {
      "text/plain": "daily files to download:   0%|          | 0/7 [00:00<?, ?files/s]",
      "application/vnd.jupyter.widget-view+json": {
       "version_major": 2,
       "version_minor": 0,
       "model_id": "50c70b811c3044a2940913fe7161da5c"
      }
     },
     "metadata": {},
     "output_type": "display_data"
    },
    {
     "data": {
      "text/plain": "monthly files to download:   0%|          | 0/5 [00:00<?, ?files/s]",
      "application/vnd.jupyter.widget-view+json": {
       "version_major": 2,
       "version_minor": 0,
       "model_id": "31e2919b245943b982afe7386c11108a"
      }
     },
     "metadata": {},
     "output_type": "display_data"
    },
    {
     "data": {
      "text/plain": "daily files to download:   0%|          | 0/7 [00:00<?, ?files/s]",
      "application/vnd.jupyter.widget-view+json": {
       "version_major": 2,
       "version_minor": 0,
       "model_id": "eb4aef7be3ad48e7ab51ec39fae493f4"
      }
     },
     "metadata": {},
     "output_type": "display_data"
    },
    {
     "data": {
      "text/plain": "monthly files to download:   0%|          | 0/5 [00:00<?, ?files/s]",
      "application/vnd.jupyter.widget-view+json": {
       "version_major": 2,
       "version_minor": 0,
       "model_id": "fde8d231762b4a78b734792ab052a8f8"
      }
     },
     "metadata": {},
     "output_type": "display_data"
    },
    {
     "data": {
      "text/plain": "daily files to download:   0%|          | 0/7 [00:00<?, ?files/s]",
      "application/vnd.jupyter.widget-view+json": {
       "version_major": 2,
       "version_minor": 0,
       "model_id": "a223d601b8ef40298677d6d8513f33cc"
      }
     },
     "metadata": {},
     "output_type": "display_data"
    },
    {
     "data": {
      "text/plain": "monthly files to download:   0%|          | 0/4 [00:00<?, ?files/s]",
      "application/vnd.jupyter.widget-view+json": {
       "version_major": 2,
       "version_minor": 0,
       "model_id": "465d5b409ad045a58a66a00977bd853e"
      }
     },
     "metadata": {},
     "output_type": "display_data"
    },
    {
     "data": {
      "text/plain": "daily files to download:   0%|          | 0/7 [00:00<?, ?files/s]",
      "application/vnd.jupyter.widget-view+json": {
       "version_major": 2,
       "version_minor": 0,
       "model_id": "052920b723d94181ad14c725a7827280"
      }
     },
     "metadata": {},
     "output_type": "display_data"
    },
    {
     "data": {
      "text/plain": "monthly files to download:   0%|          | 0/4 [00:00<?, ?files/s]",
      "application/vnd.jupyter.widget-view+json": {
       "version_major": 2,
       "version_minor": 0,
       "model_id": "be5223f728ab4a22924d9681b8678799"
      }
     },
     "metadata": {},
     "output_type": "display_data"
    },
    {
     "data": {
      "text/plain": "daily files to download:   0%|          | 0/7 [00:00<?, ?files/s]",
      "application/vnd.jupyter.widget-view+json": {
       "version_major": 2,
       "version_minor": 0,
       "model_id": "b769b1dee5184e14a0664667258e681e"
      }
     },
     "metadata": {},
     "output_type": "display_data"
    },
    {
     "data": {
      "text/plain": "monthly files to download:   0%|          | 0/4 [00:00<?, ?files/s]",
      "application/vnd.jupyter.widget-view+json": {
       "version_major": 2,
       "version_minor": 0,
       "model_id": "a90cf38fa62449cab1470b94b17e9648"
      }
     },
     "metadata": {},
     "output_type": "display_data"
    },
    {
     "data": {
      "text/plain": "daily files to download:   0%|          | 0/7 [00:00<?, ?files/s]",
      "application/vnd.jupyter.widget-view+json": {
       "version_major": 2,
       "version_minor": 0,
       "model_id": "07e4d16a89714c3893ffc4a352ab55bf"
      }
     },
     "metadata": {},
     "output_type": "display_data"
    },
    {
     "data": {
      "text/plain": "monthly files to download:   0%|          | 0/4 [00:00<?, ?files/s]",
      "application/vnd.jupyter.widget-view+json": {
       "version_major": 2,
       "version_minor": 0,
       "model_id": "50bd90fbe243437b936844034b772eec"
      }
     },
     "metadata": {},
     "output_type": "display_data"
    },
    {
     "data": {
      "text/plain": "daily files to download:   0%|          | 0/7 [00:00<?, ?files/s]",
      "application/vnd.jupyter.widget-view+json": {
       "version_major": 2,
       "version_minor": 0,
       "model_id": "7ec50cd237db48b7a768088cd0c63f0c"
      }
     },
     "metadata": {},
     "output_type": "display_data"
    },
    {
     "data": {
      "text/plain": "monthly files to download:   0%|          | 0/4 [00:00<?, ?files/s]",
      "application/vnd.jupyter.widget-view+json": {
       "version_major": 2,
       "version_minor": 0,
       "model_id": "e83d5625d1e0499585df9f81c1bcb235"
      }
     },
     "metadata": {},
     "output_type": "display_data"
    },
    {
     "data": {
      "text/plain": "daily files to download:   0%|          | 0/7 [00:00<?, ?files/s]",
      "application/vnd.jupyter.widget-view+json": {
       "version_major": 2,
       "version_minor": 0,
       "model_id": "9f3d4cb1e4db414c8871a5f99645c2d7"
      }
     },
     "metadata": {},
     "output_type": "display_data"
    },
    {
     "data": {
      "text/plain": "monthly files to download:   0%|          | 0/4 [00:00<?, ?files/s]",
      "application/vnd.jupyter.widget-view+json": {
       "version_major": 2,
       "version_minor": 0,
       "model_id": "a906365b4588442d83388c9b1049b674"
      }
     },
     "metadata": {},
     "output_type": "display_data"
    },
    {
     "data": {
      "text/plain": "daily files to download:   0%|          | 0/7 [00:00<?, ?files/s]",
      "application/vnd.jupyter.widget-view+json": {
       "version_major": 2,
       "version_minor": 0,
       "model_id": "17c84b42881f4e19afa828792634cf39"
      }
     },
     "metadata": {},
     "output_type": "display_data"
    },
    {
     "data": {
      "text/plain": "monthly files to download:   0%|          | 0/4 [00:00<?, ?files/s]",
      "application/vnd.jupyter.widget-view+json": {
       "version_major": 2,
       "version_minor": 0,
       "model_id": "6d1176049cb04f8989937750c780a4f3"
      }
     },
     "metadata": {},
     "output_type": "display_data"
    },
    {
     "data": {
      "text/plain": "daily files to download:   0%|          | 0/7 [00:00<?, ?files/s]",
      "application/vnd.jupyter.widget-view+json": {
       "version_major": 2,
       "version_minor": 0,
       "model_id": "107649abdcd448e6b01fb29a94f079f8"
      }
     },
     "metadata": {},
     "output_type": "display_data"
    },
    {
     "data": {
      "text/plain": "monthly files to download:   0%|          | 0/6 [00:00<?, ?files/s]",
      "application/vnd.jupyter.widget-view+json": {
       "version_major": 2,
       "version_minor": 0,
       "model_id": "7bd68135f95d426c8ab6080e6c67f59a"
      }
     },
     "metadata": {},
     "output_type": "display_data"
    },
    {
     "data": {
      "text/plain": "daily files to download:   0%|          | 0/7 [00:00<?, ?files/s]",
      "application/vnd.jupyter.widget-view+json": {
       "version_major": 2,
       "version_minor": 0,
       "model_id": "98617377168a4bb0b9d616f32845b266"
      }
     },
     "metadata": {},
     "output_type": "display_data"
    },
    {
     "data": {
      "text/plain": "monthly files to download:   0%|          | 0/4 [00:00<?, ?files/s]",
      "application/vnd.jupyter.widget-view+json": {
       "version_major": 2,
       "version_minor": 0,
       "model_id": "0b93aa1f44d14d9ab9b79bd9214a62d5"
      }
     },
     "metadata": {},
     "output_type": "display_data"
    },
    {
     "data": {
      "text/plain": "daily files to download:   0%|          | 0/7 [00:00<?, ?files/s]",
      "application/vnd.jupyter.widget-view+json": {
       "version_major": 2,
       "version_minor": 0,
       "model_id": "e00533e1c2594d39a92937ff61fbf3b5"
      }
     },
     "metadata": {},
     "output_type": "display_data"
    },
    {
     "data": {
      "text/plain": "monthly files to download:   0%|          | 0/4 [00:00<?, ?files/s]",
      "application/vnd.jupyter.widget-view+json": {
       "version_major": 2,
       "version_minor": 0,
       "model_id": "5f126fd6dc7f478abf9bc10d5ebac323"
      }
     },
     "metadata": {},
     "output_type": "display_data"
    },
    {
     "data": {
      "text/plain": "daily files to download:   0%|          | 0/7 [00:00<?, ?files/s]",
      "application/vnd.jupyter.widget-view+json": {
       "version_major": 2,
       "version_minor": 0,
       "model_id": "5a19954a40c44cdc81bc382d9f482e70"
      }
     },
     "metadata": {},
     "output_type": "display_data"
    },
    {
     "data": {
      "text/plain": "monthly files to download:   0%|          | 0/3 [00:00<?, ?files/s]",
      "application/vnd.jupyter.widget-view+json": {
       "version_major": 2,
       "version_minor": 0,
       "model_id": "f75b1acd318a4dd4bc54ec31ff5f5c20"
      }
     },
     "metadata": {},
     "output_type": "display_data"
    },
    {
     "data": {
      "text/plain": "daily files to download:   0%|          | 0/7 [00:00<?, ?files/s]",
      "application/vnd.jupyter.widget-view+json": {
       "version_major": 2,
       "version_minor": 0,
       "model_id": "96cb13267971404185d62995db80f76a"
      }
     },
     "metadata": {},
     "output_type": "display_data"
    },
    {
     "data": {
      "text/plain": "monthly files to download:   0%|          | 0/3 [00:00<?, ?files/s]",
      "application/vnd.jupyter.widget-view+json": {
       "version_major": 2,
       "version_minor": 0,
       "model_id": "32361f4ceb4745ae868f5cee807a34a5"
      }
     },
     "metadata": {},
     "output_type": "display_data"
    },
    {
     "data": {
      "text/plain": "daily files to download:   0%|          | 0/7 [00:00<?, ?files/s]",
      "application/vnd.jupyter.widget-view+json": {
       "version_major": 2,
       "version_minor": 0,
       "model_id": "b151b9e53e79491fb45dda944c202639"
      }
     },
     "metadata": {},
     "output_type": "display_data"
    },
    {
     "data": {
      "text/plain": "monthly files to download:   0%|          | 0/3 [00:00<?, ?files/s]",
      "application/vnd.jupyter.widget-view+json": {
       "version_major": 2,
       "version_minor": 0,
       "model_id": "2b0ee13fa63144039214a9ea948a554d"
      }
     },
     "metadata": {},
     "output_type": "display_data"
    },
    {
     "data": {
      "text/plain": "daily files to download:   0%|          | 0/7 [00:00<?, ?files/s]",
      "application/vnd.jupyter.widget-view+json": {
       "version_major": 2,
       "version_minor": 0,
       "model_id": "c85936cc2c2443e0b94b36827f44e95c"
      }
     },
     "metadata": {},
     "output_type": "display_data"
    },
    {
     "data": {
      "text/plain": "monthly files to download:   0%|          | 0/3 [00:00<?, ?files/s]",
      "application/vnd.jupyter.widget-view+json": {
       "version_major": 2,
       "version_minor": 0,
       "model_id": "18aa2cfdcfa64c04bc3c3f1988e7979c"
      }
     },
     "metadata": {},
     "output_type": "display_data"
    },
    {
     "data": {
      "text/plain": "daily files to download:   0%|          | 0/7 [00:00<?, ?files/s]",
      "application/vnd.jupyter.widget-view+json": {
       "version_major": 2,
       "version_minor": 0,
       "model_id": "c45e8829269c4c4baad515b1982b3406"
      }
     },
     "metadata": {},
     "output_type": "display_data"
    },
    {
     "data": {
      "text/plain": "monthly files to download:   0%|          | 0/3 [00:00<?, ?files/s]",
      "application/vnd.jupyter.widget-view+json": {
       "version_major": 2,
       "version_minor": 0,
       "model_id": "19b17b1bde63470a8f492e7195a413a5"
      }
     },
     "metadata": {},
     "output_type": "display_data"
    },
    {
     "data": {
      "text/plain": "daily files to download:   0%|          | 0/7 [00:00<?, ?files/s]",
      "application/vnd.jupyter.widget-view+json": {
       "version_major": 2,
       "version_minor": 0,
       "model_id": "5724c2fabcea42b0919e0b13621c0b08"
      }
     },
     "metadata": {},
     "output_type": "display_data"
    },
    {
     "data": {
      "text/plain": "monthly files to download:   0%|          | 0/2 [00:00<?, ?files/s]",
      "application/vnd.jupyter.widget-view+json": {
       "version_major": 2,
       "version_minor": 0,
       "model_id": "591783e0c56b4375b3662e497096e4b8"
      }
     },
     "metadata": {},
     "output_type": "display_data"
    },
    {
     "data": {
      "text/plain": "daily files to download:   0%|          | 0/7 [00:00<?, ?files/s]",
      "application/vnd.jupyter.widget-view+json": {
       "version_major": 2,
       "version_minor": 0,
       "model_id": "83826b4daddb4ebeb0d963e7df3a1b3a"
      }
     },
     "metadata": {},
     "output_type": "display_data"
    },
    {
     "data": {
      "text/plain": "monthly files to download:   0%|          | 0/2 [00:00<?, ?files/s]",
      "application/vnd.jupyter.widget-view+json": {
       "version_major": 2,
       "version_minor": 0,
       "model_id": "c389b7c0ffd84ec0971b9466de022a20"
      }
     },
     "metadata": {},
     "output_type": "display_data"
    },
    {
     "data": {
      "text/plain": "daily files to download:   0%|          | 0/7 [00:00<?, ?files/s]",
      "application/vnd.jupyter.widget-view+json": {
       "version_major": 2,
       "version_minor": 0,
       "model_id": "c3ab2f432dc54d89a27027e05ec0d9f8"
      }
     },
     "metadata": {},
     "output_type": "display_data"
    },
    {
     "data": {
      "text/plain": "monthly files to download:   0%|          | 0/2 [00:00<?, ?files/s]",
      "application/vnd.jupyter.widget-view+json": {
       "version_major": 2,
       "version_minor": 0,
       "model_id": "5bdac5329cff45be80b1c01ae1fac51a"
      }
     },
     "metadata": {},
     "output_type": "display_data"
    },
    {
     "data": {
      "text/plain": "daily files to download:   0%|          | 0/7 [00:00<?, ?files/s]",
      "application/vnd.jupyter.widget-view+json": {
       "version_major": 2,
       "version_minor": 0,
       "model_id": "a50e10b0a8db492d875430a9dc1c71aa"
      }
     },
     "metadata": {},
     "output_type": "display_data"
    },
    {
     "data": {
      "text/plain": "monthly files to download:   0%|          | 0/2 [00:00<?, ?files/s]",
      "application/vnd.jupyter.widget-view+json": {
       "version_major": 2,
       "version_minor": 0,
       "model_id": "1d7d7b1d5b6444b89127b3f1f430b522"
      }
     },
     "metadata": {},
     "output_type": "display_data"
    },
    {
     "data": {
      "text/plain": "daily files to download:   0%|          | 0/7 [00:00<?, ?files/s]",
      "application/vnd.jupyter.widget-view+json": {
       "version_major": 2,
       "version_minor": 0,
       "model_id": "f68948bdc20d4198af0c34351a86318f"
      }
     },
     "metadata": {},
     "output_type": "display_data"
    },
    {
     "data": {
      "text/plain": "monthly files to download:   0%|          | 0/2 [00:00<?, ?files/s]",
      "application/vnd.jupyter.widget-view+json": {
       "version_major": 2,
       "version_minor": 0,
       "model_id": "2025e1d5d4754076b319bb2cf8b7af7f"
      }
     },
     "metadata": {},
     "output_type": "display_data"
    },
    {
     "data": {
      "text/plain": "daily files to download:   0%|          | 0/7 [00:00<?, ?files/s]",
      "application/vnd.jupyter.widget-view+json": {
       "version_major": 2,
       "version_minor": 0,
       "model_id": "6f14ddbc013641adb6fdaf9abaf908f6"
      }
     },
     "metadata": {},
     "output_type": "display_data"
    },
    {
     "data": {
      "text/plain": "monthly files to download:   0%|          | 0/2 [00:00<?, ?files/s]",
      "application/vnd.jupyter.widget-view+json": {
       "version_major": 2,
       "version_minor": 0,
       "model_id": "1838396c5a4c42389be8d80c3ba65af6"
      }
     },
     "metadata": {},
     "output_type": "display_data"
    },
    {
     "data": {
      "text/plain": "daily files to download:   0%|          | 0/7 [00:00<?, ?files/s]",
      "application/vnd.jupyter.widget-view+json": {
       "version_major": 2,
       "version_minor": 0,
       "model_id": "d9ff934f1e9a41b0abd8d95ea664a7e6"
      }
     },
     "metadata": {},
     "output_type": "display_data"
    },
    {
     "data": {
      "text/plain": "monthly files to download:   0%|          | 0/2 [00:00<?, ?files/s]",
      "application/vnd.jupyter.widget-view+json": {
       "version_major": 2,
       "version_minor": 0,
       "model_id": "f4262dd5494d4f42a995b5f24a9adc29"
      }
     },
     "metadata": {},
     "output_type": "display_data"
    },
    {
     "data": {
      "text/plain": "daily files to download:   0%|          | 0/7 [00:00<?, ?files/s]",
      "application/vnd.jupyter.widget-view+json": {
       "version_major": 2,
       "version_minor": 0,
       "model_id": "f4c8fc63b49e4791ab8cf0d40a8ddd23"
      }
     },
     "metadata": {},
     "output_type": "display_data"
    },
    {
     "data": {
      "text/plain": "monthly files to download:   0%|          | 0/1 [00:00<?, ?files/s]",
      "application/vnd.jupyter.widget-view+json": {
       "version_major": 2,
       "version_minor": 0,
       "model_id": "247e007070934d58b8aa70e56e0a6726"
      }
     },
     "metadata": {},
     "output_type": "display_data"
    },
    {
     "data": {
      "text/plain": "daily files to download:   0%|          | 0/7 [00:00<?, ?files/s]",
      "application/vnd.jupyter.widget-view+json": {
       "version_major": 2,
       "version_minor": 0,
       "model_id": "fcacaa63736e41ec90578ec0be2ba698"
      }
     },
     "metadata": {},
     "output_type": "display_data"
    },
    {
     "data": {
      "text/plain": "monthly files to download:   0%|          | 0/1 [00:00<?, ?files/s]",
      "application/vnd.jupyter.widget-view+json": {
       "version_major": 2,
       "version_minor": 0,
       "model_id": "4b59036a082e453884fd6c7aaace9125"
      }
     },
     "metadata": {},
     "output_type": "display_data"
    },
    {
     "data": {
      "text/plain": "daily files to download:   0%|          | 0/7 [00:00<?, ?files/s]",
      "application/vnd.jupyter.widget-view+json": {
       "version_major": 2,
       "version_minor": 0,
       "model_id": "c3847a6ed9f6406cb744d750cf2f1cbb"
      }
     },
     "metadata": {},
     "output_type": "display_data"
    },
    {
     "data": {
      "text/plain": "monthly files to download:   0%|          | 0/1 [00:00<?, ?files/s]",
      "application/vnd.jupyter.widget-view+json": {
       "version_major": 2,
       "version_minor": 0,
       "model_id": "6791b0284c2c4f13a81a8fb2d57edbc3"
      }
     },
     "metadata": {},
     "output_type": "display_data"
    },
    {
     "data": {
      "text/plain": "daily files to download:   0%|          | 0/7 [00:00<?, ?files/s]",
      "application/vnd.jupyter.widget-view+json": {
       "version_major": 2,
       "version_minor": 0,
       "model_id": "4c9cc6eaf0c5434f93133816d0448f0a"
      }
     },
     "metadata": {},
     "output_type": "display_data"
    },
    {
     "data": {
      "text/plain": "monthly files to download:   0%|          | 0/1 [00:00<?, ?files/s]",
      "application/vnd.jupyter.widget-view+json": {
       "version_major": 2,
       "version_minor": 0,
       "model_id": "35ed5e05c44e42d4afa4f642a4783906"
      }
     },
     "metadata": {},
     "output_type": "display_data"
    },
    {
     "data": {
      "text/plain": "daily files to download:   0%|          | 0/7 [00:00<?, ?files/s]",
      "application/vnd.jupyter.widget-view+json": {
       "version_major": 2,
       "version_minor": 0,
       "model_id": "9ad68949472c4f81a6e8ef233179cbe1"
      }
     },
     "metadata": {},
     "output_type": "display_data"
    },
    {
     "data": {
      "text/plain": "monthly files to download: 0files [00:00, ?files/s]",
      "application/vnd.jupyter.widget-view+json": {
       "version_major": 2,
       "version_minor": 0,
       "model_id": "0427a24eb0c34d8889426412e2071b76"
      }
     },
     "metadata": {},
     "output_type": "display_data"
    },
    {
     "data": {
      "text/plain": "daily files to download:   0%|          | 0/7 [00:00<?, ?files/s]",
      "application/vnd.jupyter.widget-view+json": {
       "version_major": 2,
       "version_minor": 0,
       "model_id": "0fe2dbc1d7734184afde100d609f13e3"
      }
     },
     "metadata": {},
     "output_type": "display_data"
    },
    {
     "name": "stdout",
     "output_type": "stream",
     "text": [
      "Tried to dump data for 198 tickers:\n",
      "---> General stats:\n",
      "------> NEW Data WAS dumped for 198 trading pairs\n",
      "------> NEW Data WASN'T dumped for 0 trading pairs\n",
      "---> New months saved:\n",
      "------> For 158 tickers saved: 6 months\n",
      "------> For 14 tickers saved: 5 months\n",
      "------> For 9 tickers saved: 4 months\n",
      "------> For 7 tickers saved: 2 months\n",
      "------> For 5 tickers saved: 3 months\n",
      "------> ...\n",
      "---> New days saved:\n",
      "------> For 197 tickers saved: 7 days\n",
      "------> For 1 tickers saved: 3 days\n",
      "===============================================================================\n"
     ]
    }
   ],
   "source": [
    "data_dumper.dump_data(\n",
    "    tickers=None,\n",
    "    date_start=datetime.date(year=2023, month=1, day=8),\n",
    "    date_end=datetime.date(year=2023, month=7, day=8),\n",
    "    is_to_update_existing=True,\n",
    "    tickers_to_exclude=[\"UST\"],\n",
    ")"
   ],
   "metadata": {
    "collapsed": false,
    "pycharm": {
     "name": "#%%\n"
    }
   }
  },
  {
   "cell_type": "code",
   "execution_count": 21,
   "outputs": [
    {
     "data": {
      "text/plain": "['BTCUSDT',\n 'ETHUSDT',\n 'BCHUSDT',\n 'XRPUSDT',\n 'EOSUSDT',\n 'LTCUSDT',\n 'TRXUSDT',\n 'ETCUSDT',\n 'LINKUSDT',\n 'XLMUSDT',\n 'ADAUSDT',\n 'XMRUSDT',\n 'DASHUSDT',\n 'ZECUSDT',\n 'XTZUSDT',\n 'BNBUSDT',\n 'ATOMUSDT',\n 'ONTUSDT',\n 'IOTAUSDT',\n 'BATUSDT',\n 'VETUSDT',\n 'NEOUSDT',\n 'QTUMUSDT',\n 'IOSTUSDT',\n 'THETAUSDT',\n 'ALGOUSDT',\n 'ZILUSDT',\n 'KNCUSDT',\n 'ZRXUSDT',\n 'COMPUSDT',\n 'OMGUSDT',\n 'DOGEUSDT',\n 'SXPUSDT',\n 'KAVAUSDT',\n 'BANDUSDT',\n 'RLCUSDT',\n 'WAVESUSDT',\n 'MKRUSDT',\n 'SNXUSDT',\n 'DOTUSDT',\n 'DEFIUSDT',\n 'YFIUSDT',\n 'BALUSDT',\n 'CRVUSDT',\n 'TRBUSDT',\n 'RUNEUSDT',\n 'SUSHIUSDT',\n 'SRMUSDT',\n 'EGLDUSDT',\n 'SOLUSDT',\n 'ICXUSDT',\n 'STORJUSDT',\n 'BLZUSDT',\n 'UNIUSDT',\n 'AVAXUSDT',\n 'FTMUSDT',\n 'HNTUSDT',\n 'ENJUSDT',\n 'FLMUSDT',\n 'TOMOUSDT',\n 'RENUSDT',\n 'KSMUSDT',\n 'NEARUSDT',\n 'AAVEUSDT',\n 'FILUSDT',\n 'RSRUSDT',\n 'LRCUSDT',\n 'MATICUSDT',\n 'OCEANUSDT',\n 'CVCUSDT',\n 'BELUSDT',\n 'CTKUSDT',\n 'AXSUSDT',\n 'ALPHAUSDT',\n 'ZENUSDT',\n 'SKLUSDT',\n 'GRTUSDT',\n '1INCHUSDT',\n 'BTCBUSD',\n 'CHZUSDT',\n 'SANDUSDT',\n 'ANKRUSDT',\n 'BTSUSDT',\n 'LITUSDT',\n 'UNFIUSDT',\n 'REEFUSDT',\n 'RVNUSDT',\n 'SFPUSDT',\n 'XEMUSDT',\n 'BTCSTUSDT',\n 'COTIUSDT',\n 'CHRUSDT',\n 'MANAUSDT',\n 'ALICEUSDT',\n 'HBARUSDT',\n 'ONEUSDT',\n 'LINAUSDT',\n 'STMXUSDT',\n 'DENTUSDT',\n 'CELRUSDT',\n 'HOTUSDT',\n 'MTLUSDT',\n 'OGNUSDT',\n 'NKNUSDT',\n 'SCUSDT',\n 'DGBUSDT',\n '1000SHIBUSDT',\n 'BAKEUSDT',\n 'GTCUSDT',\n 'ETHBUSD',\n 'BTCDOMUSDT',\n 'BNBBUSD',\n 'ADABUSD',\n 'XRPBUSD',\n 'IOTXUSDT',\n 'DOGEBUSD',\n 'AUDIOUSDT',\n 'RAYUSDT',\n 'C98USDT',\n 'MASKUSDT',\n 'ATAUSDT',\n 'SOLBUSD',\n 'FTTBUSD',\n 'DYDXUSDT',\n '1000XECUSDT',\n 'GALAUSDT',\n 'CELOUSDT',\n 'ARUSDT',\n 'KLAYUSDT',\n 'ARPAUSDT',\n 'CTSIUSDT',\n 'LPTUSDT',\n 'ENSUSDT',\n 'PEOPLEUSDT',\n 'ANTUSDT',\n 'ROSEUSDT',\n 'DUSKUSDT',\n 'FLOWUSDT',\n 'IMXUSDT',\n 'API3USDT',\n 'GMTUSDT',\n 'APEUSDT',\n 'WOOUSDT',\n 'FTTUSDT',\n 'JASMYUSDT',\n 'DARUSDT',\n 'GALUSDT',\n 'AVAXBUSD',\n 'NEARBUSD',\n 'GMTBUSD',\n 'APEBUSD',\n 'GALBUSD',\n 'FTMBUSD',\n 'DODOBUSD',\n 'ANCBUSD',\n 'GALABUSD',\n 'TRXBUSD',\n '1000LUNCBUSD',\n 'OPUSDT',\n 'DOTBUSD',\n 'TLMBUSD',\n 'WAVESBUSD',\n 'LINKBUSD',\n 'SANDBUSD',\n 'LTCBUSD',\n 'MATICBUSD',\n 'CVXBUSD',\n 'FILBUSD',\n '1000SHIBBUSD',\n 'LEVERBUSD',\n 'ETCBUSD',\n 'LDOBUSD',\n 'UNIBUSD',\n 'AUCTIONBUSD',\n 'INJUSDT',\n 'STGUSDT',\n 'FOOTBALLUSDT',\n 'SPELLUSDT',\n '1000LUNCUSDT',\n 'LUNA2USDT',\n 'AMBBUSD',\n 'PHBBUSD',\n 'LDOUSDT',\n 'CVXUSDT',\n 'ICPUSDT',\n 'APTUSDT',\n 'QNTUSDT',\n 'APTBUSD',\n 'BLUEBIRDUSDT',\n 'FETUSDT',\n 'AGIXBUSD',\n 'FXSUSDT',\n 'HOOKUSDT',\n 'MAGICUSDT',\n 'TUSDT',\n 'RNDRUSDT',\n 'HIGHUSDT',\n 'MINAUSDT',\n 'ASTRUSDT',\n 'AGIXUSDT',\n 'PHBUSDT',\n 'GMXUSDT',\n 'CFXUSDT',\n 'STXUSDT',\n 'COCOSUSDT',\n 'BNXUSDT',\n 'ACHUSDT',\n 'SSVUSDT',\n 'CKBUSDT',\n 'PERPUSDT',\n 'TRUUSDT',\n 'LQTYUSDT',\n 'USDCUSDT',\n 'IDUSDT',\n 'ARBUSDT',\n 'JOEUSDT',\n 'TLMUSDT',\n 'AMBUSDT',\n 'LEVERUSDT',\n 'RDNTUSDT',\n 'HFTUSDT',\n 'XVSUSDT',\n 'ETHBTC',\n 'BLURUSDT',\n 'EDUUSDT',\n 'IDEXUSDT',\n 'SUIUSDT',\n '1000PEPEUSDT',\n '1000FLOKIUSDT',\n 'UMAUSDT',\n 'RADUSDT',\n 'KEYUSDT',\n 'COMBOUSDT',\n 'NMRUSDT',\n 'BTCUSDT_230929',\n 'ETHUSDT_230929',\n 'MAVUSDT',\n 'MDTUSDT',\n 'XVGUSDT']"
     },
     "execution_count": 21,
     "metadata": {},
     "output_type": "execute_result"
    }
   ],
   "source": [
    "data_dumper.get_list_all_trading_pairs()"
   ],
   "metadata": {
    "collapsed": false,
    "pycharm": {
     "name": "#%%\n"
    }
   }
  },
  {
   "cell_type": "code",
   "execution_count": 28,
   "outputs": [
    {
     "data": {
      "text/plain": "'./futures/um/daily/klines/BTCUSD/30m'"
     },
     "execution_count": 28,
     "metadata": {},
     "output_type": "execute_result"
    }
   ],
   "source": [
    "data_dumper.get_local_dir_to_data(ticker=\"BTCUSD\", timeperiod_per_file=\"daily\")"
   ],
   "metadata": {
    "collapsed": false,
    "pycharm": {
     "name": "#%%\n"
    }
   }
  },
  {
   "cell_type": "code",
   "execution_count": 26,
   "outputs": [
    {
     "name": "stdout",
     "output_type": "stream",
     "text": [
      "2020-01-01\n"
     ]
    }
   ],
   "source": [
    "print(data_dumper.get_min_start_date_for_ticker(ticker=\"BTCUSDT\"))"
   ],
   "metadata": {
    "collapsed": false,
    "pycharm": {
     "name": "#%%\n"
    }
   }
  },
  {
   "cell_type": "code",
   "execution_count": 27,
   "outputs": [
    {
     "name": "stdout",
     "output_type": "stream",
     "text": [
      "[datetime.date(2023, 1, 1), datetime.date(2023, 2, 1), datetime.date(2023, 3, 1), datetime.date(2023, 4, 1), datetime.date(2023, 5, 1), datetime.date(2023, 6, 1)]\n"
     ]
    }
   ],
   "source": [
    "print(data_dumper.get_all_dates_with_data_for_ticker(ticker=\"BTCUSDT\"))"
   ],
   "metadata": {
    "collapsed": false,
    "pycharm": {
     "name": "#%%\n"
    }
   }
  }
 ],
 "metadata": {
  "kernelspec": {
   "display_name": "Python 3",
   "language": "python",
   "name": "python3"
  },
  "language_info": {
   "codemirror_mode": {
    "name": "ipython",
    "version": 2
   },
   "file_extension": ".py",
   "mimetype": "text/x-python",
   "name": "python",
   "nbconvert_exporter": "python",
   "pygments_lexer": "ipython2",
   "version": "2.7.6"
  }
 },
 "nbformat": 4,
 "nbformat_minor": 0
}