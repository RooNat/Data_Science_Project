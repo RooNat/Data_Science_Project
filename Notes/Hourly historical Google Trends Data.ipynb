{
 "cells": [
  {
   "cell_type": "markdown",
   "metadata": {
    "pycharm": {
     "name": "#%% md\n"
    }
   },
   "source": [
    "# Get hourly Google Trends Data for (Time Series) Analysis via Python API\n",
    "\n",
    "Google Trends is a service which provides meaningful insights on relative search requests on Google. The data can be accessed via the webside https://trends.google.com or Python/R API. In this tutorial I ll show you how to process the data via Python API to get historical and hourly long term Google Trends data.\n",
    "\n",
    "Google will return relative values between 0 and 100 for your query of an specific keyword. Whereas 0 means lowest search volumne and 100 the highest. A challange I experienced was that that the API returns only about 200 data points for your specified time period. That means if you querie data for one year, you will get about 200 data points, resulting in one data point every 365/~200 days which is scaled from 0 to 100. If you want hourly data, you need to query timeframes, which have about 200 data points and combine them - for example one week = 7*24 = 168 data points. But since your data will be scaled from 0 to 100 for each week of your query, your overall scaling will be wrong. That means, you can not get hourly and correctly scaled trends data for longer time periods without further processing. To get the correct scaling you need to overlap the weeks and calculate a ratio with which you will obtain the proper scaling."
   ]
  },
  {
   "cell_type": "code",
   "execution_count": 252,
   "metadata": {
    "pycharm": {
     "name": "#%%\n"
    }
   },
   "outputs": [],
   "source": [
    "import datetime\n",
    "from pytrends.request import TrendReq # pip install pytrends - Written for both Python 2.7+ and Python 3.3+\n",
    "import  pandas as pd\n",
    "import numpy as np\n",
    "# import matplotlib.pyplot as plt"
   ]
  },
  {
   "cell_type": "code",
   "execution_count": 253,
   "metadata": {
    "pycharm": {
     "name": "#%%\n"
    }
   },
   "outputs": [],
   "source": [
    "\"\"\"Specify start and end date as well es the requiered keyword for your query\"\"\"\n",
    "start_date = datetime.date(2021, 12, 31)\n",
    "end_date = datetime.date(2022, 2, 4)\n",
    "keyword_list = [\"BTC\"] # If you add a second string, minor adjustments in the code have to be made"
   ]
  },
  {
   "cell_type": "code",
   "execution_count": 254,
   "metadata": {
    "pycharm": {
     "name": "#%%\n"
    }
   },
   "outputs": [],
   "source": [
    "\"\"\"Since we want weekly data for our query, we will create lists which include \n",
    "the weekly start and end date in the specified timeframe - 2018.01.01 to 2019.5.01\"\"\"\n",
    "\n",
    "weekly_date_list = []\n",
    "\n",
    "#Adds the start date as first entry in our weekly_date_list\n",
    "start_date_temp = start_date\n",
    "weekly_date_list.append(start_date_temp)\n",
    "\n",
    "#This will return in list of weekly datetime.date objects - except the end date\n",
    "while start_date_temp+datetime.timedelta(days=7) <= end_date:\n",
    "    start_date_temp += datetime.timedelta(days=7)\n",
    "    weekly_date_list.append(start_date_temp)\n",
    "\n",
    "#This will add the end date to the weekly_date list. We now have a complete list in the specified timeframe\n",
    "if start_date_temp+datetime.timedelta(days=7) > end_date:\n",
    "    weekly_date_list.append(end_date)"
   ]
  },
  {
   "cell_type": "code",
   "execution_count": 255,
   "metadata": {
    "pycharm": {
     "name": "#%%\n"
    }
   },
   "outputs": [
    {
     "data": {
      "text/plain": "[datetime.date(2021, 12, 31),\n datetime.date(2022, 1, 7),\n datetime.date(2022, 1, 14),\n datetime.date(2022, 1, 21),\n datetime.date(2022, 1, 28),\n datetime.date(2022, 2, 4),\n datetime.date(2022, 2, 4)]"
     },
     "execution_count": 255,
     "metadata": {},
     "output_type": "execute_result"
    }
   ],
   "source": [
    "weekly_date_list"
   ]
  },
  {
   "cell_type": "code",
   "execution_count": 256,
   "metadata": {
    "pycharm": {
     "name": "#%%\n"
    }
   },
   "outputs": [
    {
     "name": "stdout",
     "output_type": "stream",
     "text": [
      "2021-12-31T0 2022-01-07T0\n",
      "GoogleTrends Call 1 of 6 : Timeframe: 2021-12-31T0 2022-01-07T0 \n",
      "2022-01-07T0 2022-01-14T0\n",
      "GoogleTrends Call 2 of 6 : Timeframe: 2022-01-07T0 2022-01-14T0 \n",
      "2022-01-14T0 2022-01-21T0\n",
      "GoogleTrends Call 3 of 6 : Timeframe: 2022-01-14T0 2022-01-21T0 \n",
      "2022-01-21T0 2022-01-28T0\n",
      "GoogleTrends Call 4 of 6 : Timeframe: 2022-01-21T0 2022-01-28T0 \n",
      "2022-01-28T0 2022-02-04T0\n",
      "GoogleTrends Call 5 of 6 : Timeframe: 2022-01-28T0 2022-02-04T0 \n",
      "2022-02-04T0 2022-02-04T0\n",
      "GoogleTrends Call 6 of 6 : Timeframe: 2022-02-04T0 2022-02-04T0 \n"
     ]
    }
   ],
   "source": [
    "\"\"\"Now we can start to downloading the data via Google Trends API\n",
    "therefore we have to specify a key which includes the start date\n",
    "and the end-date with T00 as string for hourly data request\"\"\"\n",
    "\n",
    "#This List will contain pandas Dataframes of weekly data with the features \"date\",\n",
    "#\"keyword\"(which contains weekly scaling bettwen 0 and 100), \"isPartial\".\n",
    "#Up to this point, the scaling is not correct.\n",
    "interest_list = []\n",
    "\n",
    "#Here we download the data and print the current status of the process\n",
    "for i in range(len(weekly_date_list)-1):\n",
    "    key =str(weekly_date_list[i])+\"T0 \"+str(weekly_date_list[i+1])+\"T0\"\n",
    "    p = TrendReq(retries=3,backoff_factor=0.5)\n",
    "    p.build_payload(kw_list=keyword_list, timeframe=key)\n",
    "    interest=p.interest_over_time()\n",
    "    # interest.drop(columns=['isPartial'],inplace=True)\n",
    "    interest_list.append(interest)\n",
    "    print(\"GoogleTrends Call {} of {} : Timeframe: {} \"\\\n",
    "          .format(i+1, len(weekly_date_list)-1, key )\n",
    "          )"
   ]
  },
  {
   "cell_type": "code",
   "execution_count": 257,
   "outputs": [
    {
     "data": {
      "text/plain": "[                     BTC  isPartial\n date                               \n 2021-12-31 00:00:00   33      False\n 2021-12-31 01:00:00   31      False\n 2021-12-31 02:00:00   29      False\n 2021-12-31 03:00:00   33      False\n 2021-12-31 04:00:00   30      False\n ...                  ...        ...\n 2022-01-06 20:00:00   61      False\n 2022-01-06 21:00:00   55      False\n 2022-01-06 22:00:00   49      False\n 2022-01-06 23:00:00   50      False\n 2022-01-07 00:00:00   57      False\n \n [169 rows x 2 columns],\n                      BTC  isPartial\n date                               \n 2022-01-07 00:00:00   59      False\n 2022-01-07 01:00:00   53      False\n 2022-01-07 02:00:00   57      False\n 2022-01-07 03:00:00   59      False\n 2022-01-07 04:00:00  100      False\n ...                  ...        ...\n 2022-01-13 20:00:00   47      False\n 2022-01-13 21:00:00   53      False\n 2022-01-13 22:00:00   50      False\n 2022-01-13 23:00:00   49      False\n 2022-01-14 00:00:00   41      False\n \n [169 rows x 2 columns],\n                      BTC  isPartial\n date                               \n 2022-01-14 00:00:00   65      False\n 2022-01-14 01:00:00   62      False\n 2022-01-14 02:00:00   62      False\n 2022-01-14 03:00:00   58      False\n 2022-01-14 04:00:00   69      False\n ...                  ...        ...\n 2022-01-20 20:00:00   59      False\n 2022-01-20 21:00:00   78      False\n 2022-01-20 22:00:00   87      False\n 2022-01-20 23:00:00  100      False\n 2022-01-21 00:00:00   83      False\n \n [169 rows x 2 columns],\n                      BTC  isPartial\n date                               \n 2022-01-21 00:00:00   34      False\n 2022-01-21 01:00:00   32      False\n 2022-01-21 02:00:00   45      False\n 2022-01-21 03:00:00   52      False\n 2022-01-21 04:00:00   69      False\n ...                  ...        ...\n 2022-01-27 20:00:00   37      False\n 2022-01-27 21:00:00   37      False\n 2022-01-27 22:00:00   38      False\n 2022-01-27 23:00:00   30      False\n 2022-01-28 00:00:00   34      False\n \n [169 rows x 2 columns],\n                      BTC  isPartial\n date                               \n 2022-01-28 00:00:00   87      False\n 2022-01-28 01:00:00   87      False\n 2022-01-28 02:00:00   86      False\n 2022-01-28 03:00:00   74      False\n 2022-01-28 04:00:00   87      False\n ...                  ...        ...\n 2022-02-03 20:00:00   73      False\n 2022-02-03 21:00:00   75      False\n 2022-02-03 22:00:00   78      False\n 2022-02-03 23:00:00   72      False\n 2022-02-04 00:00:00   77      False\n \n [169 rows x 2 columns],\n Empty DataFrame\n Columns: []\n Index: []]"
     },
     "execution_count": 257,
     "metadata": {},
     "output_type": "execute_result"
    }
   ],
   "source": [
    "interest_list"
   ],
   "metadata": {
    "collapsed": false,
    "pycharm": {
     "name": "#%%\n"
    }
   }
  },
  {
   "cell_type": "code",
   "execution_count": 258,
   "metadata": {
    "pycharm": {
     "name": "#%%\n"
    }
   },
   "outputs": [],
   "source": [
    "for i,data in enumerate(interest_list):\n",
    "    dataframe=pd.DataFrame(data)\n",
    "    dataframe.to_csv(\"bitcoin{}.csv\".format(i))"
   ]
  },
  {
   "cell_type": "code",
   "execution_count": 259,
   "metadata": {
    "pycharm": {
     "name": "#%%\n"
    }
   },
   "outputs": [
    {
     "name": "stdout",
     "output_type": "stream",
     "text": [
      "1 of 5: Ratio = 0.9661016949152542, Scale 1st hour of week 1 = 59.0, scale last hour of week 0 = 57.0\n",
      "2 of 5: Ratio = 0.6307692307692307, Scale 1st hour of week 2 = 65.0, scale last hour of week 1 = 41.0\n",
      "3 of 5: Ratio = 2.4411764705882355, Scale 1st hour of week 3 = 34.0, scale last hour of week 2 = 83.0\n",
      "4 of 5: Ratio = 0.39080459770114945, Scale 1st hour of week 4 = 87.0, scale last hour of week 3 = 34.0\n"
     ]
    },
    {
     "ename": "KeyError",
     "evalue": "'BTC'",
     "output_type": "error",
     "traceback": [
      "\u001B[0;31m---------------------------------------------------------------------------\u001B[0m",
      "\u001B[0;31mKeyError\u001B[0m                                  Traceback (most recent call last)",
      "File \u001B[0;32m~/anaconda3/envs/Condabase/lib/python3.8/site-packages/pandas/core/indexes/base.py:3621\u001B[0m, in \u001B[0;36mIndex.get_loc\u001B[0;34m(self, key, method, tolerance)\u001B[0m\n\u001B[1;32m   3620\u001B[0m \u001B[38;5;28;01mtry\u001B[39;00m:\n\u001B[0;32m-> 3621\u001B[0m     \u001B[38;5;28;01mreturn\u001B[39;00m \u001B[38;5;28;43mself\u001B[39;49m\u001B[38;5;241;43m.\u001B[39;49m\u001B[43m_engine\u001B[49m\u001B[38;5;241;43m.\u001B[39;49m\u001B[43mget_loc\u001B[49m\u001B[43m(\u001B[49m\u001B[43mcasted_key\u001B[49m\u001B[43m)\u001B[49m\n\u001B[1;32m   3622\u001B[0m \u001B[38;5;28;01mexcept\u001B[39;00m \u001B[38;5;167;01mKeyError\u001B[39;00m \u001B[38;5;28;01mas\u001B[39;00m err:\n",
      "File \u001B[0;32m~/anaconda3/envs/Condabase/lib/python3.8/site-packages/pandas/_libs/index.pyx:136\u001B[0m, in \u001B[0;36mpandas._libs.index.IndexEngine.get_loc\u001B[0;34m()\u001B[0m\n",
      "File \u001B[0;32m~/anaconda3/envs/Condabase/lib/python3.8/site-packages/pandas/_libs/index.pyx:163\u001B[0m, in \u001B[0;36mpandas._libs.index.IndexEngine.get_loc\u001B[0;34m()\u001B[0m\n",
      "File \u001B[0;32mpandas/_libs/hashtable_class_helper.pxi:5198\u001B[0m, in \u001B[0;36mpandas._libs.hashtable.PyObjectHashTable.get_item\u001B[0;34m()\u001B[0m\n",
      "File \u001B[0;32mpandas/_libs/hashtable_class_helper.pxi:5206\u001B[0m, in \u001B[0;36mpandas._libs.hashtable.PyObjectHashTable.get_item\u001B[0;34m()\u001B[0m\n",
      "\u001B[0;31mKeyError\u001B[0m: 'BTC'",
      "\nThe above exception was the direct cause of the following exception:\n",
      "\u001B[0;31mKeyError\u001B[0m                                  Traceback (most recent call last)",
      "Cell \u001B[0;32mIn[259], line 11\u001B[0m\n\u001B[1;32m      8\u001B[0m \u001B[38;5;66;03m#here we apply the correction parameter to all dfs in the interest list except interest_list[0]\u001B[39;00m\n\u001B[1;32m      9\u001B[0m \u001B[38;5;28;01mfor\u001B[39;00m i \u001B[38;5;129;01min\u001B[39;00m \u001B[38;5;28mrange\u001B[39m(\u001B[38;5;28mlen\u001B[39m(interest_list)\u001B[38;5;241m-\u001B[39m\u001B[38;5;241m1\u001B[39m):\n\u001B[1;32m     10\u001B[0m     \u001B[38;5;66;03m#Calculation of the ratio\u001B[39;00m\n\u001B[0;32m---> 11\u001B[0m     ratio \u001B[38;5;241m=\u001B[39m \u001B[38;5;28mfloat\u001B[39m(interest_list[i][keyword_list[\u001B[38;5;241m0\u001B[39m]]\u001B[38;5;241m.\u001B[39miloc[\u001B[38;5;241m-\u001B[39m\u001B[38;5;241m1\u001B[39m])\u001B[38;5;241m/\u001B[39m\u001B[38;5;28mfloat\u001B[39m(\u001B[43minterest_list\u001B[49m\u001B[43m[\u001B[49m\u001B[43mi\u001B[49m\u001B[38;5;241;43m+\u001B[39;49m\u001B[38;5;241;43m1\u001B[39;49m\u001B[43m]\u001B[49m\u001B[43m[\u001B[49m\u001B[43mkeyword_list\u001B[49m\u001B[43m[\u001B[49m\u001B[38;5;241;43m0\u001B[39;49m\u001B[43m]\u001B[49m\u001B[43m]\u001B[49m\u001B[38;5;241m.\u001B[39miloc[\u001B[38;5;241m0\u001B[39m]) \n\u001B[1;32m     12\u001B[0m     ratio_list\u001B[38;5;241m.\u001B[39mappend(ratio)\n\u001B[1;32m     13\u001B[0m     \u001B[38;5;28mprint\u001B[39m(\u001B[38;5;124m\"\u001B[39m\u001B[38;5;132;01m{}\u001B[39;00m\u001B[38;5;124m of \u001B[39m\u001B[38;5;132;01m{}\u001B[39;00m\u001B[38;5;124m: Ratio = \u001B[39m\u001B[38;5;132;01m{}\u001B[39;00m\u001B[38;5;124m, Scale 1st hour of week \u001B[39m\u001B[38;5;132;01m{}\u001B[39;00m\u001B[38;5;124m = \u001B[39m\u001B[38;5;132;01m{}\u001B[39;00m\u001B[38;5;124m, scale last hour of week \u001B[39m\u001B[38;5;132;01m{}\u001B[39;00m\u001B[38;5;124m = \u001B[39m\u001B[38;5;132;01m{}\u001B[39;00m\u001B[38;5;124m\"\u001B[39m\\\n\u001B[1;32m     14\u001B[0m           \u001B[38;5;241m.\u001B[39mformat(i\u001B[38;5;241m+\u001B[39m\u001B[38;5;241m1\u001B[39m, \u001B[38;5;28mlen\u001B[39m(interest_list)\u001B[38;5;241m-\u001B[39m\u001B[38;5;241m1\u001B[39m, ratio_list[i],\n\u001B[1;32m     15\u001B[0m                   i\u001B[38;5;241m+\u001B[39m\u001B[38;5;241m1\u001B[39m, \u001B[38;5;28mfloat\u001B[39m(interest_list[i\u001B[38;5;241m+\u001B[39m\u001B[38;5;241m1\u001B[39m][keyword_list[\u001B[38;5;241m0\u001B[39m]]\u001B[38;5;241m.\u001B[39miloc[\u001B[38;5;241m0\u001B[39m]),\n\u001B[1;32m     16\u001B[0m                   i ,\u001B[38;5;28mfloat\u001B[39m(interest_list[i][keyword_list[\u001B[38;5;241m0\u001B[39m]]\u001B[38;5;241m.\u001B[39miloc[\u001B[38;5;241m-\u001B[39m\u001B[38;5;241m1\u001B[39m]),\n\u001B[1;32m     17\u001B[0m                   )\n\u001B[1;32m     18\u001B[0m           )\n",
      "File \u001B[0;32m~/anaconda3/envs/Condabase/lib/python3.8/site-packages/pandas/core/frame.py:3505\u001B[0m, in \u001B[0;36mDataFrame.__getitem__\u001B[0;34m(self, key)\u001B[0m\n\u001B[1;32m   3503\u001B[0m \u001B[38;5;28;01mif\u001B[39;00m \u001B[38;5;28mself\u001B[39m\u001B[38;5;241m.\u001B[39mcolumns\u001B[38;5;241m.\u001B[39mnlevels \u001B[38;5;241m>\u001B[39m \u001B[38;5;241m1\u001B[39m:\n\u001B[1;32m   3504\u001B[0m     \u001B[38;5;28;01mreturn\u001B[39;00m \u001B[38;5;28mself\u001B[39m\u001B[38;5;241m.\u001B[39m_getitem_multilevel(key)\n\u001B[0;32m-> 3505\u001B[0m indexer \u001B[38;5;241m=\u001B[39m \u001B[38;5;28;43mself\u001B[39;49m\u001B[38;5;241;43m.\u001B[39;49m\u001B[43mcolumns\u001B[49m\u001B[38;5;241;43m.\u001B[39;49m\u001B[43mget_loc\u001B[49m\u001B[43m(\u001B[49m\u001B[43mkey\u001B[49m\u001B[43m)\u001B[49m\n\u001B[1;32m   3506\u001B[0m \u001B[38;5;28;01mif\u001B[39;00m is_integer(indexer):\n\u001B[1;32m   3507\u001B[0m     indexer \u001B[38;5;241m=\u001B[39m [indexer]\n",
      "File \u001B[0;32m~/anaconda3/envs/Condabase/lib/python3.8/site-packages/pandas/core/indexes/base.py:3623\u001B[0m, in \u001B[0;36mIndex.get_loc\u001B[0;34m(self, key, method, tolerance)\u001B[0m\n\u001B[1;32m   3621\u001B[0m     \u001B[38;5;28;01mreturn\u001B[39;00m \u001B[38;5;28mself\u001B[39m\u001B[38;5;241m.\u001B[39m_engine\u001B[38;5;241m.\u001B[39mget_loc(casted_key)\n\u001B[1;32m   3622\u001B[0m \u001B[38;5;28;01mexcept\u001B[39;00m \u001B[38;5;167;01mKeyError\u001B[39;00m \u001B[38;5;28;01mas\u001B[39;00m err:\n\u001B[0;32m-> 3623\u001B[0m     \u001B[38;5;28;01mraise\u001B[39;00m \u001B[38;5;167;01mKeyError\u001B[39;00m(key) \u001B[38;5;28;01mfrom\u001B[39;00m \u001B[38;5;21;01merr\u001B[39;00m\n\u001B[1;32m   3624\u001B[0m \u001B[38;5;28;01mexcept\u001B[39;00m \u001B[38;5;167;01mTypeError\u001B[39;00m:\n\u001B[1;32m   3625\u001B[0m     \u001B[38;5;66;03m# If we have a listlike key, _check_indexing_error will raise\u001B[39;00m\n\u001B[1;32m   3626\u001B[0m     \u001B[38;5;66;03m#  InvalidIndexError. Otherwise we fall through and re-raise\u001B[39;00m\n\u001B[1;32m   3627\u001B[0m     \u001B[38;5;66;03m#  the TypeError.\u001B[39;00m\n\u001B[1;32m   3628\u001B[0m     \u001B[38;5;28mself\u001B[39m\u001B[38;5;241m.\u001B[39m_check_indexing_error(key)\n",
      "\u001B[0;31mKeyError\u001B[0m: 'BTC'"
     ]
    }
   ],
   "source": [
    "\"\"\"Now we have to rescale our weekly data. We can do this\n",
    "by overlapping the weekly timeframes by one data point.\"\"\"\n",
    "\n",
    "#We define a ratio list, which includes the correction parameters =\n",
    "#(scaling last hour of week i / scaling first hour of week i+1)\n",
    "ratio_list = []\n",
    "\n",
    "#here we apply the correction parameter to all dfs in the interest list except interest_list[0]\n",
    "for i in range(len(interest_list)-1):\n",
    "    #Calculation of the ratio\n",
    "    ratio = float(interest_list[i][keyword_list[0]].iloc[-1])/float(interest_list[i+1][keyword_list[0]].iloc[0]) \n",
    "    ratio_list.append(ratio)\n",
    "    print(\"{} of {}: Ratio = {}, Scale 1st hour of week {} = {}, scale last hour of week {} = {}\"\\\n",
    "          .format(i+1, len(interest_list)-1, ratio_list[i],\n",
    "                  i+1, float(interest_list[i+1][keyword_list[0]].iloc[0]),\n",
    "                  i ,float(interest_list[i][keyword_list[0]].iloc[-1]),\n",
    "                  )\n",
    "          )\n",
    "    #Multiply the ratio with the scales of week i+1\n",
    "    #Therefore we add the column \"Scale\" and multiply times the value in ratio_list[i]\n",
    "    #The make the calculations work for round i+1, we overwrite the values column of the df[keyword] with df[\"Scale\"] in the interest list\n",
    "    interest_list[0][\"Scale_{}\".format(keyword_list)] = interest_list[0][keyword_list[0]]\n",
    "    interest_list[i+1][\"Scale_{}\".format(keyword_list)] = interest_list[i+1][keyword_list[0]].apply(lambda x:x*ratio_list[i])\n",
    "    # interest_list[i+1][keyword_list[0]] = interest_list[i+1][\"Scale_{}\".format(keyword_list)]"
   ]
  },
  {
   "cell_type": "code",
   "execution_count": 260,
   "metadata": {
    "pycharm": {
     "name": "#%%\n"
    }
   },
   "outputs": [
    {
     "data": {
      "text/plain": "                     Scale_['BTC']\ndate                              \n2021-12-31 00:00:00           33.0\n2021-12-31 01:00:00           31.0\n2021-12-31 02:00:00           29.0\n2021-12-31 03:00:00           33.0\n2021-12-31 04:00:00           30.0",
      "text/html": "<div>\n<style scoped>\n    .dataframe tbody tr th:only-of-type {\n        vertical-align: middle;\n    }\n\n    .dataframe tbody tr th {\n        vertical-align: top;\n    }\n\n    .dataframe thead th {\n        text-align: right;\n    }\n</style>\n<table border=\"1\" class=\"dataframe\">\n  <thead>\n    <tr style=\"text-align: right;\">\n      <th></th>\n      <th>Scale_['BTC']</th>\n    </tr>\n    <tr>\n      <th>date</th>\n      <th></th>\n    </tr>\n  </thead>\n  <tbody>\n    <tr>\n      <th>2021-12-31 00:00:00</th>\n      <td>33.0</td>\n    </tr>\n    <tr>\n      <th>2021-12-31 01:00:00</th>\n      <td>31.0</td>\n    </tr>\n    <tr>\n      <th>2021-12-31 02:00:00</th>\n      <td>29.0</td>\n    </tr>\n    <tr>\n      <th>2021-12-31 03:00:00</th>\n      <td>33.0</td>\n    </tr>\n    <tr>\n      <th>2021-12-31 04:00:00</th>\n      <td>30.0</td>\n    </tr>\n  </tbody>\n</table>\n</div>"
     },
     "execution_count": 260,
     "metadata": {},
     "output_type": "execute_result"
    }
   ],
   "source": [
    "\"\"\"We now combine the dataframes in the interest list to a Pandas Dataframe.\n",
    "The data has the correct scaling now. But not yet in the range of 0 and 100.\"\"\"\n",
    "df = pd.concat(interest_list)\n",
    "df.drop(labels = keyword_list[0] , axis = 1, inplace = True)\n",
    "df.drop(labels = \"isPartial\", axis = 1, inplace = True)\n",
    "df.head(5)"
   ]
  },
  {
   "cell_type": "code",
   "execution_count": 261,
   "outputs": [
    {
     "data": {
      "text/plain": "                     Scale_['BTC']\ndate                              \n2021-12-31 00:00:00      33.000000\n2021-12-31 01:00:00      31.000000\n2021-12-31 02:00:00      29.000000\n2021-12-31 03:00:00      33.000000\n2021-12-31 04:00:00      30.000000\n...                            ...\n2022-02-03 20:00:00      28.528736\n2022-02-03 21:00:00      29.310345\n2022-02-03 22:00:00      30.482759\n2022-02-03 23:00:00      28.137931\n2022-02-04 00:00:00      30.091954\n\n[845 rows x 1 columns]",
      "text/html": "<div>\n<style scoped>\n    .dataframe tbody tr th:only-of-type {\n        vertical-align: middle;\n    }\n\n    .dataframe tbody tr th {\n        vertical-align: top;\n    }\n\n    .dataframe thead th {\n        text-align: right;\n    }\n</style>\n<table border=\"1\" class=\"dataframe\">\n  <thead>\n    <tr style=\"text-align: right;\">\n      <th></th>\n      <th>Scale_['BTC']</th>\n    </tr>\n    <tr>\n      <th>date</th>\n      <th></th>\n    </tr>\n  </thead>\n  <tbody>\n    <tr>\n      <th>2021-12-31 00:00:00</th>\n      <td>33.000000</td>\n    </tr>\n    <tr>\n      <th>2021-12-31 01:00:00</th>\n      <td>31.000000</td>\n    </tr>\n    <tr>\n      <th>2021-12-31 02:00:00</th>\n      <td>29.000000</td>\n    </tr>\n    <tr>\n      <th>2021-12-31 03:00:00</th>\n      <td>33.000000</td>\n    </tr>\n    <tr>\n      <th>2021-12-31 04:00:00</th>\n      <td>30.000000</td>\n    </tr>\n    <tr>\n      <th>...</th>\n      <td>...</td>\n    </tr>\n    <tr>\n      <th>2022-02-03 20:00:00</th>\n      <td>28.528736</td>\n    </tr>\n    <tr>\n      <th>2022-02-03 21:00:00</th>\n      <td>29.310345</td>\n    </tr>\n    <tr>\n      <th>2022-02-03 22:00:00</th>\n      <td>30.482759</td>\n    </tr>\n    <tr>\n      <th>2022-02-03 23:00:00</th>\n      <td>28.137931</td>\n    </tr>\n    <tr>\n      <th>2022-02-04 00:00:00</th>\n      <td>30.091954</td>\n    </tr>\n  </tbody>\n</table>\n<p>845 rows × 1 columns</p>\n</div>"
     },
     "execution_count": 261,
     "metadata": {},
     "output_type": "execute_result"
    }
   ],
   "source": [
    "df"
   ],
   "metadata": {
    "collapsed": false,
    "pycharm": {
     "name": "#%%\n"
    }
   }
  },
  {
   "cell_type": "code",
   "execution_count": 262,
   "metadata": {
    "pycharm": {
     "name": "#%%\n"
    }
   },
   "outputs": [
    {
     "data": {
      "text/plain": "'As last step we scale the data back like google to a range between 0 and 100.'"
     },
     "execution_count": 262,
     "metadata": {},
     "output_type": "execute_result"
    }
   ],
   "source": [
    "\"\"\"As last step we scale the data back like google to a range between 0 and 100.\"\"\"\n",
    "max_interest = np.max(df[\"Scale_{}\".format(keyword_list)])\n",
    "df[\"Scale_{}\".format(keyword_list)]=df[\"Scale_{}\".format(keyword_list)]/max_interest*100"
   ]
  },
  {
   "cell_type": "code",
   "execution_count": 263,
   "metadata": {
    "pycharm": {
     "name": "#%%\n"
    }
   },
   "outputs": [
    {
     "data": {
      "text/plain": "                     Scale_['BTC']\ndate                              \n2021-12-31 00:00:00      33.000000\n2021-12-31 01:00:00      31.000000\n2021-12-31 02:00:00      29.000000\n2021-12-31 03:00:00      33.000000\n2021-12-31 04:00:00      30.000000\n...                            ...\n2022-02-03 20:00:00      28.528736\n2022-02-03 21:00:00      29.310345\n2022-02-03 22:00:00      30.482759\n2022-02-03 23:00:00      28.137931\n2022-02-04 00:00:00      30.091954\n\n[845 rows x 1 columns]",
      "text/html": "<div>\n<style scoped>\n    .dataframe tbody tr th:only-of-type {\n        vertical-align: middle;\n    }\n\n    .dataframe tbody tr th {\n        vertical-align: top;\n    }\n\n    .dataframe thead th {\n        text-align: right;\n    }\n</style>\n<table border=\"1\" class=\"dataframe\">\n  <thead>\n    <tr style=\"text-align: right;\">\n      <th></th>\n      <th>Scale_['BTC']</th>\n    </tr>\n    <tr>\n      <th>date</th>\n      <th></th>\n    </tr>\n  </thead>\n  <tbody>\n    <tr>\n      <th>2021-12-31 00:00:00</th>\n      <td>33.000000</td>\n    </tr>\n    <tr>\n      <th>2021-12-31 01:00:00</th>\n      <td>31.000000</td>\n    </tr>\n    <tr>\n      <th>2021-12-31 02:00:00</th>\n      <td>29.000000</td>\n    </tr>\n    <tr>\n      <th>2021-12-31 03:00:00</th>\n      <td>33.000000</td>\n    </tr>\n    <tr>\n      <th>2021-12-31 04:00:00</th>\n      <td>30.000000</td>\n    </tr>\n    <tr>\n      <th>...</th>\n      <td>...</td>\n    </tr>\n    <tr>\n      <th>2022-02-03 20:00:00</th>\n      <td>28.528736</td>\n    </tr>\n    <tr>\n      <th>2022-02-03 21:00:00</th>\n      <td>29.310345</td>\n    </tr>\n    <tr>\n      <th>2022-02-03 22:00:00</th>\n      <td>30.482759</td>\n    </tr>\n    <tr>\n      <th>2022-02-03 23:00:00</th>\n      <td>28.137931</td>\n    </tr>\n    <tr>\n      <th>2022-02-04 00:00:00</th>\n      <td>30.091954</td>\n    </tr>\n  </tbody>\n</table>\n<p>845 rows × 1 columns</p>\n</div>"
     },
     "execution_count": 263,
     "metadata": {},
     "output_type": "execute_result"
    }
   ],
   "source": [
    "df"
   ]
  },
  {
   "cell_type": "code",
   "execution_count": 264,
   "metadata": {
    "pycharm": {
     "name": "#%%\n"
    }
   },
   "outputs": [
    {
     "data": {
      "text/plain": "       Scale_['BTC']\ncount     845.000000\nmean       59.204887\nstd        38.185079\nmin        24.620690\n25%        35.953846\n50%        44.153846\n75%        62.796610\nmax       244.117647",
      "text/html": "<div>\n<style scoped>\n    .dataframe tbody tr th:only-of-type {\n        vertical-align: middle;\n    }\n\n    .dataframe tbody tr th {\n        vertical-align: top;\n    }\n\n    .dataframe thead th {\n        text-align: right;\n    }\n</style>\n<table border=\"1\" class=\"dataframe\">\n  <thead>\n    <tr style=\"text-align: right;\">\n      <th></th>\n      <th>Scale_['BTC']</th>\n    </tr>\n  </thead>\n  <tbody>\n    <tr>\n      <th>count</th>\n      <td>845.000000</td>\n    </tr>\n    <tr>\n      <th>mean</th>\n      <td>59.204887</td>\n    </tr>\n    <tr>\n      <th>std</th>\n      <td>38.185079</td>\n    </tr>\n    <tr>\n      <th>min</th>\n      <td>24.620690</td>\n    </tr>\n    <tr>\n      <th>25%</th>\n      <td>35.953846</td>\n    </tr>\n    <tr>\n      <th>50%</th>\n      <td>44.153846</td>\n    </tr>\n    <tr>\n      <th>75%</th>\n      <td>62.796610</td>\n    </tr>\n    <tr>\n      <th>max</th>\n      <td>244.117647</td>\n    </tr>\n  </tbody>\n</table>\n</div>"
     },
     "execution_count": 264,
     "metadata": {},
     "output_type": "execute_result"
    }
   ],
   "source": [
    "df.describe()"
   ]
  },
  {
   "cell_type": "code",
   "execution_count": 265,
   "metadata": {
    "pycharm": {
     "name": "#%%\n"
    }
   },
   "outputs": [
    {
     "data": {
      "text/plain": "[<matplotlib.lines.Line2D at 0x15f6c4160>]"
     },
     "execution_count": 265,
     "metadata": {},
     "output_type": "execute_result"
    },
    {
     "data": {
      "text/plain": "<Figure size 640x480 with 1 Axes>",
      "image/png": "[encoded data removed]"
     },
     "metadata": {},
     "output_type": "display_data"
    }
   ],
   "source": [
    "import matplotlib.pyplot as plt\n",
    "plt.plot(df)"
   ]
  },
  {
   "cell_type": "markdown",
   "source": [
    "Done. The result shows the hourly google search volumne of the specified timeframe. Maybe there are daily, weekly or yearly patterns? Explore the data. Maybe you can later add the google trends feature as input parameter of an machine learning model for time series prediction."
   ],
   "metadata": {
    "collapsed": false,
    "pycharm": {
     "name": "#%% md\n"
    }
   }
  },
  {
   "cell_type": "code",
   "execution_count": 163,
   "outputs": [],
   "source": [],
   "metadata": {
    "collapsed": false,
    "pycharm": {
     "name": "#%%\n"
    }
   }
  }
 ],
 "metadata": {
  "kernelspec": {
   "display_name": "Python 3",
   "language": "python",
   "name": "python3"
  },
  "language_info": {
   "codemirror_mode": {
    "name": "ipython",
    "version": 3
   },
   "file_extension": ".py",
   "mimetype": "text/x-python",
   "name": "python",
   "nbconvert_exporter": "python",
   "pygments_lexer": "ipython3",
   "version": "3.6.4"
  }
 },
 "nbformat": 4,
 "nbformat_minor": 2
}